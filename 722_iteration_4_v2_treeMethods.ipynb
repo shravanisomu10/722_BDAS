{
 "cells": [
  {
   "cell_type": "code",
   "execution_count": 1,
   "id": "bd43f5a1-4362-40bc-9f15-63b17003bde8",
   "metadata": {},
   "outputs": [],
   "source": [
    "# import some fundamental libraires\n",
    "import pyspark\n",
    "from pyspark.sql import SparkSession"
   ]
  },
  {
   "cell_type": "code",
   "execution_count": 2,
   "id": "c7b19acf-1215-4d25-95f6-26d08c1fb2eb",
   "metadata": {},
   "outputs": [
    {
     "name": "stderr",
     "output_type": "stream",
     "text": [
      "WARNING: An illegal reflective access operation has occurred\n",
      "WARNING: Illegal reflective access by org.apache.spark.unsafe.Platform (file:/home/ubuntu/.local/lib/python3.10/site-packages/pyspark/jars/spark-unsafe_2.12-3.2.1.jar) to constructor java.nio.DirectByteBuffer(long,int)\n",
      "WARNING: Please consider reporting this to the maintainers of org.apache.spark.unsafe.Platform\n",
      "WARNING: Use --illegal-access=warn to enable warnings of further illegal reflective access operations\n",
      "WARNING: All illegal access operations will be denied in a future release\n",
      "Using Spark's default log4j profile: org/apache/spark/log4j-defaults.properties\n",
      "Setting default log level to \"WARN\".\n",
      "To adjust logging level use sc.setLogLevel(newLevel). For SparkR, use setLogLevel(newLevel).\n",
      "24/05/26 11:41:51 WARN NativeCodeLoader: Unable to load native-hadoop library for your platform... using builtin-java classes where applicable\n"
     ]
    }
   ],
   "source": [
    "# Create a SparkSession\n",
    "spark = SparkSession.builder.appName(\"CSV Import Example\").getOrCreate()"
   ]
  },
  {
   "cell_type": "code",
   "execution_count": 3,
   "id": "bdccf9b7-f57c-44ef-a689-3bc1b027fc5a",
   "metadata": {},
   "outputs": [
    {
     "name": "stderr",
     "output_type": "stream",
     "text": [
      "                                                                                \r"
     ]
    }
   ],
   "source": [
    "# file path to csv file\n",
    "file_path = \"output_file_first_half.csv\"\n",
    "file_path2 = \"output_file_second_half.csv\"\n",
    "\n",
    "# Read the CSV file into a DataFrame\n",
    "df = spark.read.csv(file_path, header=True, inferSchema=True)\n",
    "df_2 = spark.read.csv(file_path2, header=True, inferSchema=True)"
   ]
  },
  {
   "cell_type": "code",
   "execution_count": 4,
   "id": "01e98f37-7410-4601-8bfb-7c93fb3a375b",
   "metadata": {},
   "outputs": [
    {
     "name": "stdout",
     "output_type": "stream",
     "text": [
      "total colums in dataset output_file_first_half.csv is:  146\n",
      "total row count in dataset output_file_first_half.csv is:  50000\n",
      "total colums in dataset output_file_second_half.csv is:  146\n",
      "total row count in dataset output_file_second_half.csv is:  50000\n"
     ]
    }
   ],
   "source": [
    "# show the size of the dataframe\n",
    "# Get the total number of columns\n",
    "num_columns = len(df.columns)\n",
    "print(f\"total colums in dataset {file_path} is: \" ,num_columns)\n",
    "\n",
    "row_count = df.count()\n",
    "print(f\"total row count in dataset {file_path} is: \" ,row_count)\n",
    "\n",
    "\n",
    "# show the size of the dataframe for second set \n",
    "# Get the total number of columns\n",
    "num_columns = len(df_2.columns)\n",
    "print(f\"total colums in dataset {file_path2} is: \" ,num_columns)\n",
    "\n",
    "row_count = df_2.count()\n",
    "print(f\"total row count in dataset {file_path2} is: \" ,row_count)"
   ]
  },
  {
   "cell_type": "code",
   "execution_count": 5,
   "id": "4f396435-e7df-4090-8a04-6915962db684",
   "metadata": {},
   "outputs": [
    {
     "name": "stderr",
     "output_type": "stream",
     "text": [
      "24/05/26 11:42:05 WARN CSVHeaderChecker: CSV header does not conform to the schema.\n",
      " Header: , id, member_id, loan_amnt, funded_amnt, funded_amnt_inv, term, int_rate, installment, grade, sub_grade, emp_title, emp_length, home_ownership, annual_inc, verification_status, issue_d, loan_status, pymnt_plan, url\n",
      " Schema: _c0, id, member_id, loan_amnt, funded_amnt, funded_amnt_inv, term, int_rate, installment, grade, sub_grade, emp_title, emp_length, home_ownership, annual_inc, verification_status, issue_d, loan_status, pymnt_plan, url\n",
      "Expected: _c0 but found: \n",
      "CSV file: file:///home/ubuntu/722_BDAS/output_file_first_half.csv\n"
     ]
    },
    {
     "name": "stdout",
     "output_type": "stream",
     "text": [
      "+-------+----+---------+---------+-----------+---------------+----------+--------+-----------+-----+---------+--------------------+----------+--------------+----------+-------------------+--------+-----------+----------+----+\n",
      "|    _c0|  id|member_id|loan_amnt|funded_amnt|funded_amnt_inv|      term|int_rate|installment|grade|sub_grade|           emp_title|emp_length|home_ownership|annual_inc|verification_status| issue_d|loan_status|pymnt_plan| url|\n",
      "+-------+----+---------+---------+-----------+---------------+----------+--------+-----------+-----+---------+--------------------+----------+--------------+----------+-------------------+--------+-----------+----------+----+\n",
      "|1758049|null|     null|    35000|      35000|        35000.0| 36 months|   12.12|    1164.51|    B|       B3|Legacy Physicians...|  < 1 year|          RENT|   90000.0|           Verified|Jun-2013| Fully Paid|         n|null|\n",
      "| 686533|null|     null|    30000|      30000|        30000.0| 60 months|   10.75|     648.54|    B|       B4| Director of nursing|   2 years|          RENT|  100000.0|           Verified|Apr-2016|    Current|         n|null|\n",
      "| 900721|null|     null|    15000|      15000|        15000.0| 36 months|    7.49|     466.53|    A|       A4|             Partner|   5 years|           OWN|  100000.0|    Source Verified|Oct-2016| Fully Paid|         n|null|\n",
      "|1727912|null|     null|    24000|      24000|        24000.0| 60 months|   21.15|     651.31|    E|       E2|Einstein Bros. Ba...|   5 years|          RENT|   58000.0|    Source Verified|Sep-2013| Fully Paid|         n|null|\n",
      "| 539691|null|     null|    14400|      14400|        14400.0| 36 months|    8.59|     455.18|    A|       A5|  Nurse practitioner|   3 years|      MORTGAGE|   90000.0|       Not Verified|Aug-2016|    Current|         n|null|\n",
      "|2153213|null|     null|     5000|       5000|         5000.0| 36 months|    9.93|     161.18|    B|       B2|          Accountant|  < 1 year|          RENT|   46750.0|       Not Verified|Dec-2017| Fully Paid|         n|null|\n",
      "|  47643|null|     null|    25600|      25600|        25600.0| 60 months|    8.81|     529.06|    A|       A5|Cabinet Design an...|    1 year|      MORTGAGE|   35000.0|    Source Verified|Nov-2018|    Current|         n|null|\n",
      "|1360732|null|     null|     6550|       6550|         6550.0| 36 months|   24.74|     259.53|    E|       E3|  Over night stocker|   9 years|      MORTGAGE|   42000.0|    Source Verified|Mar-2017| Fully Paid|         n|null|\n",
      "|1779694|null|     null|    12000|      12000|        12000.0| 36 months|   14.33|     412.06|    C|       C1|      City of Aurora| 10+ years|      MORTGAGE|  107499.0|       Not Verified|Apr-2013| Fully Paid|         n|null|\n",
      "| 511378|null|     null|    21000|      21000|        21000.0| 36 months|   17.99|      759.1|    D|       D2|            EKG Tech|   3 years|          RENT|   85000.0|    Source Verified|Sep-2016|    Current|         n|null|\n",
      "| 506300|null|     null|    15500|      15500|        15500.0| 60 months|   19.99|     410.57|    D|       D4|             Analyst|   5 years|      MORTGAGE|   77500.0|    Source Verified|Sep-2016|    Current|         n|null|\n",
      "|1262689|null|     null|    14750|      14750|        14750.0| 60 months|   24.99|     432.85|    F|       F4|    Police Detective| 10+ years|          RENT|  160000.0|    Source Verified|Apr-2015|Charged Off|         n|null|\n",
      "|1094496|null|     null|    20000|      20000|        20000.0| 60 months|    7.89|     404.48|    A|       A5|                null|      null|           OWN|   72000.0|       Not Verified|Aug-2015|    Current|         n|null|\n",
      "| 578794|null|     null|    18000|      18000|        18000.0| 36 months|    7.99|     563.98|    A|       A4| Sr Systems Engineer|  < 1 year|      MORTGAGE|  150000.0|       Not Verified|Jul-2016| Fully Paid|         n|null|\n",
      "|1421198|null|     null|    16000|      16000|        16000.0| 36 months|    8.24|     503.16|    B|       B1|                  RN|   2 years|      MORTGAGE|  115000.0|           Verified|Jan-2017|    Current|         n|null|\n",
      "|1228621|null|     null|    30000|      30000|        30000.0| 60 months|   17.86|     759.52|    D|       D5|        truck driver|   9 years|      MORTGAGE|   70000.0|           Verified|May-2015| Fully Paid|         n|null|\n",
      "| 992325|null|     null|    12000|      12000|        12000.0| 36 months|   13.18|     405.37|    C|       C3|    Warehouse Worker|   4 years|      MORTGAGE|   50000.0|    Source Verified|Nov-2015|Charged Off|         n|null|\n",
      "|  93762|null|     null|     5000|       5000|         5000.0| 36 months|   11.55|      165.0|    B|       B4|             Manager|   9 years|      MORTGAGE|   75000.0|    Source Verified|Oct-2018|    Current|         n|null|\n",
      "| 754133|null|     null|    35000|      35000|        35000.0| 60 months|   10.75|     756.63|    B|       B4|      Senior Counsel|   5 years|      MORTGAGE|  197000.0|           Verified|Mar-2016|    Current|         n|null|\n",
      "|1815417|null|     null|    25000|      25000|        25000.0| 60 months|   17.77|     631.72|    D|       D1| Transfield Services|   5 years|      MORTGAGE|  104000.0|           Verified|Dec-2012| Fully Paid|         n|null|\n",
      "+-------+----+---------+---------+-----------+---------------+----------+--------+-----------+-----+---------+--------------------+----------+--------------+----------+-------------------+--------+-----------+----------+----+\n",
      "only showing top 20 rows\n",
      "\n"
     ]
    },
    {
     "name": "stderr",
     "output_type": "stream",
     "text": [
      "24/05/26 11:42:05 WARN CSVHeaderChecker: CSV header does not conform to the schema.\n",
      " Header: , id, member_id, loan_amnt, funded_amnt, funded_amnt_inv, term, int_rate, installment, grade, sub_grade, emp_title, emp_length, home_ownership, annual_inc, verification_status, issue_d, loan_status, pymnt_plan, url\n",
      " Schema: _c0, id, member_id, loan_amnt, funded_amnt, funded_amnt_inv, term, int_rate, installment, grade, sub_grade, emp_title, emp_length, home_ownership, annual_inc, verification_status, issue_d, loan_status, pymnt_plan, url\n",
      "Expected: _c0 but found: \n",
      "CSV file: file:///home/ubuntu/722_BDAS/output_file_first_half.csv\n"
     ]
    },
    {
     "name": "stdout",
     "output_type": "stream",
     "text": [
      "+-------+----+---------+---------+-----------+---------------+----------+--------+-----------+-----+---------+--------------------+----------+--------------+----------+-------------------+--------+-----------+----------+----+\n",
      "|    _c0|  id|member_id|loan_amnt|funded_amnt|funded_amnt_inv|      term|int_rate|installment|grade|sub_grade|           emp_title|emp_length|home_ownership|annual_inc|verification_status| issue_d|loan_status|pymnt_plan| url|\n",
      "+-------+----+---------+---------+-----------+---------------+----------+--------+-----------+-----+---------+--------------------+----------+--------------+----------+-------------------+--------+-----------+----------+----+\n",
      "|1758049|null|     null|    35000|      35000|        35000.0| 36 months|   12.12|    1164.51|    B|       B3|Legacy Physicians...|  < 1 year|          RENT|   90000.0|           Verified|Jun-2013| Fully Paid|         n|null|\n",
      "| 686533|null|     null|    30000|      30000|        30000.0| 60 months|   10.75|     648.54|    B|       B4| Director of nursing|   2 years|          RENT|  100000.0|           Verified|Apr-2016|    Current|         n|null|\n",
      "| 900721|null|     null|    15000|      15000|        15000.0| 36 months|    7.49|     466.53|    A|       A4|             Partner|   5 years|           OWN|  100000.0|    Source Verified|Oct-2016| Fully Paid|         n|null|\n",
      "|1727912|null|     null|    24000|      24000|        24000.0| 60 months|   21.15|     651.31|    E|       E2|Einstein Bros. Ba...|   5 years|          RENT|   58000.0|    Source Verified|Sep-2013| Fully Paid|         n|null|\n",
      "| 539691|null|     null|    14400|      14400|        14400.0| 36 months|    8.59|     455.18|    A|       A5|  Nurse practitioner|   3 years|      MORTGAGE|   90000.0|       Not Verified|Aug-2016|    Current|         n|null|\n",
      "|2153213|null|     null|     5000|       5000|         5000.0| 36 months|    9.93|     161.18|    B|       B2|          Accountant|  < 1 year|          RENT|   46750.0|       Not Verified|Dec-2017| Fully Paid|         n|null|\n",
      "|  47643|null|     null|    25600|      25600|        25600.0| 60 months|    8.81|     529.06|    A|       A5|Cabinet Design an...|    1 year|      MORTGAGE|   35000.0|    Source Verified|Nov-2018|    Current|         n|null|\n",
      "|1360732|null|     null|     6550|       6550|         6550.0| 36 months|   24.74|     259.53|    E|       E3|  Over night stocker|   9 years|      MORTGAGE|   42000.0|    Source Verified|Mar-2017| Fully Paid|         n|null|\n",
      "|1779694|null|     null|    12000|      12000|        12000.0| 36 months|   14.33|     412.06|    C|       C1|      City of Aurora| 10+ years|      MORTGAGE|  107499.0|       Not Verified|Apr-2013| Fully Paid|         n|null|\n",
      "| 511378|null|     null|    21000|      21000|        21000.0| 36 months|   17.99|      759.1|    D|       D2|            EKG Tech|   3 years|          RENT|   85000.0|    Source Verified|Sep-2016|    Current|         n|null|\n",
      "| 506300|null|     null|    15500|      15500|        15500.0| 60 months|   19.99|     410.57|    D|       D4|             Analyst|   5 years|      MORTGAGE|   77500.0|    Source Verified|Sep-2016|    Current|         n|null|\n",
      "|1262689|null|     null|    14750|      14750|        14750.0| 60 months|   24.99|     432.85|    F|       F4|    Police Detective| 10+ years|          RENT|  160000.0|    Source Verified|Apr-2015|Charged Off|         n|null|\n",
      "|1094496|null|     null|    20000|      20000|        20000.0| 60 months|    7.89|     404.48|    A|       A5|                null|      null|           OWN|   72000.0|       Not Verified|Aug-2015|    Current|         n|null|\n",
      "| 578794|null|     null|    18000|      18000|        18000.0| 36 months|    7.99|     563.98|    A|       A4| Sr Systems Engineer|  < 1 year|      MORTGAGE|  150000.0|       Not Verified|Jul-2016| Fully Paid|         n|null|\n",
      "|1421198|null|     null|    16000|      16000|        16000.0| 36 months|    8.24|     503.16|    B|       B1|                  RN|   2 years|      MORTGAGE|  115000.0|           Verified|Jan-2017|    Current|         n|null|\n",
      "|1228621|null|     null|    30000|      30000|        30000.0| 60 months|   17.86|     759.52|    D|       D5|        truck driver|   9 years|      MORTGAGE|   70000.0|           Verified|May-2015| Fully Paid|         n|null|\n",
      "| 992325|null|     null|    12000|      12000|        12000.0| 36 months|   13.18|     405.37|    C|       C3|    Warehouse Worker|   4 years|      MORTGAGE|   50000.0|    Source Verified|Nov-2015|Charged Off|         n|null|\n",
      "|  93762|null|     null|     5000|       5000|         5000.0| 36 months|   11.55|      165.0|    B|       B4|             Manager|   9 years|      MORTGAGE|   75000.0|    Source Verified|Oct-2018|    Current|         n|null|\n",
      "| 754133|null|     null|    35000|      35000|        35000.0| 60 months|   10.75|     756.63|    B|       B4|      Senior Counsel|   5 years|      MORTGAGE|  197000.0|           Verified|Mar-2016|    Current|         n|null|\n",
      "|1815417|null|     null|    25000|      25000|        25000.0| 60 months|   17.77|     631.72|    D|       D1| Transfield Services|   5 years|      MORTGAGE|  104000.0|           Verified|Dec-2012| Fully Paid|         n|null|\n",
      "+-------+----+---------+---------+-----------+---------------+----------+--------+-----------+-----+---------+--------------------+----------+--------------+----------+-------------------+--------+-----------+----------+----+\n",
      "only showing top 20 rows\n",
      "\n",
      "+----+------------------+--------------------+--------+----------+-----+-----------+----------------+--------------+----------------------+----------------------+--------+-------+---------+----------+---------+-------------------+---------+-------------+----------------+\n",
      "|desc|           purpose|               title|zip_code|addr_state|  dti|delinq_2yrs|earliest_cr_line|inq_last_6mths|mths_since_last_delinq|mths_since_last_record|open_acc|pub_rec|revol_bal|revol_util|total_acc|initial_list_status|out_prncp|out_prncp_inv|     total_pymnt|\n",
      "+----+------------------+--------------------+--------+----------+-----+-----------+----------------+--------------+----------------------+----------------------+--------+-------+---------+----------+---------+-------------------+---------+-------------+----------------+\n",
      "|null|debt_consolidation|      Hospital Debt |   775xx|        TX| 3.51|        0.0|        Nov-1997|           0.0|                  26.0|                  null|    14.0|    0.0|     1347|       8.1|     22.0|                  w|      0.0|          0.0|        36606.09|\n",
      "|null|       credit_card|Credit card refin...|   782xx|        TX|22.85|        0.0|        Jun-2011|           2.0|                  null|                  null|    17.0|    0.0|    29780|      52.7|     25.0|                  f| 14987.66|     14987.66|        22115.61|\n",
      "|null|    small_business|            Business|   210xx|        MD| 6.71|        0.0|        Apr-1996|           0.0|                  null|                  null|    16.0|    0.0|     7425|      10.3|     25.0|                  w|      0.0|          0.0|16052.0529426592|\n",
      "|null|debt_consolidation|  Debt Consolidation|   282xx|        NC| 15.5|        0.0|        Aug-1998|           0.0|                  null|                  null|    10.0|    0.0|    24123|      72.2|     15.0|                  f|      0.0|          0.0|39078.3232394871|\n",
      "|null|debt_consolidation|  Debt consolidation|   658xx|        MO|19.88|        0.0|        Dec-2003|           0.0|                  41.0|                  null|    19.0|    0.0|    16615|      49.9|     48.0|                  w|  2663.68|      2663.68|        13648.53|\n",
      "|null|       credit_card|Credit card refin...|   085xx|        NJ|11.09|        0.0|        Nov-2000|           1.0|                  null|                  null|     8.0|    0.0|     5449|      13.2|     11.0|                  w|      0.0|          0.0| 5064.7924929831|\n",
      "|null|       credit_card|Credit card refin...|   305xx|        GA|14.09|        0.0|        Apr-2003|           0.0|                  null|                  null|     4.0|    0.0|    16184|      76.0|      9.0|                  w| 24569.13|     24569.13|         1574.65|\n",
      "|null|             other|               Other|   444xx|        OH|18.71|        0.0|        Nov-2006|           3.0|                  null|                  null|     3.0|    0.0|     4751|      60.9|      8.0|                  f|      0.0|          0.0| 8459.3397341582|\n",
      "|null|debt_consolidation|  bill consolidation|   605xx|        IL| 1.55|        0.0|        Jul-1993|           1.0|                  43.0|                  null|     4.0|    0.0|     3995|      72.6|     12.0|                  f|      0.0|          0.0|14827.3269855467|\n",
      "|null|debt_consolidation|  Debt consolidation|   945xx|        CA|11.98|        2.0|        Mar-2007|           0.0|                   8.0|                  99.0|    10.0|    1.0|      457|       2.6|     19.0|                  w|  5011.63|      5011.63|        22049.64|\n",
      "|null|debt_consolidation|  Debt consolidation|   217xx|        MD|19.09|        0.0|        Dec-2002|           0.0|                  null|                  null|     9.0|    0.0|    30373|      74.6|     27.0|                  w|  9878.18|      9878.18|        11889.32|\n",
      "|null|debt_consolidation|  Debt consolidation|   333xx|        FL|11.04|        0.0|        Jun-1997|           2.0|                  60.0|                  46.0|    26.0|    1.0|    10118|      40.8|     53.0|                  f|      0.0|          0.0|        11755.71|\n",
      "|null|debt_consolidation|  Debt consolidation|   280xx|        NC|28.58|        0.0|        Jul-1994|           0.0|                  null|                  null|    18.0|    0.0|   126901|      39.6|     48.0|                  f|  6844.87|      6844.87|        16979.39|\n",
      "|null|       credit_card|Credit card refin...|   201xx|        VA| 8.47|        0.0|        Dec-1992|           0.0|                  null|                  null|    11.0|    0.0|    41021|      87.0|     34.0|                  w|      0.0|          0.0| 20243.380006926|\n",
      "|null|       credit_card|Credit card refin...|   804xx|        CO|22.16|        1.0|        Oct-2004|           0.0|                  18.0|                  null|    15.0|    0.0|    95340|      87.0|     32.0|                  w|  5313.17|      5313.17|        12564.35|\n",
      "|null|debt_consolidation|  Debt consolidation|   448xx|        OH|17.16|        0.0|        Feb-1999|           0.0|                  39.0|                  null|     8.0|    0.0|     8285|      39.3|     11.0|                  w|      0.0|          0.0| 40739.869618519|\n",
      "|null|debt_consolidation|  Debt consolidation|   350xx|        AL|33.94|        0.0|        Oct-1999|           0.0|                  null|                  null|     7.0|    0.0|     7305|      78.0|     11.0|                  f|      0.0|          0.0|        11750.75|\n",
      "|null|       credit_card|Credit card refin...|   310xx|        GA|25.71|        0.0|        Jan-1991|           3.0|                  25.0|                  null|     9.0|    0.0|      206|       0.9|     21.0|                  w|  4525.71|      4525.71|          656.79|\n",
      "|null|       credit_card|Credit card refin...|   069xx|        CT|19.05|        0.0|        Nov-1998|           3.0|                  null|                  null|    10.0|    0.0|    73019|      63.0|     28.0|                  w| 16879.78|     16879.78|        26461.15|\n",
      "|null|debt_consolidation|Debt Consolidatio...|   928xx|        CA| 16.7|        0.0|        Mar-1994|           3.0|                  null|                  null|    13.0|    0.0|    45794|      75.3|     33.0|                  f|      0.0|          0.0|        35966.74|\n",
      "+----+------------------+--------------------+--------+----------+-----+-----------+----------------+--------------+----------------------+----------------------+--------+-------+---------+----------+---------+-------------------+---------+-------------+----------------+\n",
      "only showing top 20 rows\n",
      "\n"
     ]
    },
    {
     "name": "stdout",
     "output_type": "stream",
     "text": [
      "+---------------+---------------+-------------+------------------+----------+-----------------------+------------+---------------+------------+------------------+--------------------------+---------------------------+-----------+----------------+----------------+---------+-------------------------+--------------+------------+-----------+\n",
      "|total_pymnt_inv|total_rec_prncp|total_rec_int|total_rec_late_fee|recoveries|collection_recovery_fee|last_pymnt_d|last_pymnt_amnt|next_pymnt_d|last_credit_pull_d|collections_12_mths_ex_med|mths_since_last_major_derog|policy_code|application_type|annual_inc_joint|dti_joint|verification_status_joint|acc_now_delinq|tot_coll_amt|tot_cur_bal|\n",
      "+---------------+---------------+-------------+------------------+----------+-----------------------+------------+---------------+------------+------------------+--------------------------+---------------------------+-----------+----------------+----------------+---------+-------------------------+--------------+------------+-----------+\n",
      "|       36606.09|        35000.0|      1606.09|               0.0|       0.0|                    0.0|    Dec-2013|        4783.54|        null|          Jan-2014|                       0.0|                       26.0|          1|      Individual|            null|     null|                     null|           0.0|         0.0|    81768.0|\n",
      "|       22115.61|       15012.34|      7103.27|               0.0|       0.0|                    0.0|    Feb-2019|         648.54|    Mar-2019|          Feb-2019|                       0.0|                       null|          1|      Individual|            null|     null|                     null|           0.0|         0.0|    65689.0|\n",
      "|       16052.05|        15000.0|      1052.05|               0.0|       0.0|                    0.0|    Nov-2017|       10466.17|        null|          Dec-2017|                       0.0|                       null|          1|      Individual|            null|     null|                     null|           0.0|         0.0|   150276.0|\n",
      "|       39078.32|        24000.0|     15078.32|               0.0|       0.0|                    0.0|    Sep-2018|         651.03|        null|          Feb-2019|                       0.0|                       null|          1|      Individual|            null|     null|                     null|           0.0|         0.0|    27496.0|\n",
      "|       13648.53|       11736.32|      1912.21|               0.0|       0.0|                    0.0|    Feb-2019|         455.18|    Mar-2019|          Feb-2019|                       0.0|                       null|          1|      Individual|            null|     null|                     null|           0.0|         0.0|   131564.0|\n",
      "|        5064.79|         5000.0|        64.79|               0.0|       0.0|                    0.0|    Feb-2018|        1526.25|        null|          Dec-2018|                       0.0|                       null|          1|      Individual|            null|     null|                     null|           0.0|         0.0|    31584.0|\n",
      "|        1574.65|        1030.87|       543.78|               0.0|       0.0|                    0.0|    Feb-2019|         529.06|    Mar-2019|          Feb-2019|                       0.0|                       null|          1|      Individual|            null|     null|                     null|           0.0|         0.0|    16184.0|\n",
      "|        8459.34|         6550.0|      1909.34|               0.0|       0.0|                    0.0|    Aug-2018|        4324.87|        null|          Aug-2018|                       0.0|                       null|          1|      Individual|            null|     null|                     null|           0.0|         0.0|    58160.0|\n",
      "|       14827.33|        12000.0|      2827.33|               0.0|       0.0|                    0.0|    Mar-2016|         392.28|        null|          Feb-2019|                       0.0|                       null|          1|      Individual|            null|     null|                     null|           0.0|         0.0|     3995.0|\n",
      "|       22049.64|       15988.37|      6061.27|               0.0|       0.0|                    0.0|    Feb-2019|          759.1|    Mar-2019|          Feb-2019|                       0.0|                       null|          1|      Individual|            null|     null|                     null|           0.0|         0.0|    24228.0|\n",
      "|       11889.32|        5621.82|       6267.5|               0.0|       0.0|                    0.0|    Feb-2019|         410.57|    Mar-2019|          Feb-2019|                       0.0|                       null|          1|      Individual|            null|     null|                     null|           0.0|         0.0|   362168.0|\n",
      "|       11755.71|        3862.18|      6395.66|               0.0|   1497.87|          269.616599998|    Mar-2017|         432.85|        null|          Sep-2017|                       0.0|                       66.0|          1|      Individual|            null|     null|                     null|           0.0|       341.0|    59561.0|\n",
      "|       16979.39|       13155.13|      3824.26|               0.0|       0.0|                    0.0|    Feb-2019|         404.48|    Mar-2019|          Feb-2019|                       0.0|                       null|          1|      Individual|            null|     null|                     null|           0.0|         0.0|   148733.0|\n",
      "|       20243.38|        18000.0|      2243.38|               0.0|       0.0|                    0.0|    Jan-2019|        4424.87|        null|          Feb-2019|                       0.0|                       null|          1|      Individual|            null|     null|                     null|           0.0|         0.0|   460185.0|\n",
      "|       12564.35|       10686.83|      1877.52|               0.0|       0.0|                    0.0|    Feb-2019|         503.16|    Mar-2019|          Feb-2019|                       1.0|                        4.0|          1|      Individual|            null|     null|                     null|           0.0|       113.0|   680096.0|\n",
      "|       40739.87|        30000.0|     10739.87|               0.0|       0.0|                    0.0|    Oct-2017|       19510.66|        null|          Sep-2018|                       0.0|                       null|          1|      Individual|            null|     null|                     null|           0.0|        25.0|   187101.0|\n",
      "|       11750.75|        9281.66|      2469.09|               0.0|       0.0|                    0.0|    Apr-2018|         405.37|        null|          Mar-2018|                       0.0|                       45.0|          1|      Individual|            null|     null|                     null|           0.0|         0.0|   185104.0|\n",
      "|         656.79|         474.29|        182.5|               0.0|       0.0|                    0.0|    Feb-2019|          165.0|    Mar-2019|          Feb-2019|                       0.0|                       25.0|          1|      Individual|            null|     null|                     null|           0.0|         0.0|   372970.0|\n",
      "|       26461.15|       18120.22|      8340.93|               0.0|       0.0|                    0.0|    Feb-2019|         756.63|    Mar-2019|          Feb-2019|                       0.0|                       null|          1|      Individual|            null|     null|                     null|           0.0|         0.0|   968955.0|\n",
      "|       35966.74|        25000.0|     10966.74|               0.0|       0.0|                    0.0|    Mar-2016|       11961.38|        null|          Mar-2016|                       0.0|                       null|          1|      Individual|            null|     null|                     null|           0.0|         0.0|   460458.0|\n",
      "+---------------+---------------+-------------+------------------+----------+-----------------------+------------+---------------+------------+------------------+--------------------------+---------------------------+-----------+----------------+----------------+---------+-------------------------+--------------+------------+-----------+\n",
      "only showing top 20 rows\n",
      "\n",
      "+-----------+-----------+-----------+-----------+------------------+------------+-------+-----------+-----------+----------+--------+----------------+------+-----------+------------+--------------------+-----------+--------------+-------+------------------------+\n",
      "|open_acc_6m|open_act_il|open_il_12m|open_il_24m|mths_since_rcnt_il|total_bal_il|il_util|open_rv_12m|open_rv_24m|max_bal_bc|all_util|total_rev_hi_lim|inq_fi|total_cu_tl|inq_last_12m|acc_open_past_24mths|avg_cur_bal|bc_open_to_buy|bc_util|chargeoff_within_12_mths|\n",
      "+-----------+-----------+-----------+-----------+------------------+------------+-------+-----------+-----------+----------+--------+----------------+------+-----------+------------+--------------------+-----------+--------------+-------+------------------------+\n",
      "|       null|       null|       null|       null|              null|        null|   null|       null|       null|      null|    null|         16700.0|  null|       null|        null|                 1.0|     5841.0|       12053.0|   10.1|                     0.0|\n",
      "|        0.0|        2.0|        0.0|        1.0|              22.0|     35909.0|   64.0|        0.0|        3.0|    7525.0|    58.0|         56500.0|   4.0|        9.0|         5.0|                 4.0|     3864.0|       12126.0|   60.6|                     0.0|\n",
      "|        0.0|        1.0|        0.0|        0.0|              30.0|      9148.0|   58.0|        1.0|        4.0|    3673.0|    19.0|         72300.0|   2.0|        1.0|         1.0|                 4.0|     9392.0|       45813.0|   12.4|                     0.0|\n",
      "|       null|       null|       null|       null|              null|        null|   null|       null|       null|      null|    null|         33400.0|  null|       null|        null|                 2.0|     2750.0|        1447.0|   93.0|                     0.0|\n",
      "|        0.0|        8.0|        0.0|        1.0|              19.0|    114949.0|  107.0|        0.0|        0.0|    2745.0|    93.0|         33300.0|   0.0|        0.0|         1.0|                 1.0|     7309.0|       11121.0|   46.3|                     0.0|\n",
      "|        2.0|        2.0|        1.0|        1.0|               2.0|     26135.0|   84.0|        1.0|        2.0|    5448.0|    44.0|         41200.0|   1.0|        0.0|         1.0|                 3.0|     3948.0|       34752.0|   13.6|                     0.0|\n",
      "|        1.0|        0.0|        0.0|        0.0|             162.0|         0.0|   null|        1.0|        2.0|   11812.0|    76.0|         21300.0|   0.0|        0.0|         0.0|                 2.0|     4046.0|        4116.0|   79.7|                     0.0|\n",
      "|        1.0|        2.0|        0.0|        1.0|              18.0|     53409.0|   46.0|        1.0|        1.0|    4751.0|    53.0|          7800.0|   2.0|        0.0|         3.0|                 2.0|    19387.0|        3049.0|   60.9|                     0.0|\n",
      "|       null|       null|       null|       null|              null|        null|   null|       null|       null|      null|    null|          5500.0|  null|       null|        null|                 1.0|     1332.0|           0.0|  106.0|                     0.0|\n",
      "|        0.0|        2.0|        2.0|        3.0|               7.0|     23771.0|   83.0|        0.0|        0.0|       8.0|    52.0|         17800.0|   2.0|        0.0|         4.0|                 3.0|     2423.0|        5484.0|    0.3|                     0.0|\n",
      "|        1.0|        2.0|        1.0|        2.0|              10.0|     22504.0|   84.0|        2.0|        2.0|   15640.0|    78.0|         40700.0|   0.0|        0.0|         0.0|                 5.0|    40241.0|        2084.0|   93.5|                     0.0|\n",
      "|       null|       null|       null|       null|              null|        null|   null|       null|       null|      null|    null|         24800.0|  null|       null|        null|                19.0|     2590.0|        8231.0|   25.8|                     0.0|\n",
      "|       null|       null|       null|       null|              null|        null|   null|       null|       null|      null|    null|        207100.0|  null|       null|        null|                 2.0|     8749.0|       50728.0|   41.2|                     0.0|\n",
      "|        1.0|        1.0|        0.0|        1.0|              14.0|      5526.0|   99.0|        2.0|        3.0|   14133.0|    87.0|         47200.0|   0.0|        2.0|         2.0|                 5.0|    46018.0|        7850.0|   99.0|                     0.0|\n",
      "|        0.0|        9.0|        0.0|        1.0|              19.0|    186466.0|  102.0|        0.0|        1.0|    8075.0|    87.0|        109400.0|   0.0|        0.0|         1.0|                 2.0|    45339.0|        5917.0|   89.0|                     0.0|\n",
      "|       null|       null|       null|       null|              null|        null|   null|       null|       null|      null|    null|         21100.0|  null|       null|        null|                 5.0|    23388.0|        9490.0|   40.7|                     0.0|\n",
      "|       null|       null|       null|       null|              null|        null|   null|       null|       null|      null|    null|          9400.0|  null|       null|        null|                 6.0|    26443.0|        2350.0|   78.0|                     0.0|\n",
      "|        0.0|        2.0|        1.0|        2.0|               8.0|     84916.0|   null|        0.0|        1.0|      89.0|     1.0|         23600.0|   4.0|        0.0|         6.0|                 3.0|    41441.0|       11011.0|    0.8|                     0.0|\n",
      "|        1.0|        2.0|        1.0|        1.0|               7.0|     95650.0|   71.0|        1.0|        1.0|   48845.0|    63.0|        115200.0|   0.0|        1.0|         3.0|                 2.0|    96895.0|       22840.0|   64.0|                     0.0|\n",
      "|       null|       null|       null|       null|              null|        null|   null|       null|       null|      null|    null|         60800.0|  null|       null|        null|                 8.0|    41860.0|        8335.0|   57.9|                     0.0|\n",
      "+-----------+-----------+-----------+-----------+------------------+------------+-------+-----------+-----------+----------+--------+----------------+------+-----------+------------+--------------------+-----------+--------------+-------+------------------------+\n",
      "only showing top 20 rows\n",
      "\n"
     ]
    },
    {
     "name": "stdout",
     "output_type": "stream",
     "text": [
      "+-----------+------------------+--------------------+---------------------+--------------+--------+--------------------+------------------------+---------------------+------------------------------+---------------------+--------------+---------------+-----------+---------+---------+-------------+-------------+-------------------+--------+\n",
      "|delinq_amnt|mo_sin_old_il_acct|mo_sin_old_rev_tl_op|mo_sin_rcnt_rev_tl_op|mo_sin_rcnt_tl|mort_acc|mths_since_recent_bc|mths_since_recent_bc_dlq|mths_since_recent_inq|mths_since_recent_revol_delinq|num_accts_ever_120_pd|num_actv_bc_tl|num_actv_rev_tl|num_bc_sats|num_bc_tl|num_il_tl|num_op_rev_tl|num_rev_accts|num_rev_tl_bal_gt_0|num_sats|\n",
      "+-----------+------------------+--------------------+---------------------+--------------+--------+--------------------+------------------------+---------------------+------------------------------+---------------------+--------------+---------------+-----------+---------+---------+-------------+-------------+-------------------+--------+\n",
      "|        0.0|             169.0|               190.0|                 12.0|          12.0|     1.0|                55.0|                    null|                 null|                          null|                  1.0|           1.0|            1.0|        2.0|      3.0|     14.0|          5.0|          7.0|                1.0|    14.0|\n",
      "|        0.0|              49.0|                57.0|                 13.0|          13.0|     0.0|                25.0|                    null|                  0.0|                          null|                  0.0|           6.0|           10.0|        7.0|      8.0|      7.0|         15.0|         18.0|               10.0|    17.0|\n",
      "|        0.0|              96.0|               242.0|                 10.0|          10.0|     1.0|                17.0|                    null|                 10.0|                          null|                  1.0|           4.0|            6.0|        8.0|     10.0|      4.0|         13.0|         17.0|                6.0|    16.0|\n",
      "|        0.0|              90.0|               183.0|                 10.0|          10.0|     0.0|                10.0|                    null|                 10.0|                          null|                  0.0|           4.0|            7.0|        5.0|      7.0|      5.0|          8.0|         10.0|                7.0|    10.0|\n",
      "|        0.0|             144.0|               152.0|                 58.0|          19.0|     1.0|                87.0|                    41.0|                  3.0|                          41.0|                  0.0|           5.0|            8.0|        6.0|      7.0|     31.0|         11.0|         16.0|                8.0|    19.0|\n",
      "|        0.0|              64.0|               205.0|                  5.0|           2.0|     0.0|                 5.0|                    null|                  2.0|                          null|                  0.0|           1.0|            2.0|        5.0|      5.0|      4.0|          6.0|          7.0|                2.0|     8.0|\n",
      "|        0.0|             162.0|               187.0|                  0.0|           0.0|     0.0|                 0.0|                    null|                 13.0|                          null|                  0.0|           3.0|            3.0|        3.0|      4.0|      1.0|          4.0|          8.0|                3.0|     4.0|\n",
      "|        0.0|             124.0|                30.0|                  6.0|           6.0|     1.0|                 6.0|                    null|                  0.0|                          null|                  0.0|           1.0|            1.0|        1.0|      2.0|      5.0|          1.0|          2.0|                1.0|     3.0|\n",
      "|        0.0|             143.0|               241.0|                 19.0|          19.0|     4.0|                79.0|                    null|                  4.0|                          46.0|                  0.0|           1.0|            2.0|        1.0|      2.0|      2.0|          4.0|          6.0|                2.0|     4.0|\n",
      "|        0.0|             111.0|               114.0|                 26.0|           7.0|     0.0|                26.0|                     8.0|                  2.0|                           8.0|                  0.0|           2.0|            3.0|        4.0|      6.0|      8.0|          7.0|         11.0|                3.0|    10.0|\n",
      "|        0.0|             133.0|               165.0|                  6.0|           6.0|     2.0|                 6.0|                    null|                 23.0|                          null|                  0.0|           4.0|            5.0|        4.0|      8.0|      9.0|          6.0|         16.0|                5.0|     9.0|\n",
      "|        0.0|             145.0|               213.0|                  1.0|           1.0|     3.0|                 1.0|                    66.0|                  2.0|                          60.0|                  3.0|           1.0|            9.0|        6.0|     12.0|     17.0|         17.0|         33.0|                9.0|    26.0|\n",
      "|        0.0|             133.0|               253.0|                 45.0|           2.0|     2.0|                51.0|                    null|                 12.0|                          null|                  0.0|           5.0|           10.0|        8.0|     15.0|     12.0|         16.0|         34.0|               10.0|    18.0|\n",
      "|        0.0|             178.0|               283.0|                  1.0|           1.0|     7.0|                43.0|                    null|                 11.0|                          null|                  0.0|           4.0|            8.0|       12.0|     12.0|      4.0|          8.0|         24.0|                8.0|    10.0|\n",
      "|        0.0|             147.0|               101.0|                 13.0|          13.0|     2.0|                34.0|                    null|                 10.0|                          null|                  0.0|           3.0|            5.0|        5.0|      5.0|     21.0|          5.0|         10.0|                4.0|    15.0|\n",
      "|        0.0|              88.0|                90.0|                 15.0|           3.0|     4.0|                83.0|                    39.0|                  5.0|                          39.0|                  0.0|           2.0|            3.0|        2.0|      2.0|      3.0|          4.0|          4.0|                3.0|     8.0|\n",
      "|        0.0|              88.0|               193.0|                  6.0|           6.0|     1.0|                 6.0|                    null|                  7.0|                          null|                  0.0|           4.0|            4.0|        4.0|      4.0|      5.0|          4.0|          5.0|                4.0|     7.0|\n",
      "|        0.0|              45.0|               333.0|                 16.0|           8.0|     4.0|               167.0|                    27.0|                  0.0|                          27.0|                  1.0|           1.0|            2.0|        3.0|      7.0|      5.0|          6.0|         11.0|                2.0|     9.0|\n",
      "|        0.0|             162.0|               207.0|                  5.0|           5.0|     2.0|                 5.0|                    null|                  5.0|                          null|                  0.0|           5.0|            6.0|       10.0|     10.0|      7.0|          6.0|         17.0|                3.0|    10.0|\n",
      "|        0.0|             134.0|               228.0|                  1.0|           1.0|     6.0|                 6.0|                    null|                  1.0|                          null|                  0.0|           3.0|            6.0|        4.0|     11.0|      7.0|          9.0|         20.0|                6.0|    13.0|\n",
      "+-----------+------------------+--------------------+---------------------+--------------+--------+--------------------+------------------------+---------------------+------------------------------+---------------------+--------------+---------------+-----------+---------+---------+-------------+-------------+-------------------+--------+\n",
      "only showing top 20 rows\n",
      "\n"
     ]
    },
    {
     "name": "stdout",
     "output_type": "stream",
     "text": [
      "+----------------+------------+------------------+------------------+--------------+----------------+--------------------+---------+---------------+-----------------+--------------+--------------------------+---------------+------------------------+----------------------+----------------+----------------+------------------+-------------------+---------------------+\n",
      "|num_tl_120dpd_2m|num_tl_30dpd|num_tl_90g_dpd_24m|num_tl_op_past_12m|pct_tl_nvr_dlq|percent_bc_gt_75|pub_rec_bankruptcies|tax_liens|tot_hi_cred_lim|total_bal_ex_mort|total_bc_limit|total_il_high_credit_limit|revol_bal_joint|sec_app_earliest_cr_line|sec_app_inq_last_6mths|sec_app_mort_acc|sec_app_open_acc|sec_app_revol_util|sec_app_open_act_il|sec_app_num_rev_accts|\n",
      "+----------------+------------+------------------+------------------+--------------+----------------+--------------------+---------+---------------+-----------------+--------------+--------------------------+---------------+------------------------+----------------------+----------------+----------------+------------------+-------------------+---------------------+\n",
      "|             0.0|         0.0|               0.0|               1.0|          95.0|             0.0|                 0.0|      0.0|        99068.0|          81768.0|       13400.0|                   82368.0|           null|                    null|                  null|            null|            null|              null|               null|                 null|\n",
      "|             0.0|         0.0|               0.0|               0.0|         100.0|            57.1|                 0.0|      0.0|       113051.0|          65689.0|       30800.0|                   56551.0|           null|                    null|                  null|            null|            null|              null|               null|                 null|\n",
      "|             0.0|         0.0|               0.0|               1.0|         100.0|             0.0|                 0.0|      0.0|       226524.0|          17874.0|       52300.0|                   15899.0|           null|                    null|                  null|            null|            null|              null|               null|                 null|\n",
      "|             0.0|         0.0|               0.0|               2.0|         100.0|            80.0|                 0.0|      0.0|        38609.0|          27496.0|       20600.0|                    5209.0|           null|                    null|                  null|            null|            null|              null|               null|                 null|\n",
      "|             0.0|         0.0|               0.0|               0.0|          95.8|            16.7|                 0.0|      0.0|       141144.0|         131564.0|       20700.0|                  107844.0|           null|                    null|                  null|            null|            null|              null|               null|                 null|\n",
      "|             0.0|         0.0|               0.0|               2.0|         100.0|             0.0|                 0.0|      0.0|        72450.0|          31584.0|       40200.0|                   31250.0|           null|                    null|                  null|            null|            null|              null|               null|                 null|\n",
      "|             0.0|         0.0|               0.0|               1.0|         100.0|            66.7|                 0.0|      0.0|        21300.0|          16184.0|       20300.0|                       0.0|           null|                    null|                  null|            null|            null|              null|               null|                 null|\n",
      "|             0.0|         0.0|               0.0|               1.0|         100.0|             0.0|                 0.0|      0.0|        85015.0|          58160.0|        7800.0|                   77215.0|           null|                    null|                  null|            null|            null|              null|               null|                 null|\n",
      "|             0.0|         0.0|               0.0|               0.0|          83.0|           100.0|                 0.0|      0.0|         5500.0|           3995.0|        3000.0|                       0.0|           null|                    null|                  null|            null|            null|              null|               null|                 null|\n",
      "|             0.0|         0.0|               0.0|               2.0|          84.2|             0.0|                 0.0|      1.0|        46432.0|          24228.0|        5500.0|                   28632.0|           null|                    null|                  null|            null|            null|              null|               null|                 null|\n",
      "|             0.0|         0.0|               0.0|               3.0|         100.0|            75.0|                 0.0|      0.0|       388681.0|          52877.0|       31900.0|                   26718.0|           null|                    null|                  null|            null|            null|              null|               null|                 null|\n",
      "|             0.0|         0.0|               0.0|              10.0|          91.7|            25.0|                 1.0|      0.0|        83494.0|          59561.0|       11100.0|                   58694.0|           null|                    null|                  null|            null|            null|              null|               null|                 null|\n",
      "|             0.0|         0.0|               0.0|               1.0|         100.0|             0.0|                 0.0|      0.0|       236807.0|         148733.0|       86300.0|                   29707.0|           null|                    null|                  null|            null|            null|              null|               null|                 null|\n",
      "|            null|         0.0|               0.0|               3.0|         100.0|           100.0|                 0.0|      0.0|       471878.0|          46547.0|       31400.0|                    5593.0|           null|                    null|                  null|            null|            null|              null|               null|                 null|\n",
      "|            null|         0.0|               1.0|               0.0|         100.0|           100.0|                 0.0|      0.0|       704647.0|         202182.0|       17750.0|                  182747.0|           null|                    null|                  null|            null|            null|              null|               null|                 null|\n",
      "|             0.0|         0.0|               0.0|               2.0|          81.8|            50.0|                 0.0|      0.0|       212160.0|          43790.0|       16000.0|                   39560.0|           null|                    null|                  null|            null|            null|              null|               null|                 null|\n",
      "|            null|         0.0|               0.0|               4.0|         100.0|            75.0|                 0.0|      0.0|       194944.0|          79676.0|        9400.0|                   79501.0|           null|                    null|                  null|            null|            null|              null|               null|                 null|\n",
      "|             0.0|         0.0|               0.0|               1.0|          81.0|             0.0|                 0.0|      0.0|       432964.0|          85122.0|       11100.0|                   99154.0|           null|                    null|                  null|            null|            null|              null|               null|                 null|\n",
      "|            null|         0.0|               0.0|               2.0|         100.0|            20.0|                 0.0|      0.0|      1090496.0|         168669.0|      114200.0|                  133796.0|           null|                    null|                  null|            null|            null|              null|               null|                 null|\n",
      "|             0.0|         0.0|               0.0|               4.0|          96.0|            66.7|                 0.0|      0.0|       493737.0|         113639.0|       19800.0|                   82937.0|           null|                    null|                  null|            null|            null|              null|               null|                 null|\n",
      "+----------------+------------+------------------+------------------+--------------+----------------+--------------------+---------+---------------+-----------------+--------------+--------------------------+---------------+------------------------+----------------------+----------------+----------------+------------------+-------------------+---------------------+\n",
      "only showing top 20 rows\n",
      "\n"
     ]
    },
    {
     "name": "stdout",
     "output_type": "stream",
     "text": [
      "+--------------------------------+----------------------------------+-----------------------------------+-------------+-------------+---------------+---------------+-------------+---------------+-------------------+-----------------+-----------------------+---------------+------------+--------------------+------------------------------------------+------------------------------+----------------------------+-------------------+--------------------+\n",
      "|sec_app_chargeoff_within_12_mths|sec_app_collections_12_mths_ex_med|sec_app_mths_since_last_major_derog|hardship_flag|hardship_type|hardship_reason|hardship_status|deferral_term|hardship_amount|hardship_start_date|hardship_end_date|payment_plan_start_date|hardship_length|hardship_dpd|hardship_loan_status|orig_projected_additional_accrued_interest|hardship_payoff_balance_amount|hardship_last_payment_amount|disbursement_method|debt_settlement_flag|\n",
      "+--------------------------------+----------------------------------+-----------------------------------+-------------+-------------+---------------+---------------+-------------+---------------+-------------------+-----------------+-----------------------+---------------+------------+--------------------+------------------------------------------+------------------------------+----------------------------+-------------------+--------------------+\n",
      "|                            null|                              null|                               null|            N|         null|           null|           null|         null|           null|               null|             null|                   null|           null|        null|                null|                                      null|                          null|                        null|               Cash|                   N|\n",
      "|                            null|                              null|                               null|            N|         null|           null|           null|         null|           null|               null|             null|                   null|           null|        null|                null|                                      null|                          null|                        null|               Cash|                   N|\n",
      "|                            null|                              null|                               null|            N|         null|           null|           null|         null|           null|               null|             null|                   null|           null|        null|                null|                                      null|                          null|                        null|               Cash|                   N|\n",
      "|                            null|                              null|                               null|            N|         null|           null|           null|         null|           null|               null|             null|                   null|           null|        null|                null|                                      null|                          null|                        null|               Cash|                   N|\n",
      "|                            null|                              null|                               null|            N|         null|           null|           null|         null|           null|               null|             null|                   null|           null|        null|                null|                                      null|                          null|                        null|               Cash|                   N|\n",
      "|                            null|                              null|                               null|            N|         null|           null|           null|         null|           null|               null|             null|                   null|           null|        null|                null|                                      null|                          null|                        null|               Cash|                   N|\n",
      "|                            null|                              null|                               null|            N|         null|           null|           null|         null|           null|               null|             null|                   null|           null|        null|                null|                                      null|                          null|                        null|          DirectPay|                   N|\n",
      "|                            null|                              null|                               null|            N|         null|           null|           null|         null|           null|               null|             null|                   null|           null|        null|                null|                                      null|                          null|                        null|               Cash|                   N|\n",
      "|                            null|                              null|                               null|            N|         null|           null|           null|         null|           null|               null|             null|                   null|           null|        null|                null|                                      null|                          null|                        null|               Cash|                   N|\n",
      "|                            null|                              null|                               null|            N|         null|           null|           null|         null|           null|               null|             null|                   null|           null|        null|                null|                                      null|                          null|                        null|               Cash|                   N|\n",
      "|                            null|                              null|                               null|            N|         null|           null|           null|         null|           null|               null|             null|                   null|           null|        null|                null|                                      null|                          null|                        null|               Cash|                   N|\n",
      "|                            null|                              null|                               null|            N|         null|           null|           null|         null|           null|               null|             null|                   null|           null|        null|                null|                                      null|                          null|                        null|               Cash|                   N|\n",
      "|                            null|                              null|                               null|            N|         null|           null|           null|         null|           null|               null|             null|                   null|           null|        null|                null|                                      null|                          null|                        null|               Cash|                   N|\n",
      "|                            null|                              null|                               null|            N|         null|           null|           null|         null|           null|               null|             null|                   null|           null|        null|                null|                                      null|                          null|                        null|               Cash|                   N|\n",
      "|                            null|                              null|                               null|            N|         null|           null|           null|         null|           null|               null|             null|                   null|           null|        null|                null|                                      null|                          null|                        null|               Cash|                   N|\n",
      "|                            null|                              null|                               null|            N|         null|           null|           null|         null|           null|               null|             null|                   null|           null|        null|                null|                                      null|                          null|                        null|               Cash|                   N|\n",
      "|                            null|                              null|                               null|            N|         null|           null|           null|         null|           null|               null|             null|                   null|           null|        null|                null|                                      null|                          null|                        null|               Cash|                   N|\n",
      "|                            null|                              null|                               null|            N|         null|           null|           null|         null|           null|               null|             null|                   null|           null|        null|                null|                                      null|                          null|                        null|               Cash|                   N|\n",
      "|                            null|                              null|                               null|            N|         null|           null|           null|         null|           null|               null|             null|                   null|           null|        null|                null|                                      null|                          null|                        null|               Cash|                   N|\n",
      "|                            null|                              null|                               null|            N|         null|           null|           null|         null|           null|               null|             null|                   null|           null|        null|                null|                                      null|                          null|                        null|               Cash|                   N|\n",
      "+--------------------------------+----------------------------------+-----------------------------------+-------------+-------------+---------------+---------------+-------------+---------------+-------------------+-----------------+-----------------------+---------------+------------+--------------------+------------------------------------------+------------------------------+----------------------------+-------------------+--------------------+\n",
      "only showing top 20 rows\n",
      "\n"
     ]
    },
    {
     "name": "stdout",
     "output_type": "stream",
     "text": [
      "+-------------------------+-----------------+---------------+-----------------+---------------------+---------------+\n",
      "|debt_settlement_flag_date|settlement_status|settlement_date|settlement_amount|settlement_percentage|settlement_term|\n",
      "+-------------------------+-----------------+---------------+-----------------+---------------------+---------------+\n",
      "|                     null|             null|           null|             null|                 null|           null|\n",
      "|                     null|             null|           null|             null|                 null|           null|\n",
      "|                     null|             null|           null|             null|                 null|           null|\n",
      "|                     null|             null|           null|             null|                 null|           null|\n",
      "|                     null|             null|           null|             null|                 null|           null|\n",
      "|                     null|             null|           null|             null|                 null|           null|\n",
      "|                     null|             null|           null|             null|                 null|           null|\n",
      "|                     null|             null|           null|             null|                 null|           null|\n",
      "|                     null|             null|           null|             null|                 null|           null|\n",
      "|                     null|             null|           null|             null|                 null|           null|\n",
      "|                     null|             null|           null|             null|                 null|           null|\n",
      "|                     null|             null|           null|             null|                 null|           null|\n",
      "|                     null|             null|           null|             null|                 null|           null|\n",
      "|                     null|             null|           null|             null|                 null|           null|\n",
      "|                     null|             null|           null|             null|                 null|           null|\n",
      "|                     null|             null|           null|             null|                 null|           null|\n",
      "|                     null|             null|           null|             null|                 null|           null|\n",
      "|                     null|             null|           null|             null|                 null|           null|\n",
      "|                     null|             null|           null|             null|                 null|           null|\n",
      "|                     null|             null|           null|             null|                 null|           null|\n",
      "+-------------------------+-----------------+---------------+-----------------+---------------------+---------------+\n",
      "only showing top 20 rows\n",
      "\n"
     ]
    }
   ],
   "source": [
    "# Show the DataFrame\n",
    "df.select(df.columns[:20]).show(20)\n",
    "\n",
    "# create more dataframes for the other colums\n",
    "df1 = df.select(df.columns[:20]).show(20)\n",
    "df2= df.select(df.columns[20:40]).show(20)\n",
    "df3= df.select(df.columns[40:60]).show(20)\n",
    "df4= df.select(df.columns[60:80]).show(20)\n",
    "df5= df.select(df.columns[80:100]).show(20)\n",
    "df6= df.select(df.columns[100:120]).show(20)\n",
    "df7= df.select(df.columns[120:140]).show(20)\n",
    "df8= df.select(df.columns[140:160]).show(20)\n",
    "\n",
    "\n"
   ]
  },
  {
   "cell_type": "code",
   "execution_count": 6,
   "id": "cd6a0ee7-ff5d-4839-9be2-330abb41380c",
   "metadata": {
    "scrolled": true
   },
   "outputs": [
    {
     "name": "stdout",
     "output_type": "stream",
     "text": [
      "+----+----+------------------+--------------------+--------+----------+-----+-----------+----------------+--------------+----------------------+----------------------+--------+-------+---------+----------+---------+-------------------+---------+-------------+----------------+\n",
      "| url|desc|           purpose|               title|zip_code|addr_state|  dti|delinq_2yrs|earliest_cr_line|inq_last_6mths|mths_since_last_delinq|mths_since_last_record|open_acc|pub_rec|revol_bal|revol_util|total_acc|initial_list_status|out_prncp|out_prncp_inv|     total_pymnt|\n",
      "+----+----+------------------+--------------------+--------+----------+-----+-----------+----------------+--------------+----------------------+----------------------+--------+-------+---------+----------+---------+-------------------+---------+-------------+----------------+\n",
      "|null|null|debt_consolidation|      Hospital Debt |   775xx|        TX| 3.51|        0.0|        Nov-1997|           0.0|                  26.0|                  null|    14.0|    0.0|     1347|       8.1|     22.0|                  w|      0.0|          0.0|        36606.09|\n",
      "|null|null|       credit_card|Credit card refin...|   782xx|        TX|22.85|        0.0|        Jun-2011|           2.0|                  null|                  null|    17.0|    0.0|    29780|      52.7|     25.0|                  f| 14987.66|     14987.66|        22115.61|\n",
      "|null|null|    small_business|            Business|   210xx|        MD| 6.71|        0.0|        Apr-1996|           0.0|                  null|                  null|    16.0|    0.0|     7425|      10.3|     25.0|                  w|      0.0|          0.0|16052.0529426592|\n",
      "|null|null|debt_consolidation|  Debt Consolidation|   282xx|        NC| 15.5|        0.0|        Aug-1998|           0.0|                  null|                  null|    10.0|    0.0|    24123|      72.2|     15.0|                  f|      0.0|          0.0|39078.3232394871|\n",
      "|null|null|debt_consolidation|  Debt consolidation|   658xx|        MO|19.88|        0.0|        Dec-2003|           0.0|                  41.0|                  null|    19.0|    0.0|    16615|      49.9|     48.0|                  w|  2663.68|      2663.68|        13648.53|\n",
      "|null|null|       credit_card|Credit card refin...|   085xx|        NJ|11.09|        0.0|        Nov-2000|           1.0|                  null|                  null|     8.0|    0.0|     5449|      13.2|     11.0|                  w|      0.0|          0.0| 5064.7924929831|\n",
      "|null|null|       credit_card|Credit card refin...|   305xx|        GA|14.09|        0.0|        Apr-2003|           0.0|                  null|                  null|     4.0|    0.0|    16184|      76.0|      9.0|                  w| 24569.13|     24569.13|         1574.65|\n",
      "|null|null|             other|               Other|   444xx|        OH|18.71|        0.0|        Nov-2006|           3.0|                  null|                  null|     3.0|    0.0|     4751|      60.9|      8.0|                  f|      0.0|          0.0| 8459.3397341582|\n",
      "|null|null|debt_consolidation|  bill consolidation|   605xx|        IL| 1.55|        0.0|        Jul-1993|           1.0|                  43.0|                  null|     4.0|    0.0|     3995|      72.6|     12.0|                  f|      0.0|          0.0|14827.3269855467|\n",
      "|null|null|debt_consolidation|  Debt consolidation|   945xx|        CA|11.98|        2.0|        Mar-2007|           0.0|                   8.0|                  99.0|    10.0|    1.0|      457|       2.6|     19.0|                  w|  5011.63|      5011.63|        22049.64|\n",
      "|null|null|debt_consolidation|  Debt consolidation|   217xx|        MD|19.09|        0.0|        Dec-2002|           0.0|                  null|                  null|     9.0|    0.0|    30373|      74.6|     27.0|                  w|  9878.18|      9878.18|        11889.32|\n",
      "|null|null|debt_consolidation|  Debt consolidation|   333xx|        FL|11.04|        0.0|        Jun-1997|           2.0|                  60.0|                  46.0|    26.0|    1.0|    10118|      40.8|     53.0|                  f|      0.0|          0.0|        11755.71|\n",
      "|null|null|debt_consolidation|  Debt consolidation|   280xx|        NC|28.58|        0.0|        Jul-1994|           0.0|                  null|                  null|    18.0|    0.0|   126901|      39.6|     48.0|                  f|  6844.87|      6844.87|        16979.39|\n",
      "|null|null|       credit_card|Credit card refin...|   201xx|        VA| 8.47|        0.0|        Dec-1992|           0.0|                  null|                  null|    11.0|    0.0|    41021|      87.0|     34.0|                  w|      0.0|          0.0| 20243.380006926|\n",
      "|null|null|       credit_card|Credit card refin...|   804xx|        CO|22.16|        1.0|        Oct-2004|           0.0|                  18.0|                  null|    15.0|    0.0|    95340|      87.0|     32.0|                  w|  5313.17|      5313.17|        12564.35|\n",
      "|null|null|debt_consolidation|  Debt consolidation|   448xx|        OH|17.16|        0.0|        Feb-1999|           0.0|                  39.0|                  null|     8.0|    0.0|     8285|      39.3|     11.0|                  w|      0.0|          0.0| 40739.869618519|\n",
      "|null|null|debt_consolidation|  Debt consolidation|   350xx|        AL|33.94|        0.0|        Oct-1999|           0.0|                  null|                  null|     7.0|    0.0|     7305|      78.0|     11.0|                  f|      0.0|          0.0|        11750.75|\n",
      "|null|null|       credit_card|Credit card refin...|   310xx|        GA|25.71|        0.0|        Jan-1991|           3.0|                  25.0|                  null|     9.0|    0.0|      206|       0.9|     21.0|                  w|  4525.71|      4525.71|          656.79|\n",
      "|null|null|       credit_card|Credit card refin...|   069xx|        CT|19.05|        0.0|        Nov-1998|           3.0|                  null|                  null|    10.0|    0.0|    73019|      63.0|     28.0|                  w| 16879.78|     16879.78|        26461.15|\n",
      "|null|null|debt_consolidation|Debt Consolidatio...|   928xx|        CA| 16.7|        0.0|        Mar-1994|           3.0|                  null|                  null|    13.0|    0.0|    45794|      75.3|     33.0|                  f|      0.0|          0.0|        35966.74|\n",
      "+----+----+------------------+--------------------+--------+----------+-----+-----------+----------------+--------------+----------------------+----------------------+--------+-------+---------+----------+---------+-------------------+---------+-------------+----------------+\n",
      "only showing top 20 rows\n",
      "\n"
     ]
    }
   ],
   "source": [
    "# Show the DataFrame (only a sertain portion of it\n",
    "df.select(df.columns[19:40]).show(20)\n",
    "\n"
   ]
  },
  {
   "cell_type": "code",
   "execution_count": 7,
   "id": "9e3fc2fb-fbde-4fce-99c4-9872f1f9d677",
   "metadata": {},
   "outputs": [
    {
     "name": "stderr",
     "output_type": "stream",
     "text": [
      "24/05/26 11:42:07 WARN package: Truncated the string representation of a plan since it was too large. This behavior can be adjusted by setting 'spark.sql.debug.maxToStringFields'.\n"
     ]
    },
    {
     "name": "stdout",
     "output_type": "stream",
     "text": [
      "+-------+----+---------+---------+-----------+---------------+----------+--------+-----------+-----+---------+------------------------+----------+--------------+----------+-------------------+--------+-----------+----------+----+----+------------------+-----------------------+--------+----------+-----+-----------+----------------+--------------+----------------------+----------------------+--------+-------+---------+----------+---------+-------------------+---------+-------------+----------------+---------------+---------------+-------------+------------------+----------+-----------------------+------------+---------------+------------+------------------+--------------------------+---------------------------+-----------+----------------+----------------+---------+-------------------------+--------------+------------+-----------+-----------+-----------+-----------+-----------+------------------+------------+-------+-----------+-----------+----------+--------+----------------+------+-----------+------------+--------------------+-----------+--------------+-------+------------------------+-----------+------------------+--------------------+---------------------+--------------+--------+--------------------+------------------------+---------------------+------------------------------+---------------------+--------------+---------------+-----------+---------+---------+-------------+-------------+-------------------+--------+----------------+------------+------------------+------------------+--------------+----------------+--------------------+---------+---------------+-----------------+--------------+--------------------------+---------------+------------------------+----------------------+----------------+----------------+------------------+-------------------+---------------------+--------------------------------+----------------------------------+-----------------------------------+-------------+-------------+---------------+---------------+-------------+---------------+-------------------+-----------------+-----------------------+---------------+------------+--------------------+------------------------------------------+------------------------------+----------------------------+-------------------+--------------------+-------------------------+-----------------+---------------+-----------------+---------------------+---------------+\n",
      "|_c0    |id  |member_id|loan_amnt|funded_amnt|funded_amnt_inv|term      |int_rate|installment|grade|sub_grade|emp_title               |emp_length|home_ownership|annual_inc|verification_status|issue_d |loan_status|pymnt_plan|url |desc|purpose           |title                  |zip_code|addr_state|dti  |delinq_2yrs|earliest_cr_line|inq_last_6mths|mths_since_last_delinq|mths_since_last_record|open_acc|pub_rec|revol_bal|revol_util|total_acc|initial_list_status|out_prncp|out_prncp_inv|total_pymnt     |total_pymnt_inv|total_rec_prncp|total_rec_int|total_rec_late_fee|recoveries|collection_recovery_fee|last_pymnt_d|last_pymnt_amnt|next_pymnt_d|last_credit_pull_d|collections_12_mths_ex_med|mths_since_last_major_derog|policy_code|application_type|annual_inc_joint|dti_joint|verification_status_joint|acc_now_delinq|tot_coll_amt|tot_cur_bal|open_acc_6m|open_act_il|open_il_12m|open_il_24m|mths_since_rcnt_il|total_bal_il|il_util|open_rv_12m|open_rv_24m|max_bal_bc|all_util|total_rev_hi_lim|inq_fi|total_cu_tl|inq_last_12m|acc_open_past_24mths|avg_cur_bal|bc_open_to_buy|bc_util|chargeoff_within_12_mths|delinq_amnt|mo_sin_old_il_acct|mo_sin_old_rev_tl_op|mo_sin_rcnt_rev_tl_op|mo_sin_rcnt_tl|mort_acc|mths_since_recent_bc|mths_since_recent_bc_dlq|mths_since_recent_inq|mths_since_recent_revol_delinq|num_accts_ever_120_pd|num_actv_bc_tl|num_actv_rev_tl|num_bc_sats|num_bc_tl|num_il_tl|num_op_rev_tl|num_rev_accts|num_rev_tl_bal_gt_0|num_sats|num_tl_120dpd_2m|num_tl_30dpd|num_tl_90g_dpd_24m|num_tl_op_past_12m|pct_tl_nvr_dlq|percent_bc_gt_75|pub_rec_bankruptcies|tax_liens|tot_hi_cred_lim|total_bal_ex_mort|total_bc_limit|total_il_high_credit_limit|revol_bal_joint|sec_app_earliest_cr_line|sec_app_inq_last_6mths|sec_app_mort_acc|sec_app_open_acc|sec_app_revol_util|sec_app_open_act_il|sec_app_num_rev_accts|sec_app_chargeoff_within_12_mths|sec_app_collections_12_mths_ex_med|sec_app_mths_since_last_major_derog|hardship_flag|hardship_type|hardship_reason|hardship_status|deferral_term|hardship_amount|hardship_start_date|hardship_end_date|payment_plan_start_date|hardship_length|hardship_dpd|hardship_loan_status|orig_projected_additional_accrued_interest|hardship_payoff_balance_amount|hardship_last_payment_amount|disbursement_method|debt_settlement_flag|debt_settlement_flag_date|settlement_status|settlement_date|settlement_amount|settlement_percentage|settlement_term|\n",
      "+-------+----+---------+---------+-----------+---------------+----------+--------+-----------+-----+---------+------------------------+----------+--------------+----------+-------------------+--------+-----------+----------+----+----+------------------+-----------------------+--------+----------+-----+-----------+----------------+--------------+----------------------+----------------------+--------+-------+---------+----------+---------+-------------------+---------+-------------+----------------+---------------+---------------+-------------+------------------+----------+-----------------------+------------+---------------+------------+------------------+--------------------------+---------------------------+-----------+----------------+----------------+---------+-------------------------+--------------+------------+-----------+-----------+-----------+-----------+-----------+------------------+------------+-------+-----------+-----------+----------+--------+----------------+------+-----------+------------+--------------------+-----------+--------------+-------+------------------------+-----------+------------------+--------------------+---------------------+--------------+--------+--------------------+------------------------+---------------------+------------------------------+---------------------+--------------+---------------+-----------+---------+---------+-------------+-------------+-------------------+--------+----------------+------------+------------------+------------------+--------------+----------------+--------------------+---------+---------------+-----------------+--------------+--------------------------+---------------+------------------------+----------------------+----------------+----------------+------------------+-------------------+---------------------+--------------------------------+----------------------------------+-----------------------------------+-------------+-------------+---------------+---------------+-------------+---------------+-------------------+-----------------+-----------------------+---------------+------------+--------------------+------------------------------------------+------------------------------+----------------------------+-------------------+--------------------+-------------------------+-----------------+---------------+-----------------+---------------------+---------------+\n",
      "|1758049|null|null     |35000    |35000      |35000.0        | 36 months|12.12   |1164.51    |B    |B3       |Legacy Physicians Group |< 1 year  |RENT          |90000.0   |Verified           |Jun-2013|Fully Paid |n         |null|null|debt_consolidation|Hospital Debt          |775xx   |TX        |3.51 |0.0        |Nov-1997        |0.0           |26.0                  |null                  |14.0    |0.0    |1347     |8.1       |22.0     |w                  |0.0      |0.0          |36606.09        |36606.09       |35000.0        |1606.09      |0.0               |0.0       |0.0                    |Dec-2013    |4783.54        |null        |Jan-2014          |0.0                       |26.0                       |1          |Individual      |null            |null     |null                     |0.0           |0.0         |81768.0    |null       |null       |null       |null       |null              |null        |null   |null       |null       |null      |null    |16700.0         |null  |null       |null        |1.0                 |5841.0     |12053.0       |10.1   |0.0                     |0.0        |169.0             |190.0               |12.0                 |12.0          |1.0     |55.0                |null                    |null                 |null                          |1.0                  |1.0           |1.0            |2.0        |3.0      |14.0     |5.0          |7.0          |1.0                |14.0    |0.0             |0.0         |0.0               |1.0               |95.0          |0.0             |0.0                 |0.0      |99068.0        |81768.0          |13400.0       |82368.0                   |null           |null                    |null                  |null            |null            |null              |null               |null                 |null                            |null                              |null                               |N            |null         |null           |null           |null         |null           |null               |null             |null                   |null           |null        |null                |null                                      |null                          |null                        |Cash               |N                   |null                     |null             |null           |null             |null                 |null           |\n",
      "|686533 |null|null     |30000    |30000      |30000.0        | 60 months|10.75   |648.54     |B    |B4       |Director of nursing     |2 years   |RENT          |100000.0  |Verified           |Apr-2016|Current    |n         |null|null|credit_card       |Credit card refinancing|782xx   |TX        |22.85|0.0        |Jun-2011        |2.0           |null                  |null                  |17.0    |0.0    |29780    |52.7      |25.0     |f                  |14987.66 |14987.66     |22115.61        |22115.61       |15012.34       |7103.27      |0.0               |0.0       |0.0                    |Feb-2019    |648.54         |Mar-2019    |Feb-2019          |0.0                       |null                       |1          |Individual      |null            |null     |null                     |0.0           |0.0         |65689.0    |0.0        |2.0        |0.0        |1.0        |22.0              |35909.0     |64.0   |0.0        |3.0        |7525.0    |58.0    |56500.0         |4.0   |9.0        |5.0         |4.0                 |3864.0     |12126.0       |60.6   |0.0                     |0.0        |49.0              |57.0                |13.0                 |13.0          |0.0     |25.0                |null                    |0.0                  |null                          |0.0                  |6.0           |10.0           |7.0        |8.0      |7.0      |15.0         |18.0         |10.0               |17.0    |0.0             |0.0         |0.0               |0.0               |100.0         |57.1            |0.0                 |0.0      |113051.0       |65689.0          |30800.0       |56551.0                   |null           |null                    |null                  |null            |null            |null              |null               |null                 |null                            |null                              |null                               |N            |null         |null           |null           |null         |null           |null               |null             |null                   |null           |null        |null                |null                                      |null                          |null                        |Cash               |N                   |null                     |null             |null           |null             |null                 |null           |\n",
      "|900721 |null|null     |15000    |15000      |15000.0        | 36 months|7.49    |466.53     |A    |A4       |Partner                 |5 years   |OWN           |100000.0  |Source Verified    |Oct-2016|Fully Paid |n         |null|null|small_business    |Business               |210xx   |MD        |6.71 |0.0        |Apr-1996        |0.0           |null                  |null                  |16.0    |0.0    |7425     |10.3      |25.0     |w                  |0.0      |0.0          |16052.0529426592|16052.05       |15000.0        |1052.05      |0.0               |0.0       |0.0                    |Nov-2017    |10466.17       |null        |Dec-2017          |0.0                       |null                       |1          |Individual      |null            |null     |null                     |0.0           |0.0         |150276.0   |0.0        |1.0        |0.0        |0.0        |30.0              |9148.0      |58.0   |1.0        |4.0        |3673.0    |19.0    |72300.0         |2.0   |1.0        |1.0         |4.0                 |9392.0     |45813.0       |12.4   |0.0                     |0.0        |96.0              |242.0               |10.0                 |10.0          |1.0     |17.0                |null                    |10.0                 |null                          |1.0                  |4.0           |6.0            |8.0        |10.0     |4.0      |13.0         |17.0         |6.0                |16.0    |0.0             |0.0         |0.0               |1.0               |100.0         |0.0             |0.0                 |0.0      |226524.0       |17874.0          |52300.0       |15899.0                   |null           |null                    |null                  |null            |null            |null              |null               |null                 |null                            |null                              |null                               |N            |null         |null           |null           |null         |null           |null               |null             |null                   |null           |null        |null                |null                                      |null                          |null                        |Cash               |N                   |null                     |null             |null           |null             |null                 |null           |\n",
      "|1727912|null|null     |24000    |24000      |24000.0        | 60 months|21.15   |651.31     |E    |E2       |Einstein Bros. Bagels   |5 years   |RENT          |58000.0   |Source Verified    |Sep-2013|Fully Paid |n         |null|null|debt_consolidation|Debt Consolidation     |282xx   |NC        |15.5 |0.0        |Aug-1998        |0.0           |null                  |null                  |10.0    |0.0    |24123    |72.2      |15.0     |f                  |0.0      |0.0          |39078.3232394871|39078.32       |24000.0        |15078.32     |0.0               |0.0       |0.0                    |Sep-2018    |651.03         |null        |Feb-2019          |0.0                       |null                       |1          |Individual      |null            |null     |null                     |0.0           |0.0         |27496.0    |null       |null       |null       |null       |null              |null        |null   |null       |null       |null      |null    |33400.0         |null  |null       |null        |2.0                 |2750.0     |1447.0        |93.0   |0.0                     |0.0        |90.0              |183.0               |10.0                 |10.0          |0.0     |10.0                |null                    |10.0                 |null                          |0.0                  |4.0           |7.0            |5.0        |7.0      |5.0      |8.0          |10.0         |7.0                |10.0    |0.0             |0.0         |0.0               |2.0               |100.0         |80.0            |0.0                 |0.0      |38609.0        |27496.0          |20600.0       |5209.0                    |null           |null                    |null                  |null            |null            |null              |null               |null                 |null                            |null                              |null                               |N            |null         |null           |null           |null         |null           |null               |null             |null                   |null           |null        |null                |null                                      |null                          |null                        |Cash               |N                   |null                     |null             |null           |null             |null                 |null           |\n",
      "|539691 |null|null     |14400    |14400      |14400.0        | 36 months|8.59    |455.18     |A    |A5       |Nurse practitioner      |3 years   |MORTGAGE      |90000.0   |Not Verified       |Aug-2016|Current    |n         |null|null|debt_consolidation|Debt consolidation     |658xx   |MO        |19.88|0.0        |Dec-2003        |0.0           |41.0                  |null                  |19.0    |0.0    |16615    |49.9      |48.0     |w                  |2663.68  |2663.68      |13648.53        |13648.53       |11736.32       |1912.21      |0.0               |0.0       |0.0                    |Feb-2019    |455.18         |Mar-2019    |Feb-2019          |0.0                       |null                       |1          |Individual      |null            |null     |null                     |0.0           |0.0         |131564.0   |0.0        |8.0        |0.0        |1.0        |19.0              |114949.0    |107.0  |0.0        |0.0        |2745.0    |93.0    |33300.0         |0.0   |0.0        |1.0         |1.0                 |7309.0     |11121.0       |46.3   |0.0                     |0.0        |144.0             |152.0               |58.0                 |19.0          |1.0     |87.0                |41.0                    |3.0                  |41.0                          |0.0                  |5.0           |8.0            |6.0        |7.0      |31.0     |11.0         |16.0         |8.0                |19.0    |0.0             |0.0         |0.0               |0.0               |95.8          |16.7            |0.0                 |0.0      |141144.0       |131564.0         |20700.0       |107844.0                  |null           |null                    |null                  |null            |null            |null              |null               |null                 |null                            |null                              |null                               |N            |null         |null           |null           |null         |null           |null               |null             |null                   |null           |null        |null                |null                                      |null                          |null                        |Cash               |N                   |null                     |null             |null           |null             |null                 |null           |\n",
      "|2153213|null|null     |5000     |5000       |5000.0         | 36 months|9.93    |161.18     |B    |B2       |Accountant              |< 1 year  |RENT          |46750.0   |Not Verified       |Dec-2017|Fully Paid |n         |null|null|credit_card       |Credit card refinancing|085xx   |NJ        |11.09|0.0        |Nov-2000        |1.0           |null                  |null                  |8.0     |0.0    |5449     |13.2      |11.0     |w                  |0.0      |0.0          |5064.7924929831 |5064.79        |5000.0         |64.79        |0.0               |0.0       |0.0                    |Feb-2018    |1526.25        |null        |Dec-2018          |0.0                       |null                       |1          |Individual      |null            |null     |null                     |0.0           |0.0         |31584.0    |2.0        |2.0        |1.0        |1.0        |2.0               |26135.0     |84.0   |1.0        |2.0        |5448.0    |44.0    |41200.0         |1.0   |0.0        |1.0         |3.0                 |3948.0     |34752.0       |13.6   |0.0                     |0.0        |64.0              |205.0               |5.0                  |2.0           |0.0     |5.0                 |null                    |2.0                  |null                          |0.0                  |1.0           |2.0            |5.0        |5.0      |4.0      |6.0          |7.0          |2.0                |8.0     |0.0             |0.0         |0.0               |2.0               |100.0         |0.0             |0.0                 |0.0      |72450.0        |31584.0          |40200.0       |31250.0                   |null           |null                    |null                  |null            |null            |null              |null               |null                 |null                            |null                              |null                               |N            |null         |null           |null           |null         |null           |null               |null             |null                   |null           |null        |null                |null                                      |null                          |null                        |Cash               |N                   |null                     |null             |null           |null             |null                 |null           |\n",
      "|47643  |null|null     |25600    |25600      |25600.0        | 60 months|8.81    |529.06     |A    |A5       |Cabinet Design and Sales|1 year    |MORTGAGE      |35000.0   |Source Verified    |Nov-2018|Current    |n         |null|null|credit_card       |Credit card refinancing|305xx   |GA        |14.09|0.0        |Apr-2003        |0.0           |null                  |null                  |4.0     |0.0    |16184    |76.0      |9.0      |w                  |24569.13 |24569.13     |1574.65         |1574.65        |1030.87        |543.78       |0.0               |0.0       |0.0                    |Feb-2019    |529.06         |Mar-2019    |Feb-2019          |0.0                       |null                       |1          |Individual      |null            |null     |null                     |0.0           |0.0         |16184.0    |1.0        |0.0        |0.0        |0.0        |162.0             |0.0         |null   |1.0        |2.0        |11812.0   |76.0    |21300.0         |0.0   |0.0        |0.0         |2.0                 |4046.0     |4116.0        |79.7   |0.0                     |0.0        |162.0             |187.0               |0.0                  |0.0           |0.0     |0.0                 |null                    |13.0                 |null                          |0.0                  |3.0           |3.0            |3.0        |4.0      |1.0      |4.0          |8.0          |3.0                |4.0     |0.0             |0.0         |0.0               |1.0               |100.0         |66.7            |0.0                 |0.0      |21300.0        |16184.0          |20300.0       |0.0                       |null           |null                    |null                  |null            |null            |null              |null               |null                 |null                            |null                              |null                               |N            |null         |null           |null           |null         |null           |null               |null             |null                   |null           |null        |null                |null                                      |null                          |null                        |DirectPay          |N                   |null                     |null             |null           |null             |null                 |null           |\n",
      "|1360732|null|null     |6550     |6550       |6550.0         | 36 months|24.74   |259.53     |E    |E3       |Over night stocker      |9 years   |MORTGAGE      |42000.0   |Source Verified    |Mar-2017|Fully Paid |n         |null|null|other             |Other                  |444xx   |OH        |18.71|0.0        |Nov-2006        |3.0           |null                  |null                  |3.0     |0.0    |4751     |60.9      |8.0      |f                  |0.0      |0.0          |8459.3397341582 |8459.34        |6550.0         |1909.34      |0.0               |0.0       |0.0                    |Aug-2018    |4324.87        |null        |Aug-2018          |0.0                       |null                       |1          |Individual      |null            |null     |null                     |0.0           |0.0         |58160.0    |1.0        |2.0        |0.0        |1.0        |18.0              |53409.0     |46.0   |1.0        |1.0        |4751.0    |53.0    |7800.0          |2.0   |0.0        |3.0         |2.0                 |19387.0    |3049.0        |60.9   |0.0                     |0.0        |124.0             |30.0                |6.0                  |6.0           |1.0     |6.0                 |null                    |0.0                  |null                          |0.0                  |1.0           |1.0            |1.0        |2.0      |5.0      |1.0          |2.0          |1.0                |3.0     |0.0             |0.0         |0.0               |1.0               |100.0         |0.0             |0.0                 |0.0      |85015.0        |58160.0          |7800.0        |77215.0                   |null           |null                    |null                  |null            |null            |null              |null               |null                 |null                            |null                              |null                               |N            |null         |null           |null           |null         |null           |null               |null             |null                   |null           |null        |null                |null                                      |null                          |null                        |Cash               |N                   |null                     |null             |null           |null             |null                 |null           |\n",
      "|1779694|null|null     |12000    |12000      |12000.0        | 36 months|14.33   |412.06     |C    |C1       |City of Aurora          |10+ years |MORTGAGE      |107499.0  |Not Verified       |Apr-2013|Fully Paid |n         |null|null|debt_consolidation|bill consolidation     |605xx   |IL        |1.55 |0.0        |Jul-1993        |1.0           |43.0                  |null                  |4.0     |0.0    |3995     |72.6      |12.0     |f                  |0.0      |0.0          |14827.3269855467|14827.33       |12000.0        |2827.33      |0.0               |0.0       |0.0                    |Mar-2016    |392.28         |null        |Feb-2019          |0.0                       |null                       |1          |Individual      |null            |null     |null                     |0.0           |0.0         |3995.0     |null       |null       |null       |null       |null              |null        |null   |null       |null       |null      |null    |5500.0          |null  |null       |null        |1.0                 |1332.0     |0.0           |106.0  |0.0                     |0.0        |143.0             |241.0               |19.0                 |19.0          |4.0     |79.0                |null                    |4.0                  |46.0                          |0.0                  |1.0           |2.0            |1.0        |2.0      |2.0      |4.0          |6.0          |2.0                |4.0     |0.0             |0.0         |0.0               |0.0               |83.0          |100.0           |0.0                 |0.0      |5500.0         |3995.0           |3000.0        |0.0                       |null           |null                    |null                  |null            |null            |null              |null               |null                 |null                            |null                              |null                               |N            |null         |null           |null           |null         |null           |null               |null             |null                   |null           |null        |null                |null                                      |null                          |null                        |Cash               |N                   |null                     |null             |null           |null             |null                 |null           |\n",
      "|511378 |null|null     |21000    |21000      |21000.0        | 36 months|17.99   |759.1      |D    |D2       |EKG Tech                |3 years   |RENT          |85000.0   |Source Verified    |Sep-2016|Current    |n         |null|null|debt_consolidation|Debt consolidation     |945xx   |CA        |11.98|2.0        |Mar-2007        |0.0           |8.0                   |99.0                  |10.0    |1.0    |457      |2.6       |19.0     |w                  |5011.63  |5011.63      |22049.64        |22049.64       |15988.37       |6061.27      |0.0               |0.0       |0.0                    |Feb-2019    |759.1          |Mar-2019    |Feb-2019          |0.0                       |null                       |1          |Individual      |null            |null     |null                     |0.0           |0.0         |24228.0    |0.0        |2.0        |2.0        |3.0        |7.0               |23771.0     |83.0   |0.0        |0.0        |8.0       |52.0    |17800.0         |2.0   |0.0        |4.0         |3.0                 |2423.0     |5484.0        |0.3    |0.0                     |0.0        |111.0             |114.0               |26.0                 |7.0           |0.0     |26.0                |8.0                     |2.0                  |8.0                           |0.0                  |2.0           |3.0            |4.0        |6.0      |8.0      |7.0          |11.0         |3.0                |10.0    |0.0             |0.0         |0.0               |2.0               |84.2          |0.0             |0.0                 |1.0      |46432.0        |24228.0          |5500.0        |28632.0                   |null           |null                    |null                  |null            |null            |null              |null               |null                 |null                            |null                              |null                               |N            |null         |null           |null           |null         |null           |null               |null             |null                   |null           |null        |null                |null                                      |null                          |null                        |Cash               |N                   |null                     |null             |null           |null             |null                 |null           |\n",
      "|506300 |null|null     |15500    |15500      |15500.0        | 60 months|19.99   |410.57     |D    |D4       |Analyst                 |5 years   |MORTGAGE      |77500.0   |Source Verified    |Sep-2016|Current    |n         |null|null|debt_consolidation|Debt consolidation     |217xx   |MD        |19.09|0.0        |Dec-2002        |0.0           |null                  |null                  |9.0     |0.0    |30373    |74.6      |27.0     |w                  |9878.18  |9878.18      |11889.32        |11889.32       |5621.82        |6267.5       |0.0               |0.0       |0.0                    |Feb-2019    |410.57         |Mar-2019    |Feb-2019          |0.0                       |null                       |1          |Individual      |null            |null     |null                     |0.0           |0.0         |362168.0   |1.0        |2.0        |1.0        |2.0        |10.0              |22504.0     |84.0   |2.0        |2.0        |15640.0   |78.0    |40700.0         |0.0   |0.0        |0.0         |5.0                 |40241.0    |2084.0        |93.5   |0.0                     |0.0        |133.0             |165.0               |6.0                  |6.0           |2.0     |6.0                 |null                    |23.0                 |null                          |0.0                  |4.0           |5.0            |4.0        |8.0      |9.0      |6.0          |16.0         |5.0                |9.0     |0.0             |0.0         |0.0               |3.0               |100.0         |75.0            |0.0                 |0.0      |388681.0       |52877.0          |31900.0       |26718.0                   |null           |null                    |null                  |null            |null            |null              |null               |null                 |null                            |null                              |null                               |N            |null         |null           |null           |null         |null           |null               |null             |null                   |null           |null        |null                |null                                      |null                          |null                        |Cash               |N                   |null                     |null             |null           |null             |null                 |null           |\n",
      "|1262689|null|null     |14750    |14750      |14750.0        | 60 months|24.99   |432.85     |F    |F4       |Police Detective        |10+ years |RENT          |160000.0  |Source Verified    |Apr-2015|Charged Off|n         |null|null|debt_consolidation|Debt consolidation     |333xx   |FL        |11.04|0.0        |Jun-1997        |2.0           |60.0                  |46.0                  |26.0    |1.0    |10118    |40.8      |53.0     |f                  |0.0      |0.0          |11755.71        |11755.71       |3862.18        |6395.66      |0.0               |1497.87   |269.616599998          |Mar-2017    |432.85         |null        |Sep-2017          |0.0                       |66.0                       |1          |Individual      |null            |null     |null                     |0.0           |341.0       |59561.0    |null       |null       |null       |null       |null              |null        |null   |null       |null       |null      |null    |24800.0         |null  |null       |null        |19.0                |2590.0     |8231.0        |25.8   |0.0                     |0.0        |145.0             |213.0               |1.0                  |1.0           |3.0     |1.0                 |66.0                    |2.0                  |60.0                          |3.0                  |1.0           |9.0            |6.0        |12.0     |17.0     |17.0         |33.0         |9.0                |26.0    |0.0             |0.0         |0.0               |10.0              |91.7          |25.0            |1.0                 |0.0      |83494.0        |59561.0          |11100.0       |58694.0                   |null           |null                    |null                  |null            |null            |null              |null               |null                 |null                            |null                              |null                               |N            |null         |null           |null           |null         |null           |null               |null             |null                   |null           |null        |null                |null                                      |null                          |null                        |Cash               |N                   |null                     |null             |null           |null             |null                 |null           |\n",
      "|1094496|null|null     |20000    |20000      |20000.0        | 60 months|7.89    |404.48     |A    |A5       |null                    |null      |OWN           |72000.0   |Not Verified       |Aug-2015|Current    |n         |null|null|debt_consolidation|Debt consolidation     |280xx   |NC        |28.58|0.0        |Jul-1994        |0.0           |null                  |null                  |18.0    |0.0    |126901   |39.6      |48.0     |f                  |6844.87  |6844.87      |16979.39        |16979.39       |13155.13       |3824.26      |0.0               |0.0       |0.0                    |Feb-2019    |404.48         |Mar-2019    |Feb-2019          |0.0                       |null                       |1          |Individual      |null            |null     |null                     |0.0           |0.0         |148733.0   |null       |null       |null       |null       |null              |null        |null   |null       |null       |null      |null    |207100.0        |null  |null       |null        |2.0                 |8749.0     |50728.0       |41.2   |0.0                     |0.0        |133.0             |253.0               |45.0                 |2.0           |2.0     |51.0                |null                    |12.0                 |null                          |0.0                  |5.0           |10.0           |8.0        |15.0     |12.0     |16.0         |34.0         |10.0               |18.0    |0.0             |0.0         |0.0               |1.0               |100.0         |0.0             |0.0                 |0.0      |236807.0       |148733.0         |86300.0       |29707.0                   |null           |null                    |null                  |null            |null            |null              |null               |null                 |null                            |null                              |null                               |N            |null         |null           |null           |null         |null           |null               |null             |null                   |null           |null        |null                |null                                      |null                          |null                        |Cash               |N                   |null                     |null             |null           |null             |null                 |null           |\n",
      "|578794 |null|null     |18000    |18000      |18000.0        | 36 months|7.99    |563.98     |A    |A4       |Sr Systems Engineer     |< 1 year  |MORTGAGE      |150000.0  |Not Verified       |Jul-2016|Fully Paid |n         |null|null|credit_card       |Credit card refinancing|201xx   |VA        |8.47 |0.0        |Dec-1992        |0.0           |null                  |null                  |11.0    |0.0    |41021    |87.0      |34.0     |w                  |0.0      |0.0          |20243.380006926 |20243.38       |18000.0        |2243.38      |0.0               |0.0       |0.0                    |Jan-2019    |4424.87        |null        |Feb-2019          |0.0                       |null                       |1          |Individual      |null            |null     |null                     |0.0           |0.0         |460185.0   |1.0        |1.0        |0.0        |1.0        |14.0              |5526.0      |99.0   |2.0        |3.0        |14133.0   |87.0    |47200.0         |0.0   |2.0        |2.0         |5.0                 |46018.0    |7850.0        |99.0   |0.0                     |0.0        |178.0             |283.0               |1.0                  |1.0           |7.0     |43.0                |null                    |11.0                 |null                          |0.0                  |4.0           |8.0            |12.0       |12.0     |4.0      |8.0          |24.0         |8.0                |10.0    |null            |0.0         |0.0               |3.0               |100.0         |100.0           |0.0                 |0.0      |471878.0       |46547.0          |31400.0       |5593.0                    |null           |null                    |null                  |null            |null            |null              |null               |null                 |null                            |null                              |null                               |N            |null         |null           |null           |null         |null           |null               |null             |null                   |null           |null        |null                |null                                      |null                          |null                        |Cash               |N                   |null                     |null             |null           |null             |null                 |null           |\n",
      "|1421198|null|null     |16000    |16000      |16000.0        | 36 months|8.24    |503.16     |B    |B1       |RN                      |2 years   |MORTGAGE      |115000.0  |Verified           |Jan-2017|Current    |n         |null|null|credit_card       |Credit card refinancing|804xx   |CO        |22.16|1.0        |Oct-2004        |0.0           |18.0                  |null                  |15.0    |0.0    |95340    |87.0      |32.0     |w                  |5313.17  |5313.17      |12564.35        |12564.35       |10686.83       |1877.52      |0.0               |0.0       |0.0                    |Feb-2019    |503.16         |Mar-2019    |Feb-2019          |1.0                       |4.0                        |1          |Individual      |null            |null     |null                     |0.0           |113.0       |680096.0   |0.0        |9.0        |0.0        |1.0        |19.0              |186466.0    |102.0  |0.0        |1.0        |8075.0    |87.0    |109400.0        |0.0   |0.0        |1.0         |2.0                 |45339.0    |5917.0        |89.0   |0.0                     |0.0        |147.0             |101.0               |13.0                 |13.0          |2.0     |34.0                |null                    |10.0                 |null                          |0.0                  |3.0           |5.0            |5.0        |5.0      |21.0     |5.0          |10.0         |4.0                |15.0    |null            |0.0         |1.0               |0.0               |100.0         |100.0           |0.0                 |0.0      |704647.0       |202182.0         |17750.0       |182747.0                  |null           |null                    |null                  |null            |null            |null              |null               |null                 |null                            |null                              |null                               |N            |null         |null           |null           |null         |null           |null               |null             |null                   |null           |null        |null                |null                                      |null                          |null                        |Cash               |N                   |null                     |null             |null           |null             |null                 |null           |\n",
      "|1228621|null|null     |30000    |30000      |30000.0        | 60 months|17.86   |759.52     |D    |D5       |truck driver            |9 years   |MORTGAGE      |70000.0   |Verified           |May-2015|Fully Paid |n         |null|null|debt_consolidation|Debt consolidation     |448xx   |OH        |17.16|0.0        |Feb-1999        |0.0           |39.0                  |null                  |8.0     |0.0    |8285     |39.3      |11.0     |w                  |0.0      |0.0          |40739.869618519 |40739.87       |30000.0        |10739.87     |0.0               |0.0       |0.0                    |Oct-2017    |19510.66       |null        |Sep-2018          |0.0                       |null                       |1          |Individual      |null            |null     |null                     |0.0           |25.0        |187101.0   |null       |null       |null       |null       |null              |null        |null   |null       |null       |null      |null    |21100.0         |null  |null       |null        |5.0                 |23388.0    |9490.0        |40.7   |0.0                     |0.0        |88.0              |90.0                |15.0                 |3.0           |4.0     |83.0                |39.0                    |5.0                  |39.0                          |0.0                  |2.0           |3.0            |2.0        |2.0      |3.0      |4.0          |4.0          |3.0                |8.0     |0.0             |0.0         |0.0               |2.0               |81.8          |50.0            |0.0                 |0.0      |212160.0       |43790.0          |16000.0       |39560.0                   |null           |null                    |null                  |null            |null            |null              |null               |null                 |null                            |null                              |null                               |N            |null         |null           |null           |null         |null           |null               |null             |null                   |null           |null        |null                |null                                      |null                          |null                        |Cash               |N                   |null                     |null             |null           |null             |null                 |null           |\n",
      "|992325 |null|null     |12000    |12000      |12000.0        | 36 months|13.18   |405.37     |C    |C3       |Warehouse Worker        |4 years   |MORTGAGE      |50000.0   |Source Verified    |Nov-2015|Charged Off|n         |null|null|debt_consolidation|Debt consolidation     |350xx   |AL        |33.94|0.0        |Oct-1999        |0.0           |null                  |null                  |7.0     |0.0    |7305     |78.0      |11.0     |f                  |0.0      |0.0          |11750.75        |11750.75       |9281.66        |2469.09      |0.0               |0.0       |0.0                    |Apr-2018    |405.37         |null        |Mar-2018          |0.0                       |45.0                       |1          |Individual      |null            |null     |null                     |0.0           |0.0         |185104.0   |null       |null       |null       |null       |null              |null        |null   |null       |null       |null      |null    |9400.0          |null  |null       |null        |6.0                 |26443.0    |2350.0        |78.0   |0.0                     |0.0        |88.0              |193.0               |6.0                  |6.0           |1.0     |6.0                 |null                    |7.0                  |null                          |0.0                  |4.0           |4.0            |4.0        |4.0      |5.0      |4.0          |5.0          |4.0                |7.0     |null            |0.0         |0.0               |4.0               |100.0         |75.0            |0.0                 |0.0      |194944.0       |79676.0          |9400.0        |79501.0                   |null           |null                    |null                  |null            |null            |null              |null               |null                 |null                            |null                              |null                               |N            |null         |null           |null           |null         |null           |null               |null             |null                   |null           |null        |null                |null                                      |null                          |null                        |Cash               |N                   |null                     |null             |null           |null             |null                 |null           |\n",
      "|93762  |null|null     |5000     |5000       |5000.0         | 36 months|11.55   |165.0      |B    |B4       |Manager                 |9 years   |MORTGAGE      |75000.0   |Source Verified    |Oct-2018|Current    |n         |null|null|credit_card       |Credit card refinancing|310xx   |GA        |25.71|0.0        |Jan-1991        |3.0           |25.0                  |null                  |9.0     |0.0    |206      |0.9       |21.0     |w                  |4525.71  |4525.71      |656.79          |656.79         |474.29         |182.5        |0.0               |0.0       |0.0                    |Feb-2019    |165.0          |Mar-2019    |Feb-2019          |0.0                       |25.0                       |1          |Individual      |null            |null     |null                     |0.0           |0.0         |372970.0   |0.0        |2.0        |1.0        |2.0        |8.0               |84916.0     |null   |0.0        |1.0        |89.0      |1.0     |23600.0         |4.0   |0.0        |6.0         |3.0                 |41441.0    |11011.0       |0.8    |0.0                     |0.0        |45.0              |333.0               |16.0                 |8.0           |4.0     |167.0               |27.0                    |0.0                  |27.0                          |1.0                  |1.0           |2.0            |3.0        |7.0      |5.0      |6.0          |11.0         |2.0                |9.0     |0.0             |0.0         |0.0               |1.0               |81.0          |0.0             |0.0                 |0.0      |432964.0       |85122.0          |11100.0       |99154.0                   |null           |null                    |null                  |null            |null            |null              |null               |null                 |null                            |null                              |null                               |N            |null         |null           |null           |null         |null           |null               |null             |null                   |null           |null        |null                |null                                      |null                          |null                        |Cash               |N                   |null                     |null             |null           |null             |null                 |null           |\n",
      "|754133 |null|null     |35000    |35000      |35000.0        | 60 months|10.75   |756.63     |B    |B4       |Senior Counsel          |5 years   |MORTGAGE      |197000.0  |Verified           |Mar-2016|Current    |n         |null|null|credit_card       |Credit card refinancing|069xx   |CT        |19.05|0.0        |Nov-1998        |3.0           |null                  |null                  |10.0    |0.0    |73019    |63.0      |28.0     |w                  |16879.78 |16879.78     |26461.15        |26461.15       |18120.22       |8340.93      |0.0               |0.0       |0.0                    |Feb-2019    |756.63         |Mar-2019    |Feb-2019          |0.0                       |null                       |1          |Individual      |null            |null     |null                     |0.0           |0.0         |968955.0   |1.0        |2.0        |1.0        |1.0        |7.0               |95650.0     |71.0   |1.0        |1.0        |48845.0   |63.0    |115200.0        |0.0   |1.0        |3.0         |2.0                 |96895.0    |22840.0       |64.0   |0.0                     |0.0        |162.0             |207.0               |5.0                  |5.0           |2.0     |5.0                 |null                    |5.0                  |null                          |0.0                  |5.0           |6.0            |10.0       |10.0     |7.0      |6.0          |17.0         |3.0                |10.0    |null            |0.0         |0.0               |2.0               |100.0         |20.0            |0.0                 |0.0      |1090496.0      |168669.0         |114200.0      |133796.0                  |null           |null                    |null                  |null            |null            |null              |null               |null                 |null                            |null                              |null                               |N            |null         |null           |null           |null         |null           |null               |null             |null                   |null           |null        |null                |null                                      |null                          |null                        |Cash               |N                   |null                     |null             |null           |null             |null                 |null           |\n",
      "|1815417|null|null     |25000    |25000      |25000.0        | 60 months|17.77   |631.72     |D    |D1       |Transfield Services     |5 years   |MORTGAGE      |104000.0  |Verified           |Dec-2012|Fully Paid |n         |null|null|debt_consolidation|Debt Consolidation Loan|928xx   |CA        |16.7 |0.0        |Mar-1994        |3.0           |null                  |null                  |13.0    |0.0    |45794    |75.3      |33.0     |f                  |0.0      |0.0          |35966.74        |35966.74       |25000.0        |10966.74     |0.0               |0.0       |0.0                    |Mar-2016    |11961.38       |null        |Mar-2016          |0.0                       |null                       |1          |Individual      |null            |null     |null                     |0.0           |0.0         |460458.0   |null       |null       |null       |null       |null              |null        |null   |null       |null       |null      |null    |60800.0         |null  |null       |null        |8.0                 |41860.0    |8335.0        |57.9   |0.0                     |0.0        |134.0             |228.0               |1.0                  |1.0           |6.0     |6.0                 |null                    |1.0                  |null                          |0.0                  |3.0           |6.0            |4.0        |11.0     |7.0      |9.0          |20.0         |6.0                |13.0    |0.0             |0.0         |0.0               |4.0               |96.0          |66.7            |0.0                 |0.0      |493737.0       |113639.0         |19800.0       |82937.0                   |null           |null                    |null                  |null            |null            |null              |null               |null                 |null                            |null                              |null                               |N            |null         |null           |null           |null         |null           |null               |null             |null                   |null           |null        |null                |null                                      |null                          |null                        |Cash               |N                   |null                     |null             |null           |null             |null                 |null           |\n",
      "+-------+----+---------+---------+-----------+---------------+----------+--------+-----------+-----+---------+------------------------+----------+--------------+----------+-------------------+--------+-----------+----------+----+----+------------------+-----------------------+--------+----------+-----+-----------+----------------+--------------+----------------------+----------------------+--------+-------+---------+----------+---------+-------------------+---------+-------------+----------------+---------------+---------------+-------------+------------------+----------+-----------------------+------------+---------------+------------+------------------+--------------------------+---------------------------+-----------+----------------+----------------+---------+-------------------------+--------------+------------+-----------+-----------+-----------+-----------+-----------+------------------+------------+-------+-----------+-----------+----------+--------+----------------+------+-----------+------------+--------------------+-----------+--------------+-------+------------------------+-----------+------------------+--------------------+---------------------+--------------+--------+--------------------+------------------------+---------------------+------------------------------+---------------------+--------------+---------------+-----------+---------+---------+-------------+-------------+-------------------+--------+----------------+------------+------------------+------------------+--------------+----------------+--------------------+---------+---------------+-----------------+--------------+--------------------------+---------------+------------------------+----------------------+----------------+----------------+------------------+-------------------+---------------------+--------------------------------+----------------------------------+-----------------------------------+-------------+-------------+---------------+---------------+-------------+---------------+-------------------+-----------------+-----------------------+---------------+------------+--------------------+------------------------------------------+------------------------------+----------------------------+-------------------+--------------------+-------------------------+-----------------+---------------+-----------------+---------------------+---------------+\n",
      "only showing top 20 rows\n",
      "\n"
     ]
    },
    {
     "name": "stderr",
     "output_type": "stream",
     "text": [
      "24/05/26 11:42:08 WARN CSVHeaderChecker: CSV header does not conform to the schema.\n",
      " Header: , id, member_id, loan_amnt, funded_amnt, funded_amnt_inv, term, int_rate, installment, grade, sub_grade, emp_title, emp_length, home_ownership, annual_inc, verification_status, issue_d, loan_status, pymnt_plan, url, desc, purpose, title, zip_code, addr_state, dti, delinq_2yrs, earliest_cr_line, inq_last_6mths, mths_since_last_delinq, mths_since_last_record, open_acc, pub_rec, revol_bal, revol_util, total_acc, initial_list_status, out_prncp, out_prncp_inv, total_pymnt, total_pymnt_inv, total_rec_prncp, total_rec_int, total_rec_late_fee, recoveries, collection_recovery_fee, last_pymnt_d, last_pymnt_amnt, next_pymnt_d, last_credit_pull_d, collections_12_mths_ex_med, mths_since_last_major_derog, policy_code, application_type, annual_inc_joint, dti_joint, verification_status_joint, acc_now_delinq, tot_coll_amt, tot_cur_bal, open_acc_6m, open_act_il, open_il_12m, open_il_24m, mths_since_rcnt_il, total_bal_il, il_util, open_rv_12m, open_rv_24m, max_bal_bc, all_util, total_rev_hi_lim, inq_fi, total_cu_tl, inq_last_12m, acc_open_past_24mths, avg_cur_bal, bc_open_to_buy, bc_util, chargeoff_within_12_mths, delinq_amnt, mo_sin_old_il_acct, mo_sin_old_rev_tl_op, mo_sin_rcnt_rev_tl_op, mo_sin_rcnt_tl, mort_acc, mths_since_recent_bc, mths_since_recent_bc_dlq, mths_since_recent_inq, mths_since_recent_revol_delinq, num_accts_ever_120_pd, num_actv_bc_tl, num_actv_rev_tl, num_bc_sats, num_bc_tl, num_il_tl, num_op_rev_tl, num_rev_accts, num_rev_tl_bal_gt_0, num_sats, num_tl_120dpd_2m, num_tl_30dpd, num_tl_90g_dpd_24m, num_tl_op_past_12m, pct_tl_nvr_dlq, percent_bc_gt_75, pub_rec_bankruptcies, tax_liens, tot_hi_cred_lim, total_bal_ex_mort, total_bc_limit, total_il_high_credit_limit, revol_bal_joint, sec_app_earliest_cr_line, sec_app_inq_last_6mths, sec_app_mort_acc, sec_app_open_acc, sec_app_revol_util, sec_app_open_act_il, sec_app_num_rev_accts, sec_app_chargeoff_within_12_mths, sec_app_collections_12_mths_ex_med, sec_app_mths_since_last_major_derog, hardship_flag, hardship_type, hardship_reason, hardship_status, deferral_term, hardship_amount, hardship_start_date, hardship_end_date, payment_plan_start_date, hardship_length, hardship_dpd, hardship_loan_status, orig_projected_additional_accrued_interest, hardship_payoff_balance_amount, hardship_last_payment_amount, disbursement_method, debt_settlement_flag, debt_settlement_flag_date, settlement_status, settlement_date, settlement_amount, settlement_percentage, settlement_term\n",
      " Schema: _c0, id, member_id, loan_amnt, funded_amnt, funded_amnt_inv, term, int_rate, installment, grade, sub_grade, emp_title, emp_length, home_ownership, annual_inc, verification_status, issue_d, loan_status, pymnt_plan, url, desc, purpose, title, zip_code, addr_state, dti, delinq_2yrs, earliest_cr_line, inq_last_6mths, mths_since_last_delinq, mths_since_last_record, open_acc, pub_rec, revol_bal, revol_util, total_acc, initial_list_status, out_prncp, out_prncp_inv, total_pymnt, total_pymnt_inv, total_rec_prncp, total_rec_int, total_rec_late_fee, recoveries, collection_recovery_fee, last_pymnt_d, last_pymnt_amnt, next_pymnt_d, last_credit_pull_d, collections_12_mths_ex_med, mths_since_last_major_derog, policy_code, application_type, annual_inc_joint, dti_joint, verification_status_joint, acc_now_delinq, tot_coll_amt, tot_cur_bal, open_acc_6m, open_act_il, open_il_12m, open_il_24m, mths_since_rcnt_il, total_bal_il, il_util, open_rv_12m, open_rv_24m, max_bal_bc, all_util, total_rev_hi_lim, inq_fi, total_cu_tl, inq_last_12m, acc_open_past_24mths, avg_cur_bal, bc_open_to_buy, bc_util, chargeoff_within_12_mths, delinq_amnt, mo_sin_old_il_acct, mo_sin_old_rev_tl_op, mo_sin_rcnt_rev_tl_op, mo_sin_rcnt_tl, mort_acc, mths_since_recent_bc, mths_since_recent_bc_dlq, mths_since_recent_inq, mths_since_recent_revol_delinq, num_accts_ever_120_pd, num_actv_bc_tl, num_actv_rev_tl, num_bc_sats, num_bc_tl, num_il_tl, num_op_rev_tl, num_rev_accts, num_rev_tl_bal_gt_0, num_sats, num_tl_120dpd_2m, num_tl_30dpd, num_tl_90g_dpd_24m, num_tl_op_past_12m, pct_tl_nvr_dlq, percent_bc_gt_75, pub_rec_bankruptcies, tax_liens, tot_hi_cred_lim, total_bal_ex_mort, total_bc_limit, total_il_high_credit_limit, revol_bal_joint, sec_app_earliest_cr_line, sec_app_inq_last_6mths, sec_app_mort_acc, sec_app_open_acc, sec_app_revol_util, sec_app_open_act_il, sec_app_num_rev_accts, sec_app_chargeoff_within_12_mths, sec_app_collections_12_mths_ex_med, sec_app_mths_since_last_major_derog, hardship_flag, hardship_type, hardship_reason, hardship_status, deferral_term, hardship_amount, hardship_start_date, hardship_end_date, payment_plan_start_date, hardship_length, hardship_dpd, hardship_loan_status, orig_projected_additional_accrued_interest, hardship_payoff_balance_amount, hardship_last_payment_amount, disbursement_method, debt_settlement_flag, debt_settlement_flag_date, settlement_status, settlement_date, settlement_amount, settlement_percentage, settlement_term\n",
      "Expected: _c0 but found: \n",
      "CSV file: file:///home/ubuntu/722_BDAS/output_file_first_half.csv\n"
     ]
    }
   ],
   "source": [
    "#codew to show all data frame\n",
    "# not used because it looks bad\n",
    "df.show(20, truncate=False)\n"
   ]
  },
  {
   "cell_type": "code",
   "execution_count": 8,
   "id": "f1ccdca5-1677-4e2a-abcc-1926af9cf897",
   "metadata": {},
   "outputs": [
    {
     "name": "stdout",
     "output_type": "stream",
     "text": [
      "root\n",
      " |-- _c0: integer (nullable = true)\n",
      " |-- id: string (nullable = true)\n",
      " |-- member_id: string (nullable = true)\n",
      " |-- loan_amnt: integer (nullable = true)\n",
      " |-- funded_amnt: integer (nullable = true)\n",
      " |-- funded_amnt_inv: double (nullable = true)\n",
      " |-- term: string (nullable = true)\n",
      " |-- int_rate: double (nullable = true)\n",
      " |-- installment: double (nullable = true)\n",
      " |-- grade: string (nullable = true)\n",
      " |-- sub_grade: string (nullable = true)\n",
      " |-- emp_title: string (nullable = true)\n",
      " |-- emp_length: string (nullable = true)\n",
      " |-- home_ownership: string (nullable = true)\n",
      " |-- annual_inc: double (nullable = true)\n",
      " |-- verification_status: string (nullable = true)\n",
      " |-- issue_d: string (nullable = true)\n",
      " |-- loan_status: string (nullable = true)\n",
      " |-- pymnt_plan: string (nullable = true)\n",
      " |-- url: string (nullable = true)\n",
      " |-- desc: string (nullable = true)\n",
      " |-- purpose: string (nullable = true)\n",
      " |-- title: string (nullable = true)\n",
      " |-- zip_code: string (nullable = true)\n",
      " |-- addr_state: string (nullable = true)\n",
      " |-- dti: string (nullable = true)\n",
      " |-- delinq_2yrs: string (nullable = true)\n",
      " |-- earliest_cr_line: string (nullable = true)\n",
      " |-- inq_last_6mths: string (nullable = true)\n",
      " |-- mths_since_last_delinq: string (nullable = true)\n",
      " |-- mths_since_last_record: string (nullable = true)\n",
      " |-- open_acc: string (nullable = true)\n",
      " |-- pub_rec: string (nullable = true)\n",
      " |-- revol_bal: string (nullable = true)\n",
      " |-- revol_util: string (nullable = true)\n",
      " |-- total_acc: string (nullable = true)\n",
      " |-- initial_list_status: string (nullable = true)\n",
      " |-- out_prncp: string (nullable = true)\n",
      " |-- out_prncp_inv: string (nullable = true)\n",
      " |-- total_pymnt: string (nullable = true)\n",
      " |-- total_pymnt_inv: string (nullable = true)\n",
      " |-- total_rec_prncp: double (nullable = true)\n",
      " |-- total_rec_int: string (nullable = true)\n",
      " |-- total_rec_late_fee: string (nullable = true)\n",
      " |-- recoveries: double (nullable = true)\n",
      " |-- collection_recovery_fee: double (nullable = true)\n",
      " |-- last_pymnt_d: string (nullable = true)\n",
      " |-- last_pymnt_amnt: string (nullable = true)\n",
      " |-- next_pymnt_d: string (nullable = true)\n",
      " |-- last_credit_pull_d: string (nullable = true)\n",
      " |-- collections_12_mths_ex_med: string (nullable = true)\n",
      " |-- mths_since_last_major_derog: string (nullable = true)\n",
      " |-- policy_code: string (nullable = true)\n",
      " |-- application_type: string (nullable = true)\n",
      " |-- annual_inc_joint: string (nullable = true)\n",
      " |-- dti_joint: string (nullable = true)\n",
      " |-- verification_status_joint: string (nullable = true)\n",
      " |-- acc_now_delinq: string (nullable = true)\n",
      " |-- tot_coll_amt: double (nullable = true)\n",
      " |-- tot_cur_bal: string (nullable = true)\n",
      " |-- open_acc_6m: string (nullable = true)\n",
      " |-- open_act_il: double (nullable = true)\n",
      " |-- open_il_12m: string (nullable = true)\n",
      " |-- open_il_24m: double (nullable = true)\n",
      " |-- mths_since_rcnt_il: double (nullable = true)\n",
      " |-- total_bal_il: string (nullable = true)\n",
      " |-- il_util: double (nullable = true)\n",
      " |-- open_rv_12m: double (nullable = true)\n",
      " |-- open_rv_24m: double (nullable = true)\n",
      " |-- max_bal_bc: string (nullable = true)\n",
      " |-- all_util: double (nullable = true)\n",
      " |-- total_rev_hi_lim: double (nullable = true)\n",
      " |-- inq_fi: double (nullable = true)\n",
      " |-- total_cu_tl: double (nullable = true)\n",
      " |-- inq_last_12m: double (nullable = true)\n",
      " |-- acc_open_past_24mths: double (nullable = true)\n",
      " |-- avg_cur_bal: double (nullable = true)\n",
      " |-- bc_open_to_buy: double (nullable = true)\n",
      " |-- bc_util: double (nullable = true)\n",
      " |-- chargeoff_within_12_mths: double (nullable = true)\n",
      " |-- delinq_amnt: double (nullable = true)\n",
      " |-- mo_sin_old_il_acct: double (nullable = true)\n",
      " |-- mo_sin_old_rev_tl_op: double (nullable = true)\n",
      " |-- mo_sin_rcnt_rev_tl_op: double (nullable = true)\n",
      " |-- mo_sin_rcnt_tl: double (nullable = true)\n",
      " |-- mort_acc: double (nullable = true)\n",
      " |-- mths_since_recent_bc: double (nullable = true)\n",
      " |-- mths_since_recent_bc_dlq: double (nullable = true)\n",
      " |-- mths_since_recent_inq: double (nullable = true)\n",
      " |-- mths_since_recent_revol_delinq: double (nullable = true)\n",
      " |-- num_accts_ever_120_pd: double (nullable = true)\n",
      " |-- num_actv_bc_tl: double (nullable = true)\n",
      " |-- num_actv_rev_tl: double (nullable = true)\n",
      " |-- num_bc_sats: double (nullable = true)\n",
      " |-- num_bc_tl: double (nullable = true)\n",
      " |-- num_il_tl: double (nullable = true)\n",
      " |-- num_op_rev_tl: double (nullable = true)\n",
      " |-- num_rev_accts: double (nullable = true)\n",
      " |-- num_rev_tl_bal_gt_0: double (nullable = true)\n",
      " |-- num_sats: double (nullable = true)\n",
      " |-- num_tl_120dpd_2m: double (nullable = true)\n",
      " |-- num_tl_30dpd: double (nullable = true)\n",
      " |-- num_tl_90g_dpd_24m: double (nullable = true)\n",
      " |-- num_tl_op_past_12m: double (nullable = true)\n",
      " |-- pct_tl_nvr_dlq: double (nullable = true)\n",
      " |-- percent_bc_gt_75: double (nullable = true)\n",
      " |-- pub_rec_bankruptcies: double (nullable = true)\n",
      " |-- tax_liens: double (nullable = true)\n",
      " |-- tot_hi_cred_lim: double (nullable = true)\n",
      " |-- total_bal_ex_mort: double (nullable = true)\n",
      " |-- total_bc_limit: double (nullable = true)\n",
      " |-- total_il_high_credit_limit: double (nullable = true)\n",
      " |-- revol_bal_joint: double (nullable = true)\n",
      " |-- sec_app_earliest_cr_line: string (nullable = true)\n",
      " |-- sec_app_inq_last_6mths: double (nullable = true)\n",
      " |-- sec_app_mort_acc: double (nullable = true)\n",
      " |-- sec_app_open_acc: double (nullable = true)\n",
      " |-- sec_app_revol_util: double (nullable = true)\n",
      " |-- sec_app_open_act_il: double (nullable = true)\n",
      " |-- sec_app_num_rev_accts: double (nullable = true)\n",
      " |-- sec_app_chargeoff_within_12_mths: double (nullable = true)\n",
      " |-- sec_app_collections_12_mths_ex_med: double (nullable = true)\n",
      " |-- sec_app_mths_since_last_major_derog: double (nullable = true)\n",
      " |-- hardship_flag: string (nullable = true)\n",
      " |-- hardship_type: string (nullable = true)\n",
      " |-- hardship_reason: string (nullable = true)\n",
      " |-- hardship_status: string (nullable = true)\n",
      " |-- deferral_term: string (nullable = true)\n",
      " |-- hardship_amount: double (nullable = true)\n",
      " |-- hardship_start_date: string (nullable = true)\n",
      " |-- hardship_end_date: string (nullable = true)\n",
      " |-- payment_plan_start_date: string (nullable = true)\n",
      " |-- hardship_length: double (nullable = true)\n",
      " |-- hardship_dpd: double (nullable = true)\n",
      " |-- hardship_loan_status: string (nullable = true)\n",
      " |-- orig_projected_additional_accrued_interest: double (nullable = true)\n",
      " |-- hardship_payoff_balance_amount: double (nullable = true)\n",
      " |-- hardship_last_payment_amount: double (nullable = true)\n",
      " |-- disbursement_method: string (nullable = true)\n",
      " |-- debt_settlement_flag: string (nullable = true)\n",
      " |-- debt_settlement_flag_date: string (nullable = true)\n",
      " |-- settlement_status: string (nullable = true)\n",
      " |-- settlement_date: string (nullable = true)\n",
      " |-- settlement_amount: string (nullable = true)\n",
      " |-- settlement_percentage: string (nullable = true)\n",
      " |-- settlement_term: string (nullable = true)\n",
      "\n"
     ]
    }
   ],
   "source": [
    "df.printSchema()"
   ]
  },
  {
   "cell_type": "markdown",
   "id": "01836da8-e974-4610-ae61-ac5ca220fe4e",
   "metadata": {},
   "source": [
    "# The following code integrates 2 data sources togather "
   ]
  },
  {
   "cell_type": "code",
   "execution_count": 9,
   "id": "cee75e42-8545-4807-9060-e440da33b605",
   "metadata": {},
   "outputs": [
    {
     "name": "stderr",
     "output_type": "stream",
     "text": [
      "24/05/26 11:42:08 WARN CSVHeaderChecker: CSV header does not conform to the schema.\n",
      " Header: , id, member_id, loan_amnt, funded_amnt, funded_amnt_inv, term, int_rate, installment, grade, sub_grade, emp_title, emp_length, home_ownership, annual_inc, verification_status, issue_d, loan_status, pymnt_plan, url, desc, purpose, title, zip_code, addr_state, dti, delinq_2yrs, earliest_cr_line, inq_last_6mths, mths_since_last_delinq, mths_since_last_record, open_acc, pub_rec, revol_bal, revol_util, total_acc, initial_list_status, out_prncp, out_prncp_inv, total_pymnt, total_pymnt_inv, total_rec_prncp, total_rec_int, total_rec_late_fee, recoveries, collection_recovery_fee, last_pymnt_d, last_pymnt_amnt, next_pymnt_d, last_credit_pull_d, collections_12_mths_ex_med, mths_since_last_major_derog, policy_code, application_type, annual_inc_joint, dti_joint, verification_status_joint, acc_now_delinq, tot_coll_amt, tot_cur_bal, open_acc_6m, open_act_il, open_il_12m, open_il_24m, mths_since_rcnt_il, total_bal_il, il_util, open_rv_12m, open_rv_24m, max_bal_bc, all_util, total_rev_hi_lim, inq_fi, total_cu_tl, inq_last_12m, acc_open_past_24mths, avg_cur_bal, bc_open_to_buy, bc_util, chargeoff_within_12_mths, delinq_amnt, mo_sin_old_il_acct, mo_sin_old_rev_tl_op, mo_sin_rcnt_rev_tl_op, mo_sin_rcnt_tl, mort_acc, mths_since_recent_bc, mths_since_recent_bc_dlq, mths_since_recent_inq, mths_since_recent_revol_delinq, num_accts_ever_120_pd, num_actv_bc_tl, num_actv_rev_tl, num_bc_sats, num_bc_tl, num_il_tl, num_op_rev_tl, num_rev_accts, num_rev_tl_bal_gt_0, num_sats, num_tl_120dpd_2m, num_tl_30dpd, num_tl_90g_dpd_24m, num_tl_op_past_12m, pct_tl_nvr_dlq, percent_bc_gt_75, pub_rec_bankruptcies, tax_liens, tot_hi_cred_lim, total_bal_ex_mort, total_bc_limit, total_il_high_credit_limit, revol_bal_joint, sec_app_earliest_cr_line, sec_app_inq_last_6mths, sec_app_mort_acc, sec_app_open_acc, sec_app_revol_util, sec_app_open_act_il, sec_app_num_rev_accts, sec_app_chargeoff_within_12_mths, sec_app_collections_12_mths_ex_med, sec_app_mths_since_last_major_derog, hardship_flag, hardship_type, hardship_reason, hardship_status, deferral_term, hardship_amount, hardship_start_date, hardship_end_date, payment_plan_start_date, hardship_length, hardship_dpd, hardship_loan_status, orig_projected_additional_accrued_interest, hardship_payoff_balance_amount, hardship_last_payment_amount, disbursement_method, debt_settlement_flag, debt_settlement_flag_date, settlement_status, settlement_date, settlement_amount, settlement_percentage, settlement_term\n",
      " Schema: _c0, id, member_id, loan_amnt, funded_amnt, funded_amnt_inv, term, int_rate, installment, grade, sub_grade, emp_title, emp_length, home_ownership, annual_inc, verification_status, issue_d, loan_status, pymnt_plan, url, desc, purpose, title, zip_code, addr_state, dti, delinq_2yrs, earliest_cr_line, inq_last_6mths, mths_since_last_delinq, mths_since_last_record, open_acc, pub_rec, revol_bal, revol_util, total_acc, initial_list_status, out_prncp, out_prncp_inv, total_pymnt, total_pymnt_inv, total_rec_prncp, total_rec_int, total_rec_late_fee, recoveries, collection_recovery_fee, last_pymnt_d, last_pymnt_amnt, next_pymnt_d, last_credit_pull_d, collections_12_mths_ex_med, mths_since_last_major_derog, policy_code, application_type, annual_inc_joint, dti_joint, verification_status_joint, acc_now_delinq, tot_coll_amt, tot_cur_bal, open_acc_6m, open_act_il, open_il_12m, open_il_24m, mths_since_rcnt_il, total_bal_il, il_util, open_rv_12m, open_rv_24m, max_bal_bc, all_util, total_rev_hi_lim, inq_fi, total_cu_tl, inq_last_12m, acc_open_past_24mths, avg_cur_bal, bc_open_to_buy, bc_util, chargeoff_within_12_mths, delinq_amnt, mo_sin_old_il_acct, mo_sin_old_rev_tl_op, mo_sin_rcnt_rev_tl_op, mo_sin_rcnt_tl, mort_acc, mths_since_recent_bc, mths_since_recent_bc_dlq, mths_since_recent_inq, mths_since_recent_revol_delinq, num_accts_ever_120_pd, num_actv_bc_tl, num_actv_rev_tl, num_bc_sats, num_bc_tl, num_il_tl, num_op_rev_tl, num_rev_accts, num_rev_tl_bal_gt_0, num_sats, num_tl_120dpd_2m, num_tl_30dpd, num_tl_90g_dpd_24m, num_tl_op_past_12m, pct_tl_nvr_dlq, percent_bc_gt_75, pub_rec_bankruptcies, tax_liens, tot_hi_cred_lim, total_bal_ex_mort, total_bc_limit, total_il_high_credit_limit, revol_bal_joint, sec_app_earliest_cr_line, sec_app_inq_last_6mths, sec_app_mort_acc, sec_app_open_acc, sec_app_revol_util, sec_app_open_act_il, sec_app_num_rev_accts, sec_app_chargeoff_within_12_mths, sec_app_collections_12_mths_ex_med, sec_app_mths_since_last_major_derog, hardship_flag, hardship_type, hardship_reason, hardship_status, deferral_term, hardship_amount, hardship_start_date, hardship_end_date, payment_plan_start_date, hardship_length, hardship_dpd, hardship_loan_status, orig_projected_additional_accrued_interest, hardship_payoff_balance_amount, hardship_last_payment_amount, disbursement_method, debt_settlement_flag, debt_settlement_flag_date, settlement_status, settlement_date, settlement_amount, settlement_percentage, settlement_term\n",
      "Expected: _c0 but found: \n",
      "CSV file: file:///home/ubuntu/722_BDAS/output_file_first_half.csv\n"
     ]
    },
    {
     "name": "stdout",
     "output_type": "stream",
     "text": [
      "+-------+----+---------+---------+-----------+---------------+----------+--------+-----------+-----+---------+--------------------+----------+--------------+----------+-------------------+--------+-----------+----------+----+----+------------------+--------------------+--------+----------+-----+-----------+----------------+--------------+----------------------+----------------------+--------+-------+---------+----------+---------+-------------------+---------+-------------+----------------+---------------+---------------+-------------+------------------+----------+-----------------------+------------+---------------+------------+------------------+--------------------------+---------------------------+-----------+----------------+----------------+---------+-------------------------+--------------+------------+-----------+-----------+-----------+-----------+-----------+------------------+------------+-------+-----------+-----------+----------+--------+----------------+------+-----------+------------+--------------------+-----------+--------------+-------+------------------------+-----------+------------------+--------------------+---------------------+--------------+--------+--------------------+------------------------+---------------------+------------------------------+---------------------+--------------+---------------+-----------+---------+---------+-------------+-------------+-------------------+--------+----------------+------------+------------------+------------------+--------------+----------------+--------------------+---------+---------------+-----------------+--------------+--------------------------+---------------+------------------------+----------------------+----------------+----------------+------------------+-------------------+---------------------+--------------------------------+----------------------------------+-----------------------------------+-------------+-------------+---------------+---------------+-------------+---------------+-------------------+-----------------+-----------------------+---------------+------------+--------------------+------------------------------------------+------------------------------+----------------------------+-------------------+--------------------+-------------------------+-----------------+---------------+-----------------+---------------------+---------------+\n",
      "|    _c0|  id|member_id|loan_amnt|funded_amnt|funded_amnt_inv|      term|int_rate|installment|grade|sub_grade|           emp_title|emp_length|home_ownership|annual_inc|verification_status| issue_d|loan_status|pymnt_plan| url|desc|           purpose|               title|zip_code|addr_state|  dti|delinq_2yrs|earliest_cr_line|inq_last_6mths|mths_since_last_delinq|mths_since_last_record|open_acc|pub_rec|revol_bal|revol_util|total_acc|initial_list_status|out_prncp|out_prncp_inv|     total_pymnt|total_pymnt_inv|total_rec_prncp|total_rec_int|total_rec_late_fee|recoveries|collection_recovery_fee|last_pymnt_d|last_pymnt_amnt|next_pymnt_d|last_credit_pull_d|collections_12_mths_ex_med|mths_since_last_major_derog|policy_code|application_type|annual_inc_joint|dti_joint|verification_status_joint|acc_now_delinq|tot_coll_amt|tot_cur_bal|open_acc_6m|open_act_il|open_il_12m|open_il_24m|mths_since_rcnt_il|total_bal_il|il_util|open_rv_12m|open_rv_24m|max_bal_bc|all_util|total_rev_hi_lim|inq_fi|total_cu_tl|inq_last_12m|acc_open_past_24mths|avg_cur_bal|bc_open_to_buy|bc_util|chargeoff_within_12_mths|delinq_amnt|mo_sin_old_il_acct|mo_sin_old_rev_tl_op|mo_sin_rcnt_rev_tl_op|mo_sin_rcnt_tl|mort_acc|mths_since_recent_bc|mths_since_recent_bc_dlq|mths_since_recent_inq|mths_since_recent_revol_delinq|num_accts_ever_120_pd|num_actv_bc_tl|num_actv_rev_tl|num_bc_sats|num_bc_tl|num_il_tl|num_op_rev_tl|num_rev_accts|num_rev_tl_bal_gt_0|num_sats|num_tl_120dpd_2m|num_tl_30dpd|num_tl_90g_dpd_24m|num_tl_op_past_12m|pct_tl_nvr_dlq|percent_bc_gt_75|pub_rec_bankruptcies|tax_liens|tot_hi_cred_lim|total_bal_ex_mort|total_bc_limit|total_il_high_credit_limit|revol_bal_joint|sec_app_earliest_cr_line|sec_app_inq_last_6mths|sec_app_mort_acc|sec_app_open_acc|sec_app_revol_util|sec_app_open_act_il|sec_app_num_rev_accts|sec_app_chargeoff_within_12_mths|sec_app_collections_12_mths_ex_med|sec_app_mths_since_last_major_derog|hardship_flag|hardship_type|hardship_reason|hardship_status|deferral_term|hardship_amount|hardship_start_date|hardship_end_date|payment_plan_start_date|hardship_length|hardship_dpd|hardship_loan_status|orig_projected_additional_accrued_interest|hardship_payoff_balance_amount|hardship_last_payment_amount|disbursement_method|debt_settlement_flag|debt_settlement_flag_date|settlement_status|settlement_date|settlement_amount|settlement_percentage|settlement_term|\n",
      "+-------+----+---------+---------+-----------+---------------+----------+--------+-----------+-----+---------+--------------------+----------+--------------+----------+-------------------+--------+-----------+----------+----+----+------------------+--------------------+--------+----------+-----+-----------+----------------+--------------+----------------------+----------------------+--------+-------+---------+----------+---------+-------------------+---------+-------------+----------------+---------------+---------------+-------------+------------------+----------+-----------------------+------------+---------------+------------+------------------+--------------------------+---------------------------+-----------+----------------+----------------+---------+-------------------------+--------------+------------+-----------+-----------+-----------+-----------+-----------+------------------+------------+-------+-----------+-----------+----------+--------+----------------+------+-----------+------------+--------------------+-----------+--------------+-------+------------------------+-----------+------------------+--------------------+---------------------+--------------+--------+--------------------+------------------------+---------------------+------------------------------+---------------------+--------------+---------------+-----------+---------+---------+-------------+-------------+-------------------+--------+----------------+------------+------------------+------------------+--------------+----------------+--------------------+---------+---------------+-----------------+--------------+--------------------------+---------------+------------------------+----------------------+----------------+----------------+------------------+-------------------+---------------------+--------------------------------+----------------------------------+-----------------------------------+-------------+-------------+---------------+---------------+-------------+---------------+-------------------+-----------------+-----------------------+---------------+------------+--------------------+------------------------------------------+------------------------------+----------------------------+-------------------+--------------------+-------------------------+-----------------+---------------+-----------------+---------------------+---------------+\n",
      "|1758049|null|     null|    35000|      35000|        35000.0| 36 months|   12.12|    1164.51|    B|       B3|Legacy Physicians...|  < 1 year|          RENT|   90000.0|           Verified|Jun-2013| Fully Paid|         n|null|null|debt_consolidation|      Hospital Debt |   775xx|        TX| 3.51|        0.0|        Nov-1997|           0.0|                  26.0|                  null|    14.0|    0.0|     1347|       8.1|     22.0|                  w|      0.0|          0.0|        36606.09|       36606.09|        35000.0|      1606.09|               0.0|       0.0|                    0.0|    Dec-2013|        4783.54|        null|          Jan-2014|                       0.0|                       26.0|          1|      Individual|            null|     null|                     null|           0.0|         0.0|    81768.0|       null|       null|       null|       null|              null|        null|   null|       null|       null|      null|    null|         16700.0|  null|       null|        null|                 1.0|     5841.0|       12053.0|   10.1|                     0.0|        0.0|             169.0|               190.0|                 12.0|          12.0|     1.0|                55.0|                    null|                 null|                          null|                  1.0|           1.0|            1.0|        2.0|      3.0|     14.0|          5.0|          7.0|                1.0|    14.0|             0.0|         0.0|               0.0|               1.0|          95.0|             0.0|                 0.0|      0.0|        99068.0|          81768.0|       13400.0|                   82368.0|           null|                    null|                  null|            null|            null|              null|               null|                 null|                            null|                              null|                               null|            N|         null|           null|           null|         null|           null|               null|             null|                   null|           null|        null|                null|                                      null|                          null|                        null|               Cash|                   N|                     null|             null|           null|             null|                 null|           null|\n",
      "| 686533|null|     null|    30000|      30000|        30000.0| 60 months|   10.75|     648.54|    B|       B4| Director of nursing|   2 years|          RENT|  100000.0|           Verified|Apr-2016|    Current|         n|null|null|       credit_card|Credit card refin...|   782xx|        TX|22.85|        0.0|        Jun-2011|           2.0|                  null|                  null|    17.0|    0.0|    29780|      52.7|     25.0|                  f| 14987.66|     14987.66|        22115.61|       22115.61|       15012.34|      7103.27|               0.0|       0.0|                    0.0|    Feb-2019|         648.54|    Mar-2019|          Feb-2019|                       0.0|                       null|          1|      Individual|            null|     null|                     null|           0.0|         0.0|    65689.0|        0.0|        2.0|        0.0|        1.0|              22.0|     35909.0|   64.0|        0.0|        3.0|    7525.0|    58.0|         56500.0|   4.0|        9.0|         5.0|                 4.0|     3864.0|       12126.0|   60.6|                     0.0|        0.0|              49.0|                57.0|                 13.0|          13.0|     0.0|                25.0|                    null|                  0.0|                          null|                  0.0|           6.0|           10.0|        7.0|      8.0|      7.0|         15.0|         18.0|               10.0|    17.0|             0.0|         0.0|               0.0|               0.0|         100.0|            57.1|                 0.0|      0.0|       113051.0|          65689.0|       30800.0|                   56551.0|           null|                    null|                  null|            null|            null|              null|               null|                 null|                            null|                              null|                               null|            N|         null|           null|           null|         null|           null|               null|             null|                   null|           null|        null|                null|                                      null|                          null|                        null|               Cash|                   N|                     null|             null|           null|             null|                 null|           null|\n",
      "| 900721|null|     null|    15000|      15000|        15000.0| 36 months|    7.49|     466.53|    A|       A4|             Partner|   5 years|           OWN|  100000.0|    Source Verified|Oct-2016| Fully Paid|         n|null|null|    small_business|            Business|   210xx|        MD| 6.71|        0.0|        Apr-1996|           0.0|                  null|                  null|    16.0|    0.0|     7425|      10.3|     25.0|                  w|      0.0|          0.0|16052.0529426592|       16052.05|        15000.0|      1052.05|               0.0|       0.0|                    0.0|    Nov-2017|       10466.17|        null|          Dec-2017|                       0.0|                       null|          1|      Individual|            null|     null|                     null|           0.0|         0.0|   150276.0|        0.0|        1.0|        0.0|        0.0|              30.0|      9148.0|   58.0|        1.0|        4.0|    3673.0|    19.0|         72300.0|   2.0|        1.0|         1.0|                 4.0|     9392.0|       45813.0|   12.4|                     0.0|        0.0|              96.0|               242.0|                 10.0|          10.0|     1.0|                17.0|                    null|                 10.0|                          null|                  1.0|           4.0|            6.0|        8.0|     10.0|      4.0|         13.0|         17.0|                6.0|    16.0|             0.0|         0.0|               0.0|               1.0|         100.0|             0.0|                 0.0|      0.0|       226524.0|          17874.0|       52300.0|                   15899.0|           null|                    null|                  null|            null|            null|              null|               null|                 null|                            null|                              null|                               null|            N|         null|           null|           null|         null|           null|               null|             null|                   null|           null|        null|                null|                                      null|                          null|                        null|               Cash|                   N|                     null|             null|           null|             null|                 null|           null|\n",
      "|1727912|null|     null|    24000|      24000|        24000.0| 60 months|   21.15|     651.31|    E|       E2|Einstein Bros. Ba...|   5 years|          RENT|   58000.0|    Source Verified|Sep-2013| Fully Paid|         n|null|null|debt_consolidation|  Debt Consolidation|   282xx|        NC| 15.5|        0.0|        Aug-1998|           0.0|                  null|                  null|    10.0|    0.0|    24123|      72.2|     15.0|                  f|      0.0|          0.0|39078.3232394871|       39078.32|        24000.0|     15078.32|               0.0|       0.0|                    0.0|    Sep-2018|         651.03|        null|          Feb-2019|                       0.0|                       null|          1|      Individual|            null|     null|                     null|           0.0|         0.0|    27496.0|       null|       null|       null|       null|              null|        null|   null|       null|       null|      null|    null|         33400.0|  null|       null|        null|                 2.0|     2750.0|        1447.0|   93.0|                     0.0|        0.0|              90.0|               183.0|                 10.0|          10.0|     0.0|                10.0|                    null|                 10.0|                          null|                  0.0|           4.0|            7.0|        5.0|      7.0|      5.0|          8.0|         10.0|                7.0|    10.0|             0.0|         0.0|               0.0|               2.0|         100.0|            80.0|                 0.0|      0.0|        38609.0|          27496.0|       20600.0|                    5209.0|           null|                    null|                  null|            null|            null|              null|               null|                 null|                            null|                              null|                               null|            N|         null|           null|           null|         null|           null|               null|             null|                   null|           null|        null|                null|                                      null|                          null|                        null|               Cash|                   N|                     null|             null|           null|             null|                 null|           null|\n",
      "| 539691|null|     null|    14400|      14400|        14400.0| 36 months|    8.59|     455.18|    A|       A5|  Nurse practitioner|   3 years|      MORTGAGE|   90000.0|       Not Verified|Aug-2016|    Current|         n|null|null|debt_consolidation|  Debt consolidation|   658xx|        MO|19.88|        0.0|        Dec-2003|           0.0|                  41.0|                  null|    19.0|    0.0|    16615|      49.9|     48.0|                  w|  2663.68|      2663.68|        13648.53|       13648.53|       11736.32|      1912.21|               0.0|       0.0|                    0.0|    Feb-2019|         455.18|    Mar-2019|          Feb-2019|                       0.0|                       null|          1|      Individual|            null|     null|                     null|           0.0|         0.0|   131564.0|        0.0|        8.0|        0.0|        1.0|              19.0|    114949.0|  107.0|        0.0|        0.0|    2745.0|    93.0|         33300.0|   0.0|        0.0|         1.0|                 1.0|     7309.0|       11121.0|   46.3|                     0.0|        0.0|             144.0|               152.0|                 58.0|          19.0|     1.0|                87.0|                    41.0|                  3.0|                          41.0|                  0.0|           5.0|            8.0|        6.0|      7.0|     31.0|         11.0|         16.0|                8.0|    19.0|             0.0|         0.0|               0.0|               0.0|          95.8|            16.7|                 0.0|      0.0|       141144.0|         131564.0|       20700.0|                  107844.0|           null|                    null|                  null|            null|            null|              null|               null|                 null|                            null|                              null|                               null|            N|         null|           null|           null|         null|           null|               null|             null|                   null|           null|        null|                null|                                      null|                          null|                        null|               Cash|                   N|                     null|             null|           null|             null|                 null|           null|\n",
      "|2153213|null|     null|     5000|       5000|         5000.0| 36 months|    9.93|     161.18|    B|       B2|          Accountant|  < 1 year|          RENT|   46750.0|       Not Verified|Dec-2017| Fully Paid|         n|null|null|       credit_card|Credit card refin...|   085xx|        NJ|11.09|        0.0|        Nov-2000|           1.0|                  null|                  null|     8.0|    0.0|     5449|      13.2|     11.0|                  w|      0.0|          0.0| 5064.7924929831|        5064.79|         5000.0|        64.79|               0.0|       0.0|                    0.0|    Feb-2018|        1526.25|        null|          Dec-2018|                       0.0|                       null|          1|      Individual|            null|     null|                     null|           0.0|         0.0|    31584.0|        2.0|        2.0|        1.0|        1.0|               2.0|     26135.0|   84.0|        1.0|        2.0|    5448.0|    44.0|         41200.0|   1.0|        0.0|         1.0|                 3.0|     3948.0|       34752.0|   13.6|                     0.0|        0.0|              64.0|               205.0|                  5.0|           2.0|     0.0|                 5.0|                    null|                  2.0|                          null|                  0.0|           1.0|            2.0|        5.0|      5.0|      4.0|          6.0|          7.0|                2.0|     8.0|             0.0|         0.0|               0.0|               2.0|         100.0|             0.0|                 0.0|      0.0|        72450.0|          31584.0|       40200.0|                   31250.0|           null|                    null|                  null|            null|            null|              null|               null|                 null|                            null|                              null|                               null|            N|         null|           null|           null|         null|           null|               null|             null|                   null|           null|        null|                null|                                      null|                          null|                        null|               Cash|                   N|                     null|             null|           null|             null|                 null|           null|\n",
      "|  47643|null|     null|    25600|      25600|        25600.0| 60 months|    8.81|     529.06|    A|       A5|Cabinet Design an...|    1 year|      MORTGAGE|   35000.0|    Source Verified|Nov-2018|    Current|         n|null|null|       credit_card|Credit card refin...|   305xx|        GA|14.09|        0.0|        Apr-2003|           0.0|                  null|                  null|     4.0|    0.0|    16184|      76.0|      9.0|                  w| 24569.13|     24569.13|         1574.65|        1574.65|        1030.87|       543.78|               0.0|       0.0|                    0.0|    Feb-2019|         529.06|    Mar-2019|          Feb-2019|                       0.0|                       null|          1|      Individual|            null|     null|                     null|           0.0|         0.0|    16184.0|        1.0|        0.0|        0.0|        0.0|             162.0|         0.0|   null|        1.0|        2.0|   11812.0|    76.0|         21300.0|   0.0|        0.0|         0.0|                 2.0|     4046.0|        4116.0|   79.7|                     0.0|        0.0|             162.0|               187.0|                  0.0|           0.0|     0.0|                 0.0|                    null|                 13.0|                          null|                  0.0|           3.0|            3.0|        3.0|      4.0|      1.0|          4.0|          8.0|                3.0|     4.0|             0.0|         0.0|               0.0|               1.0|         100.0|            66.7|                 0.0|      0.0|        21300.0|          16184.0|       20300.0|                       0.0|           null|                    null|                  null|            null|            null|              null|               null|                 null|                            null|                              null|                               null|            N|         null|           null|           null|         null|           null|               null|             null|                   null|           null|        null|                null|                                      null|                          null|                        null|          DirectPay|                   N|                     null|             null|           null|             null|                 null|           null|\n",
      "|1360732|null|     null|     6550|       6550|         6550.0| 36 months|   24.74|     259.53|    E|       E3|  Over night stocker|   9 years|      MORTGAGE|   42000.0|    Source Verified|Mar-2017| Fully Paid|         n|null|null|             other|               Other|   444xx|        OH|18.71|        0.0|        Nov-2006|           3.0|                  null|                  null|     3.0|    0.0|     4751|      60.9|      8.0|                  f|      0.0|          0.0| 8459.3397341582|        8459.34|         6550.0|      1909.34|               0.0|       0.0|                    0.0|    Aug-2018|        4324.87|        null|          Aug-2018|                       0.0|                       null|          1|      Individual|            null|     null|                     null|           0.0|         0.0|    58160.0|        1.0|        2.0|        0.0|        1.0|              18.0|     53409.0|   46.0|        1.0|        1.0|    4751.0|    53.0|          7800.0|   2.0|        0.0|         3.0|                 2.0|    19387.0|        3049.0|   60.9|                     0.0|        0.0|             124.0|                30.0|                  6.0|           6.0|     1.0|                 6.0|                    null|                  0.0|                          null|                  0.0|           1.0|            1.0|        1.0|      2.0|      5.0|          1.0|          2.0|                1.0|     3.0|             0.0|         0.0|               0.0|               1.0|         100.0|             0.0|                 0.0|      0.0|        85015.0|          58160.0|        7800.0|                   77215.0|           null|                    null|                  null|            null|            null|              null|               null|                 null|                            null|                              null|                               null|            N|         null|           null|           null|         null|           null|               null|             null|                   null|           null|        null|                null|                                      null|                          null|                        null|               Cash|                   N|                     null|             null|           null|             null|                 null|           null|\n",
      "|1779694|null|     null|    12000|      12000|        12000.0| 36 months|   14.33|     412.06|    C|       C1|      City of Aurora| 10+ years|      MORTGAGE|  107499.0|       Not Verified|Apr-2013| Fully Paid|         n|null|null|debt_consolidation|  bill consolidation|   605xx|        IL| 1.55|        0.0|        Jul-1993|           1.0|                  43.0|                  null|     4.0|    0.0|     3995|      72.6|     12.0|                  f|      0.0|          0.0|14827.3269855467|       14827.33|        12000.0|      2827.33|               0.0|       0.0|                    0.0|    Mar-2016|         392.28|        null|          Feb-2019|                       0.0|                       null|          1|      Individual|            null|     null|                     null|           0.0|         0.0|     3995.0|       null|       null|       null|       null|              null|        null|   null|       null|       null|      null|    null|          5500.0|  null|       null|        null|                 1.0|     1332.0|           0.0|  106.0|                     0.0|        0.0|             143.0|               241.0|                 19.0|          19.0|     4.0|                79.0|                    null|                  4.0|                          46.0|                  0.0|           1.0|            2.0|        1.0|      2.0|      2.0|          4.0|          6.0|                2.0|     4.0|             0.0|         0.0|               0.0|               0.0|          83.0|           100.0|                 0.0|      0.0|         5500.0|           3995.0|        3000.0|                       0.0|           null|                    null|                  null|            null|            null|              null|               null|                 null|                            null|                              null|                               null|            N|         null|           null|           null|         null|           null|               null|             null|                   null|           null|        null|                null|                                      null|                          null|                        null|               Cash|                   N|                     null|             null|           null|             null|                 null|           null|\n",
      "| 511378|null|     null|    21000|      21000|        21000.0| 36 months|   17.99|      759.1|    D|       D2|            EKG Tech|   3 years|          RENT|   85000.0|    Source Verified|Sep-2016|    Current|         n|null|null|debt_consolidation|  Debt consolidation|   945xx|        CA|11.98|        2.0|        Mar-2007|           0.0|                   8.0|                  99.0|    10.0|    1.0|      457|       2.6|     19.0|                  w|  5011.63|      5011.63|        22049.64|       22049.64|       15988.37|      6061.27|               0.0|       0.0|                    0.0|    Feb-2019|          759.1|    Mar-2019|          Feb-2019|                       0.0|                       null|          1|      Individual|            null|     null|                     null|           0.0|         0.0|    24228.0|        0.0|        2.0|        2.0|        3.0|               7.0|     23771.0|   83.0|        0.0|        0.0|       8.0|    52.0|         17800.0|   2.0|        0.0|         4.0|                 3.0|     2423.0|        5484.0|    0.3|                     0.0|        0.0|             111.0|               114.0|                 26.0|           7.0|     0.0|                26.0|                     8.0|                  2.0|                           8.0|                  0.0|           2.0|            3.0|        4.0|      6.0|      8.0|          7.0|         11.0|                3.0|    10.0|             0.0|         0.0|               0.0|               2.0|          84.2|             0.0|                 0.0|      1.0|        46432.0|          24228.0|        5500.0|                   28632.0|           null|                    null|                  null|            null|            null|              null|               null|                 null|                            null|                              null|                               null|            N|         null|           null|           null|         null|           null|               null|             null|                   null|           null|        null|                null|                                      null|                          null|                        null|               Cash|                   N|                     null|             null|           null|             null|                 null|           null|\n",
      "| 506300|null|     null|    15500|      15500|        15500.0| 60 months|   19.99|     410.57|    D|       D4|             Analyst|   5 years|      MORTGAGE|   77500.0|    Source Verified|Sep-2016|    Current|         n|null|null|debt_consolidation|  Debt consolidation|   217xx|        MD|19.09|        0.0|        Dec-2002|           0.0|                  null|                  null|     9.0|    0.0|    30373|      74.6|     27.0|                  w|  9878.18|      9878.18|        11889.32|       11889.32|        5621.82|       6267.5|               0.0|       0.0|                    0.0|    Feb-2019|         410.57|    Mar-2019|          Feb-2019|                       0.0|                       null|          1|      Individual|            null|     null|                     null|           0.0|         0.0|   362168.0|        1.0|        2.0|        1.0|        2.0|              10.0|     22504.0|   84.0|        2.0|        2.0|   15640.0|    78.0|         40700.0|   0.0|        0.0|         0.0|                 5.0|    40241.0|        2084.0|   93.5|                     0.0|        0.0|             133.0|               165.0|                  6.0|           6.0|     2.0|                 6.0|                    null|                 23.0|                          null|                  0.0|           4.0|            5.0|        4.0|      8.0|      9.0|          6.0|         16.0|                5.0|     9.0|             0.0|         0.0|               0.0|               3.0|         100.0|            75.0|                 0.0|      0.0|       388681.0|          52877.0|       31900.0|                   26718.0|           null|                    null|                  null|            null|            null|              null|               null|                 null|                            null|                              null|                               null|            N|         null|           null|           null|         null|           null|               null|             null|                   null|           null|        null|                null|                                      null|                          null|                        null|               Cash|                   N|                     null|             null|           null|             null|                 null|           null|\n",
      "|1262689|null|     null|    14750|      14750|        14750.0| 60 months|   24.99|     432.85|    F|       F4|    Police Detective| 10+ years|          RENT|  160000.0|    Source Verified|Apr-2015|Charged Off|         n|null|null|debt_consolidation|  Debt consolidation|   333xx|        FL|11.04|        0.0|        Jun-1997|           2.0|                  60.0|                  46.0|    26.0|    1.0|    10118|      40.8|     53.0|                  f|      0.0|          0.0|        11755.71|       11755.71|        3862.18|      6395.66|               0.0|   1497.87|          269.616599998|    Mar-2017|         432.85|        null|          Sep-2017|                       0.0|                       66.0|          1|      Individual|            null|     null|                     null|           0.0|       341.0|    59561.0|       null|       null|       null|       null|              null|        null|   null|       null|       null|      null|    null|         24800.0|  null|       null|        null|                19.0|     2590.0|        8231.0|   25.8|                     0.0|        0.0|             145.0|               213.0|                  1.0|           1.0|     3.0|                 1.0|                    66.0|                  2.0|                          60.0|                  3.0|           1.0|            9.0|        6.0|     12.0|     17.0|         17.0|         33.0|                9.0|    26.0|             0.0|         0.0|               0.0|              10.0|          91.7|            25.0|                 1.0|      0.0|        83494.0|          59561.0|       11100.0|                   58694.0|           null|                    null|                  null|            null|            null|              null|               null|                 null|                            null|                              null|                               null|            N|         null|           null|           null|         null|           null|               null|             null|                   null|           null|        null|                null|                                      null|                          null|                        null|               Cash|                   N|                     null|             null|           null|             null|                 null|           null|\n",
      "|1094496|null|     null|    20000|      20000|        20000.0| 60 months|    7.89|     404.48|    A|       A5|                null|      null|           OWN|   72000.0|       Not Verified|Aug-2015|    Current|         n|null|null|debt_consolidation|  Debt consolidation|   280xx|        NC|28.58|        0.0|        Jul-1994|           0.0|                  null|                  null|    18.0|    0.0|   126901|      39.6|     48.0|                  f|  6844.87|      6844.87|        16979.39|       16979.39|       13155.13|      3824.26|               0.0|       0.0|                    0.0|    Feb-2019|         404.48|    Mar-2019|          Feb-2019|                       0.0|                       null|          1|      Individual|            null|     null|                     null|           0.0|         0.0|   148733.0|       null|       null|       null|       null|              null|        null|   null|       null|       null|      null|    null|        207100.0|  null|       null|        null|                 2.0|     8749.0|       50728.0|   41.2|                     0.0|        0.0|             133.0|               253.0|                 45.0|           2.0|     2.0|                51.0|                    null|                 12.0|                          null|                  0.0|           5.0|           10.0|        8.0|     15.0|     12.0|         16.0|         34.0|               10.0|    18.0|             0.0|         0.0|               0.0|               1.0|         100.0|             0.0|                 0.0|      0.0|       236807.0|         148733.0|       86300.0|                   29707.0|           null|                    null|                  null|            null|            null|              null|               null|                 null|                            null|                              null|                               null|            N|         null|           null|           null|         null|           null|               null|             null|                   null|           null|        null|                null|                                      null|                          null|                        null|               Cash|                   N|                     null|             null|           null|             null|                 null|           null|\n",
      "| 578794|null|     null|    18000|      18000|        18000.0| 36 months|    7.99|     563.98|    A|       A4| Sr Systems Engineer|  < 1 year|      MORTGAGE|  150000.0|       Not Verified|Jul-2016| Fully Paid|         n|null|null|       credit_card|Credit card refin...|   201xx|        VA| 8.47|        0.0|        Dec-1992|           0.0|                  null|                  null|    11.0|    0.0|    41021|      87.0|     34.0|                  w|      0.0|          0.0| 20243.380006926|       20243.38|        18000.0|      2243.38|               0.0|       0.0|                    0.0|    Jan-2019|        4424.87|        null|          Feb-2019|                       0.0|                       null|          1|      Individual|            null|     null|                     null|           0.0|         0.0|   460185.0|        1.0|        1.0|        0.0|        1.0|              14.0|      5526.0|   99.0|        2.0|        3.0|   14133.0|    87.0|         47200.0|   0.0|        2.0|         2.0|                 5.0|    46018.0|        7850.0|   99.0|                     0.0|        0.0|             178.0|               283.0|                  1.0|           1.0|     7.0|                43.0|                    null|                 11.0|                          null|                  0.0|           4.0|            8.0|       12.0|     12.0|      4.0|          8.0|         24.0|                8.0|    10.0|            null|         0.0|               0.0|               3.0|         100.0|           100.0|                 0.0|      0.0|       471878.0|          46547.0|       31400.0|                    5593.0|           null|                    null|                  null|            null|            null|              null|               null|                 null|                            null|                              null|                               null|            N|         null|           null|           null|         null|           null|               null|             null|                   null|           null|        null|                null|                                      null|                          null|                        null|               Cash|                   N|                     null|             null|           null|             null|                 null|           null|\n",
      "|1421198|null|     null|    16000|      16000|        16000.0| 36 months|    8.24|     503.16|    B|       B1|                  RN|   2 years|      MORTGAGE|  115000.0|           Verified|Jan-2017|    Current|         n|null|null|       credit_card|Credit card refin...|   804xx|        CO|22.16|        1.0|        Oct-2004|           0.0|                  18.0|                  null|    15.0|    0.0|    95340|      87.0|     32.0|                  w|  5313.17|      5313.17|        12564.35|       12564.35|       10686.83|      1877.52|               0.0|       0.0|                    0.0|    Feb-2019|         503.16|    Mar-2019|          Feb-2019|                       1.0|                        4.0|          1|      Individual|            null|     null|                     null|           0.0|       113.0|   680096.0|        0.0|        9.0|        0.0|        1.0|              19.0|    186466.0|  102.0|        0.0|        1.0|    8075.0|    87.0|        109400.0|   0.0|        0.0|         1.0|                 2.0|    45339.0|        5917.0|   89.0|                     0.0|        0.0|             147.0|               101.0|                 13.0|          13.0|     2.0|                34.0|                    null|                 10.0|                          null|                  0.0|           3.0|            5.0|        5.0|      5.0|     21.0|          5.0|         10.0|                4.0|    15.0|            null|         0.0|               1.0|               0.0|         100.0|           100.0|                 0.0|      0.0|       704647.0|         202182.0|       17750.0|                  182747.0|           null|                    null|                  null|            null|            null|              null|               null|                 null|                            null|                              null|                               null|            N|         null|           null|           null|         null|           null|               null|             null|                   null|           null|        null|                null|                                      null|                          null|                        null|               Cash|                   N|                     null|             null|           null|             null|                 null|           null|\n",
      "|1228621|null|     null|    30000|      30000|        30000.0| 60 months|   17.86|     759.52|    D|       D5|        truck driver|   9 years|      MORTGAGE|   70000.0|           Verified|May-2015| Fully Paid|         n|null|null|debt_consolidation|  Debt consolidation|   448xx|        OH|17.16|        0.0|        Feb-1999|           0.0|                  39.0|                  null|     8.0|    0.0|     8285|      39.3|     11.0|                  w|      0.0|          0.0| 40739.869618519|       40739.87|        30000.0|     10739.87|               0.0|       0.0|                    0.0|    Oct-2017|       19510.66|        null|          Sep-2018|                       0.0|                       null|          1|      Individual|            null|     null|                     null|           0.0|        25.0|   187101.0|       null|       null|       null|       null|              null|        null|   null|       null|       null|      null|    null|         21100.0|  null|       null|        null|                 5.0|    23388.0|        9490.0|   40.7|                     0.0|        0.0|              88.0|                90.0|                 15.0|           3.0|     4.0|                83.0|                    39.0|                  5.0|                          39.0|                  0.0|           2.0|            3.0|        2.0|      2.0|      3.0|          4.0|          4.0|                3.0|     8.0|             0.0|         0.0|               0.0|               2.0|          81.8|            50.0|                 0.0|      0.0|       212160.0|          43790.0|       16000.0|                   39560.0|           null|                    null|                  null|            null|            null|              null|               null|                 null|                            null|                              null|                               null|            N|         null|           null|           null|         null|           null|               null|             null|                   null|           null|        null|                null|                                      null|                          null|                        null|               Cash|                   N|                     null|             null|           null|             null|                 null|           null|\n",
      "| 992325|null|     null|    12000|      12000|        12000.0| 36 months|   13.18|     405.37|    C|       C3|    Warehouse Worker|   4 years|      MORTGAGE|   50000.0|    Source Verified|Nov-2015|Charged Off|         n|null|null|debt_consolidation|  Debt consolidation|   350xx|        AL|33.94|        0.0|        Oct-1999|           0.0|                  null|                  null|     7.0|    0.0|     7305|      78.0|     11.0|                  f|      0.0|          0.0|        11750.75|       11750.75|        9281.66|      2469.09|               0.0|       0.0|                    0.0|    Apr-2018|         405.37|        null|          Mar-2018|                       0.0|                       45.0|          1|      Individual|            null|     null|                     null|           0.0|         0.0|   185104.0|       null|       null|       null|       null|              null|        null|   null|       null|       null|      null|    null|          9400.0|  null|       null|        null|                 6.0|    26443.0|        2350.0|   78.0|                     0.0|        0.0|              88.0|               193.0|                  6.0|           6.0|     1.0|                 6.0|                    null|                  7.0|                          null|                  0.0|           4.0|            4.0|        4.0|      4.0|      5.0|          4.0|          5.0|                4.0|     7.0|            null|         0.0|               0.0|               4.0|         100.0|            75.0|                 0.0|      0.0|       194944.0|          79676.0|        9400.0|                   79501.0|           null|                    null|                  null|            null|            null|              null|               null|                 null|                            null|                              null|                               null|            N|         null|           null|           null|         null|           null|               null|             null|                   null|           null|        null|                null|                                      null|                          null|                        null|               Cash|                   N|                     null|             null|           null|             null|                 null|           null|\n",
      "|  93762|null|     null|     5000|       5000|         5000.0| 36 months|   11.55|      165.0|    B|       B4|             Manager|   9 years|      MORTGAGE|   75000.0|    Source Verified|Oct-2018|    Current|         n|null|null|       credit_card|Credit card refin...|   310xx|        GA|25.71|        0.0|        Jan-1991|           3.0|                  25.0|                  null|     9.0|    0.0|      206|       0.9|     21.0|                  w|  4525.71|      4525.71|          656.79|         656.79|         474.29|        182.5|               0.0|       0.0|                    0.0|    Feb-2019|          165.0|    Mar-2019|          Feb-2019|                       0.0|                       25.0|          1|      Individual|            null|     null|                     null|           0.0|         0.0|   372970.0|        0.0|        2.0|        1.0|        2.0|               8.0|     84916.0|   null|        0.0|        1.0|      89.0|     1.0|         23600.0|   4.0|        0.0|         6.0|                 3.0|    41441.0|       11011.0|    0.8|                     0.0|        0.0|              45.0|               333.0|                 16.0|           8.0|     4.0|               167.0|                    27.0|                  0.0|                          27.0|                  1.0|           1.0|            2.0|        3.0|      7.0|      5.0|          6.0|         11.0|                2.0|     9.0|             0.0|         0.0|               0.0|               1.0|          81.0|             0.0|                 0.0|      0.0|       432964.0|          85122.0|       11100.0|                   99154.0|           null|                    null|                  null|            null|            null|              null|               null|                 null|                            null|                              null|                               null|            N|         null|           null|           null|         null|           null|               null|             null|                   null|           null|        null|                null|                                      null|                          null|                        null|               Cash|                   N|                     null|             null|           null|             null|                 null|           null|\n",
      "| 754133|null|     null|    35000|      35000|        35000.0| 60 months|   10.75|     756.63|    B|       B4|      Senior Counsel|   5 years|      MORTGAGE|  197000.0|           Verified|Mar-2016|    Current|         n|null|null|       credit_card|Credit card refin...|   069xx|        CT|19.05|        0.0|        Nov-1998|           3.0|                  null|                  null|    10.0|    0.0|    73019|      63.0|     28.0|                  w| 16879.78|     16879.78|        26461.15|       26461.15|       18120.22|      8340.93|               0.0|       0.0|                    0.0|    Feb-2019|         756.63|    Mar-2019|          Feb-2019|                       0.0|                       null|          1|      Individual|            null|     null|                     null|           0.0|         0.0|   968955.0|        1.0|        2.0|        1.0|        1.0|               7.0|     95650.0|   71.0|        1.0|        1.0|   48845.0|    63.0|        115200.0|   0.0|        1.0|         3.0|                 2.0|    96895.0|       22840.0|   64.0|                     0.0|        0.0|             162.0|               207.0|                  5.0|           5.0|     2.0|                 5.0|                    null|                  5.0|                          null|                  0.0|           5.0|            6.0|       10.0|     10.0|      7.0|          6.0|         17.0|                3.0|    10.0|            null|         0.0|               0.0|               2.0|         100.0|            20.0|                 0.0|      0.0|      1090496.0|         168669.0|      114200.0|                  133796.0|           null|                    null|                  null|            null|            null|              null|               null|                 null|                            null|                              null|                               null|            N|         null|           null|           null|         null|           null|               null|             null|                   null|           null|        null|                null|                                      null|                          null|                        null|               Cash|                   N|                     null|             null|           null|             null|                 null|           null|\n",
      "|1815417|null|     null|    25000|      25000|        25000.0| 60 months|   17.77|     631.72|    D|       D1| Transfield Services|   5 years|      MORTGAGE|  104000.0|           Verified|Dec-2012| Fully Paid|         n|null|null|debt_consolidation|Debt Consolidatio...|   928xx|        CA| 16.7|        0.0|        Mar-1994|           3.0|                  null|                  null|    13.0|    0.0|    45794|      75.3|     33.0|                  f|      0.0|          0.0|        35966.74|       35966.74|        25000.0|     10966.74|               0.0|       0.0|                    0.0|    Mar-2016|       11961.38|        null|          Mar-2016|                       0.0|                       null|          1|      Individual|            null|     null|                     null|           0.0|         0.0|   460458.0|       null|       null|       null|       null|              null|        null|   null|       null|       null|      null|    null|         60800.0|  null|       null|        null|                 8.0|    41860.0|        8335.0|   57.9|                     0.0|        0.0|             134.0|               228.0|                  1.0|           1.0|     6.0|                 6.0|                    null|                  1.0|                          null|                  0.0|           3.0|            6.0|        4.0|     11.0|      7.0|          9.0|         20.0|                6.0|    13.0|             0.0|         0.0|               0.0|               4.0|          96.0|            66.7|                 0.0|      0.0|       493737.0|         113639.0|       19800.0|                   82937.0|           null|                    null|                  null|            null|            null|              null|               null|                 null|                            null|                              null|                               null|            N|         null|           null|           null|         null|           null|               null|             null|                   null|           null|        null|                null|                                      null|                          null|                        null|               Cash|                   N|                     null|             null|           null|             null|                 null|           null|\n",
      "+-------+----+---------+---------+-----------+---------------+----------+--------+-----------+-----+---------+--------------------+----------+--------------+----------+-------------------+--------+-----------+----------+----+----+------------------+--------------------+--------+----------+-----+-----------+----------------+--------------+----------------------+----------------------+--------+-------+---------+----------+---------+-------------------+---------+-------------+----------------+---------------+---------------+-------------+------------------+----------+-----------------------+------------+---------------+------------+------------------+--------------------------+---------------------------+-----------+----------------+----------------+---------+-------------------------+--------------+------------+-----------+-----------+-----------+-----------+-----------+------------------+------------+-------+-----------+-----------+----------+--------+----------------+------+-----------+------------+--------------------+-----------+--------------+-------+------------------------+-----------+------------------+--------------------+---------------------+--------------+--------+--------------------+------------------------+---------------------+------------------------------+---------------------+--------------+---------------+-----------+---------+---------+-------------+-------------+-------------------+--------+----------------+------------+------------------+------------------+--------------+----------------+--------------------+---------+---------------+-----------------+--------------+--------------------------+---------------+------------------------+----------------------+----------------+----------------+------------------+-------------------+---------------------+--------------------------------+----------------------------------+-----------------------------------+-------------+-------------+---------------+---------------+-------------+---------------+-------------------+-----------------+-----------------------+---------------+------------+--------------------+------------------------------------------+------------------------------+----------------------------+-------------------+--------------------+-------------------------+-----------------+---------------+-----------------+---------------------+---------------+\n",
      "only showing top 20 rows\n",
      "\n",
      "total colums in dataset is:  146\n"
     ]
    },
    {
     "name": "stdout",
     "output_type": "stream",
     "text": [
      "total row count in dataset is:  100000\n"
     ]
    }
   ],
   "source": [
    "# Union the DataFrames\n",
    "union_df = df.union(df_2)\n",
    "\n",
    "# Show the resulting DataFrame\n",
    "union_df.show()\n",
    "\n",
    "num_columns = len(union_df.columns)\n",
    "print(f\"total colums in dataset is: \" ,num_columns)\n",
    "\n",
    "row_count = union_df.count()\n",
    "print(f\"total row count in dataset is: \" ,row_count)\n",
    "\n",
    "# modify this portion to change what data is being used. \n",
    "# the frames will havr to be rerun) \n"
   ]
  },
  {
   "cell_type": "code",
   "execution_count": null,
   "id": "18a43b35-9b4b-4914-af18-59ed8d63257c",
   "metadata": {},
   "outputs": [
    {
     "name": "stderr",
     "output_type": "stream",
     "text": [
      "24/05/26 11:42:10 WARN CSVHeaderChecker: CSV header does not conform to the schema.\n",
      " Header: \n",
      " Schema: _c0\n",
      "Expected: _c0 but found: \n",
      "CSV file: file:///home/ubuntu/722_BDAS/output_file_first_half.csv\n",
      "24/05/26 11:42:10 WARN CSVHeaderChecker: CSV header does not conform to the schema.\n",
      " Header: \n",
      " Schema: _c0\n",
      "Expected: _c0 but found: \n",
      "CSV file: file:///home/ubuntu/722_BDAS/output_file_second_half.csv\n",
      "                                                                                \r"
     ]
    }
   ],
   "source": [
    "from pyspark.sql.functions import col, count, when\n",
    "\n",
    "\n",
    "# Calculate the total number of rows\n",
    "total_rows = union_df.count()\n",
    "\n",
    "# Calculate the threshold for 95% non-null values\n",
    "threshold = 0.95 * total_rows\n",
    "\n",
    "# Initialize a list to store columns to keep\n",
    "columns_to_keep = []\n",
    "\n",
    "# Check each column's non-null count against the threshold\n",
    "for column in union_df.columns:\n",
    "    non_null_count = union_df.filter(col(column).isNotNull()).count()\n",
    "    if non_null_count >= threshold:\n",
    "        columns_to_keep.append(column)\n",
    "\n",
    "# Select only the columns that meet the threshold\n",
    "filtered_df = union_df.select(columns_to_keep)\n",
    "\n",
    "# Show the resulting DataFrame\n",
    "filtered_df.show()\n",
    "\n",
    "\n"
   ]
  },
  {
   "cell_type": "code",
   "execution_count": null,
   "id": "b3851ac7-fe04-45bc-aa22-32f8d2f464bf",
   "metadata": {},
   "outputs": [],
   "source": []
  },
  {
   "cell_type": "code",
   "execution_count": null,
   "id": "b5a249af-0f57-457f-b710-259d50cbf86e",
   "metadata": {},
   "outputs": [],
   "source": [
    "# show the size of the dataframe \n",
    "# Get the total number of columns\n",
    "num_columns = len(filtered_df.columns)\n",
    "print(f\"total colums in dataset {file_path2} is: \" ,num_columns)\n",
    "\n",
    "filtered_df.printSchema()"
   ]
  },
  {
   "cell_type": "markdown",
   "id": "22561b3b-dac3-460d-b264-0e8010f5554e",
   "metadata": {},
   "source": [
    "# Reducing data attributes"
   ]
  },
  {
   "cell_type": "code",
   "execution_count": null,
   "id": "d8ec9d86-29cc-4c70-b0ae-599616001e65",
   "metadata": {},
   "outputs": [],
   "source": [
    "attributes_to_remove = [\n",
    "    \n",
    "'addr_state',\n",
    "\n",
    "'avg_cur_bal' ,\n",
    "\n",
    "'collection_recovery_fee' ,\n",
    "\n",
    "'debt_settlement_flag' ,\n",
    "\n",
    "'delinq_amnt' ,\n",
    "\n",
    "'emp_title' ,\n",
    "\n",
    "'funded_amnt' ,\n",
    "\n",
    "'funded_amnt_inv' ,\n",
    "\n",
    "'hardship_flag' ,\n",
    "\n",
    "'initial_list_status' ,\n",
    "\n",
    "'inq_last_6mths' ,\n",
    "\n",
    "'installment' ,\n",
    "\n",
    "'issue_d' ,\n",
    "\n",
    "'last_credit_pull_d' ,\n",
    "\n",
    "'last_pymnt_amnt' ,\n",
    "\n",
    "'last_pymnt_d' ,\n",
    "\n",
    "'mo_sin_old_il_acct' ,\n",
    "\n",
    "'mo_sin_old_rev_tl_op' ,\n",
    "\n",
    "'mo_sin_rcnt_rev_tl_op' ,\n",
    "\n",
    "'mo_sin_rcnt_tl' ,\n",
    "\n",
    "'mths_since_rcnt_il' ,\n",
    "\n",
    "'mths_since_recent_bc' ,\n",
    "\n",
    "'mths_since_recent_inq' ,\n",
    "\n",
    "'num_accts_ever_120_pd' ,\n",
    "\n",
    "'num_rev_accts' ,\n",
    "\n",
    "'num_rev_tl_bal_gt_0' ,\n",
    "\n",
    "'num_tl_120dpd_2m' \n",
    "\n",
    "]\n",
    "\n",
    "\n",
    "filtered_df = filtered_df.drop(*attributes_to_remove)"
   ]
  },
  {
   "cell_type": "code",
   "execution_count": null,
   "id": "b1e9fe7a-664d-4780-825b-4eb0d5926e0a",
   "metadata": {},
   "outputs": [],
   "source": [
    "# show the size of the dataframe \n",
    "# Get the total number of columns\n",
    "num_columns = len(filtered_df.columns)\n",
    "print(f\"total colums in dataset {file_path2} is: \" ,num_columns)\n",
    "\n",
    "filtered_df.printSchema()"
   ]
  },
  {
   "cell_type": "code",
   "execution_count": null,
   "id": "c45e7e41-a979-4bc1-afa4-cccae87bd709",
   "metadata": {},
   "outputs": [],
   "source": [
    "attributes_to_remove = [\n",
    "    \n",
    "'num_tl_30dpd' \n",
    "\n",
    "'num_tl_90g_dpd_24m',\n",
    "\n",
    "'num_tl_op_past_12m' ,\n",
    "\n",
    "'open_act_il' ,\n",
    "\n",
    "'open_il_12m' ,\n",
    "\n",
    "'open_rv_12m' ,\n",
    "\n",
    "'out_prncp' ,\n",
    "\n",
    "'out_prncp_inv' ,\n",
    "\n",
    "'policy_code' ,\n",
    "\n",
    "'pymnt_plan' ,\n",
    "\n",
    "'recoveries' ,\n",
    "\n",
    "'sub_grade' ,\n",
    "\n",
    "'tesr' ,\n",
    "\n",
    "'tot_coll_amt' ,\n",
    "\n",
    "'total_bal_ex_mort' ,\n",
    "\n",
    "'total_bal_il' ,\n",
    "\n",
    "'total_cu_tl' ,\n",
    "\n",
    "'total_il_high_credit_limit' ,\n",
    "\n",
    "'total_pymnt' ,\n",
    "\n",
    "'total_pymnt_inv' ,\n",
    "\n",
    "'total_rec_int' ,\n",
    "\n",
    "'total_rec_late_fee' ,\n",
    "\n",
    "'total_rec_prncp' ,\n",
    "\n",
    "'total_rev_hi_lim' ,\n",
    "\n",
    "'zip_code' ,\n",
    "]\n",
    "\n",
    "    \n",
    "filtered_df = filtered_df.drop(*attributes_to_remove)"
   ]
  },
  {
   "cell_type": "code",
   "execution_count": null,
   "id": "ccc87ed3-e218-43cf-b2d7-9492b8054e13",
   "metadata": {},
   "outputs": [],
   "source": [
    "# show the size of the dataframe \n",
    "# Get the total number of columns\n",
    "num_columns = len(filtered_df.columns)\n",
    "print(f\"total colums in dataset {file_path2} is: \" ,num_columns)\n",
    "\n",
    "filtered_df.printSchema()"
   ]
  },
  {
   "cell_type": "code",
   "execution_count": null,
   "id": "e1fee402-68e6-4dc3-8317-8ea25c2763df",
   "metadata": {},
   "outputs": [],
   "source": [
    "# Get the number of rows\n",
    "num_rows = filtered_df.count()\n",
    "\n",
    "# Get the number of columns\n",
    "num_cols = len(filtered_df.columns)\n",
    "# Print the shape of the DataFrame\n",
    "print(f\"DataFrame shape: ({num_rows}, {num_cols})\")"
   ]
  },
  {
   "cell_type": "code",
   "execution_count": null,
   "id": "e7ac3467-96bd-45f7-8eb3-a0ade24778f6",
   "metadata": {},
   "outputs": [],
   "source": [
    "# Remove entries with 'Current' as loan status\n",
    "filtered_df = filtered_df.filter(filtered_df.loan_status != 'Current')\n",
    "\n",
    "\n",
    "variable = 'loan_status'\n",
    "categorical_counts = filtered_df.groupBy(variable).count()\n",
    "categorical_counts.show()\n",
    "\n",
    "import plotly.express as px\n",
    "\n",
    "# Collect the data to the driver\n",
    "aggregated_data = categorical_counts.collect()\n",
    "\n",
    "\n",
    "# Extract term names and counts\n",
    "terms = [row['loan_status'] for row in aggregated_data]\n",
    "counts = [row['count'] for row in aggregated_data]\n",
    "\n",
    "# Create a Plotly bar chart\n",
    "fig = px.bar(x=terms, y=counts, labels={'x': 'status', 'y': 'Count'}, title = variable)\n",
    "\n",
    "\n",
    "# Show the plot\n",
    "fig.show()\n"
   ]
  },
  {
   "cell_type": "code",
   "execution_count": null,
   "id": "d1de3875-3e16-4b19-9d6d-413119092fe5",
   "metadata": {},
   "outputs": [],
   "source": [
    "# Get the number of rows\n",
    "num_rows = filtered_df.count()\n",
    "\n",
    "# Get the number of columns\n",
    "num_cols = len(filtered_df.columns)\n",
    "# Print the shape of the DataFrame\n",
    "print(f\"DataFrame shape: ({num_rows}, {num_cols})\")"
   ]
  },
  {
   "cell_type": "markdown",
   "id": "8fdb69ad-9186-4242-8b05-ab5cb78088ba",
   "metadata": {},
   "source": [
    "# show null counts "
   ]
  },
  {
   "cell_type": "code",
   "execution_count": null,
   "id": "67a2c20f-bd85-452e-ab71-4d4a4f7f9699",
   "metadata": {},
   "outputs": [],
   "source": [
    "# Calculate number of nulls for each column\n",
    "null_counts = filtered_df.select([count(when(col(c).isNull(), c)).alias(c) for c in filtered_df.columns])\n",
    "\n",
    "# Show the result\n",
    "null_counts.show()"
   ]
  },
  {
   "cell_type": "code",
   "execution_count": null,
   "id": "dcf0b770-7ffd-4a36-a894-cfd8b4d7d078",
   "metadata": {},
   "outputs": [],
   "source": []
  },
  {
   "cell_type": "code",
   "execution_count": null,
   "id": "828dde4c-83ec-4d0c-ba02-e2d23ff6448d",
   "metadata": {},
   "outputs": [],
   "source": [
    "from pyspark.sql.types import StringType, IntegerType\n",
    "\n",
    "string_cols = [field.name for field in filtered_df.schema.fields if isinstance(field.dataType, StringType)]\n",
    "\n",
    "for col_name in string_cols:\n",
    "    mode_value_row = filtered_df.groupBy(col_name).count().orderBy('count', ascending=False).first()\n",
    "    if mode_value_row is not None:\n",
    "        mode_value = mode_value_row[0]\n",
    "        if mode_value is not None:\n",
    "            filtered_df = filtered_df.fillna(mode_value, subset=[col_name])\n",
    "\n",
    "# Calculate number of nulls for each column\n",
    "null_counts = filtered_df.select([count(when(col(c).isNull(), c)).alias(c) for c in filtered_df.columns])\n",
    "\n",
    "# Show the result\n",
    "null_counts.show()"
   ]
  },
  {
   "cell_type": "code",
   "execution_count": null,
   "id": "f14af4c2-a3df-41dd-bd61-c8d8992e5502",
   "metadata": {},
   "outputs": [],
   "source": [
    "from pyspark.sql.functions import col, mean, count\n",
    "from pyspark.sql.types import StringType, IntegerType, DoubleType\n",
    "# Fill null values for integer columns\n",
    "int_cols = [field.name for field in filtered_df.schema.fields if isinstance(field.dataType, (IntegerType, DoubleType))]\n",
    "\n",
    "for col_name in int_cols:\n",
    "    mean_value = filtered_df.select(mean(col(col_name))).first()[0]\n",
    "    if mean_value is not None:\n",
    "        filtered_df = filtered_df.fillna(mean_value, subset=[col_name])\n",
    "\n",
    "# Calculate number of nulls for each column\n",
    "null_counts = filtered_df.select([count(when(col(c).isNull(), c)).alias(c) for c in filtered_df.columns])\n",
    "\n",
    "# Convert the null counts DataFrame to a list of tuples\n",
    "null_counts_list = [(row[c], c) for c in null_counts.columns for row in null_counts.collect() if row[c] > 0]\n",
    "\n",
    "# Filter and show only attribute names with nulls\n",
    "null_counts_with_names = spark.createDataFrame(null_counts_list, schema=[\"null_count\", \"column_name\"])\n",
    "null_counts_with_names.show()"
   ]
  },
  {
   "cell_type": "code",
   "execution_count": null,
   "id": "5603b7ca-f6bc-461d-a507-749065f1cafc",
   "metadata": {},
   "outputs": [],
   "source": [
    "filtered_df = filtered_df.drop('tot_cur_bal')\n",
    "\n",
    "# Calculate number of nulls for each column\n",
    "null_counts = filtered_df.select([count(when(col(c).isNull(), c)).alias(c) for c in filtered_df.columns])\n",
    "\n",
    "# Show the result\n",
    "null_counts.show()"
   ]
  },
  {
   "cell_type": "markdown",
   "id": "fda97ab5-13a5-4764-b38d-e0d9cecbdd03",
   "metadata": {},
   "source": [
    "# grouping variables"
   ]
  },
  {
   "cell_type": "code",
   "execution_count": null,
   "id": "dfcbf4cc-d878-46c9-a42d-4fdc5032e94e",
   "metadata": {},
   "outputs": [],
   "source": [
    "variable = 'loan_status'\n",
    "categorical_counts = filtered_df.groupBy(variable).count()\n",
    "categorical_counts.show()"
   ]
  },
  {
   "cell_type": "code",
   "execution_count": null,
   "id": "eb9db4bf-5b38-4de0-b0fc-770abdc6b6b4",
   "metadata": {},
   "outputs": [],
   "source": [
    "# Group values of 'loan_status' attribute into fewer categories\n",
    "filtered_df = filtered_df.withColumn(\n",
    "    'loan_status',\n",
    "    when(col('loan_status').isin('Fully Paid'), 'Fully Paid')\n",
    "    .otherwise('Charged Off')\n",
    ")\n",
    "\n",
    "#variable = 'loan_status_grouped'\n",
    "variable = 'loan_status'\n",
    "categorical_counts = filtered_df.groupBy(variable).count()\n",
    "categorical_counts.show()"
   ]
  },
  {
   "cell_type": "code",
   "execution_count": null,
   "id": "39799eff-6e3f-474a-963d-eb92edf4b90b",
   "metadata": {},
   "outputs": [],
   "source": [
    "variable = 'grade'\n",
    "categorical_counts = filtered_df.groupBy(variable).count()\n",
    "categorical_counts.show()"
   ]
  },
  {
   "cell_type": "markdown",
   "id": "22468971-225e-4e1a-a127-e6aa6f6d7570",
   "metadata": {},
   "source": [
    "# creating new Features"
   ]
  },
  {
   "cell_type": "code",
   "execution_count": null,
   "id": "66267b9a-0ddf-4584-95a3-3d94996672e2",
   "metadata": {},
   "outputs": [],
   "source": [
    "variable = 'tax_liens'\n",
    "categorical_counts = filtered_df.groupBy(variable).count()\n",
    "categorical_counts.show()"
   ]
  },
  {
   "cell_type": "code",
   "execution_count": null,
   "id": "9b92cef3-c3e7-409e-83ba-6b8164ae1dc6",
   "metadata": {},
   "outputs": [],
   "source": [
    "# Transform the specific numerical attribute\n",
    "filtered_df = filtered_df.withColumn(\n",
    "    'tax_liens',\n",
    "    when(col('tax_liens') == 0.0, 'yes').otherwise('no')\n",
    ")\n",
    "\n",
    "variable = 'tax_liens'\n",
    "categorical_counts = filtered_df.groupBy(variable).count()\n",
    "categorical_counts.show()"
   ]
  },
  {
   "cell_type": "code",
   "execution_count": null,
   "id": "8a84cb09-2e20-42a4-8a49-9f03bd68ec8d",
   "metadata": {},
   "outputs": [],
   "source": [
    "variable = 'pub_rec_bankruptcies'\n",
    "categorical_counts = filtered_df.groupBy(variable).count()\n",
    "categorical_counts.show()\n",
    "\n",
    "\n"
   ]
  },
  {
   "cell_type": "code",
   "execution_count": null,
   "id": "37e4d86f-58dd-4953-86b5-ffbe2261337f",
   "metadata": {},
   "outputs": [],
   "source": [
    "# Transform the specific numerical attribute\n",
    "filtered_df = filtered_df.withColumn(\n",
    "    'pub_rec_bankruptcies',\n",
    "    when(col('pub_rec_bankruptcies') == 0.0, 'yes').otherwise('no')\n",
    ")\n",
    "\n",
    "variable = 'pub_rec_bankruptcies'\n",
    "categorical_counts = filtered_df.groupBy(variable).count()\n",
    "categorical_counts.show()\n"
   ]
  },
  {
   "cell_type": "markdown",
   "id": "8b249aea-9f15-48b7-ae22-bcb355053c32",
   "metadata": {},
   "source": [
    "# convert all to integer features "
   ]
  },
  {
   "cell_type": "code",
   "execution_count": null,
   "id": "5c02110e-9cb6-4eb1-a110-cdc6c1bc3fbc",
   "metadata": {},
   "outputs": [],
   "source": [
    "from pyspark.sql import SparkSession\n",
    "from pyspark.sql.types import StringType\n",
    "from pyspark.ml.feature import StringIndexer\n",
    "\n",
    "filtered_df_numerical = filtered_df.select(\"*\")\n",
    "\n",
    "string_cols = [field.name for field in filtered_df_numerical.schema.fields if isinstance(field.dataType, StringType)]\n",
    "\n",
    "# Initialize a list to store the new columns\n",
    "indexed_cols = []\n",
    "\n",
    "# Apply StringIndexer to each string column\n",
    "for col_name in string_cols:\n",
    "    indexer = StringIndexer(inputCol=col_name, outputCol=col_name + \"_indexed\")\n",
    "    filtered_df_numerical = indexer.fit(filtered_df_numerical).transform(filtered_df_numerical)\n",
    "    indexed_cols.append(col_name + \"_indexed\")\n",
    "\n",
    "# Drop the original string columns if you no longer need them\n",
    "filtered_df_numerical = filtered_df_numerical.drop(*string_cols)\n",
    "\n",
    "\n",
    "\n"
   ]
  },
  {
   "cell_type": "code",
   "execution_count": null,
   "id": "033295c3-a63b-4f26-873b-6a1f9eef3002",
   "metadata": {},
   "outputs": [],
   "source": [
    "# Show the resulting DataFrame\n",
    "filtered_df_numerical.show()\n"
   ]
  },
  {
   "cell_type": "code",
   "execution_count": null,
   "id": "8ab73cd8-d0ed-45db-a001-ea171df900c9",
   "metadata": {},
   "outputs": [],
   "source": [
    "filtered_df_numerical.printSchema()\n",
    "\n",
    "\n",
    "variable = 'pub_rec_bankruptcies_indexed'\n",
    "categorical_counts = filtered_df_numerical.groupBy(variable).count()\n",
    "categorical_counts.show()\n"
   ]
  },
  {
   "cell_type": "markdown",
   "id": "ad10ff9d-14a4-4a3b-aace-8470a98bcdbf",
   "metadata": {},
   "source": [
    "# finding corollation"
   ]
  },
  {
   "cell_type": "code",
   "execution_count": null,
   "id": "72e3b783-3445-484d-8b89-79c7eb3ded6f",
   "metadata": {},
   "outputs": [],
   "source": [
    "from pyspark.sql.functions import col\n",
    "from pyspark.sql.types import NumericType\n",
    "\n",
    "# Target variable\n",
    "target_variable = 'loan_status_indexed'\n",
    "\n",
    "# Identify numeric columns\n",
    "numeric_cols = [field.name for field in filtered_df_numerical.schema.fields if isinstance(field.dataType, NumericType) and field.name != target_variable]\n",
    "\n",
    "# Compute correlation with target variable\n",
    "correlations = {col_name: filtered_df_numerical.stat.corr(col_name, target_variable) for col_name in numeric_cols}\n",
    "\n",
    "# Display the correlations\n",
    "for col_name, corr_value in correlations.items():\n",
    "    print(f\"Correlation between {col_name} and {target_variable}: {corr_value}\")"
   ]
  },
  {
   "cell_type": "code",
   "execution_count": null,
   "id": "5b799665-272f-44b6-aeb6-25e4898f6881",
   "metadata": {},
   "outputs": [],
   "source": [
    "from tabulate import tabulate\n",
    "# Calculate absolute correlations and sort them\n",
    "absolute_correlations = {col_name: abs(corr_value) for col_name, corr_value in correlations.items()}\n",
    "sorted_absolute_correlations = sorted(absolute_correlations.items(), key=lambda x: x[1], reverse=True)\n",
    "\n",
    "\n",
    "# Prepare data for tabulation\n",
    "table_data = [(col_name, correlations[col_name], abs_corr_value) for col_name, abs_corr_value in sorted_absolute_correlations]\n",
    "\n",
    "# Print the sorted absolute correlations in a formatted table\n",
    "print(\"\\nSorted absolute correlations with target variable:\")\n",
    "print(tabulate(table_data, headers=[\"Attribute\", \"Correlation\", \"Absolute Correlation\"], tablefmt=\"grid\"))\n"
   ]
  },
  {
   "cell_type": "markdown",
   "id": "2443e267-6ee0-4dfb-a608-77b35ec20cdd",
   "metadata": {},
   "source": [
    "# removinng least corrolating variables. "
   ]
  },
  {
   "cell_type": "code",
   "execution_count": null,
   "id": "a75e47d1-ba6b-48fd-8f67-d4ab09ca2fbc",
   "metadata": {},
   "outputs": [],
   "source": [
    "#collums to drop \n",
    "drop_cols = ['earliest_cr_line_indexed','chargeoff_within_12_mths', 'acc_now_delinq_indexed' ,'num_tl_30dpd' ,'purpose_indexed' ,\n",
    "             'revol_bal_indexed' ,'num_il_tl' ,'total_acc_indexed']\n",
    "\n",
    "# print shape before dropping\n",
    "# Get the number of rows\n",
    "num_rows = filtered_df_numerical.count()\n",
    "\n",
    "# Get the number of columns\n",
    "num_cols = len(filtered_df_numerical.columns)\n",
    "# Print the shape of the DataFrame\n",
    "print(f\"DataFrame shape: ({num_rows}, {num_cols})\")\n",
    "\n",
    "# Drop the original string columns if you no longer need them\n",
    "filtered_df_numerical = filtered_df_numerical.drop(*drop_cols)\n",
    "\n",
    "# print shape before dropping\n",
    "# Get the number of rows\n",
    "num_rows = filtered_df_numerical.count()\n",
    "\n",
    "# Get the number of columns\n",
    "num_cols = len(filtered_df_numerical.columns)\n",
    "# Print the shape of the DataFrame\n",
    "print(f\"DataFrame shape after: ({num_rows}, {num_cols})\")"
   ]
  },
  {
   "cell_type": "markdown",
   "id": "876aedc2-3a5a-46a8-b798-09b19335ddb1",
   "metadata": {},
   "source": [
    "# data projection"
   ]
  },
  {
   "cell_type": "code",
   "execution_count": null,
   "id": "86245c38-8321-4c38-b519-ff1c7458af8a",
   "metadata": {},
   "outputs": [],
   "source": [
    "from pyspark.sql import functions as F\n",
    "\n",
    "undersampled_df = filtered_df_numerical.select(\"*\")\n",
    "\n",
    "# Target variable\n",
    "target_variable = 'loan_status_indexed'\n",
    "\n",
    "# Calculate class counts\n",
    "class_counts = undersampled_df.groupBy(target_variable).count()\n",
    "min_class_count = class_counts.agg(F.min('count')).collect()[0][0]\n",
    "\n",
    "# Perform undersampling\n",
    "undersampled_dfs = []\n",
    "\n",
    "for row in class_counts.collect():\n",
    "    class_value = row[target_variable]\n",
    "    class_count = row['count']\n",
    "    if class_count > min_class_count:\n",
    "        sampled_df = undersampled_df.filter(col(target_variable) == class_value).sample(False, min_class_count / class_count)\n",
    "    else:\n",
    "        sampled_df = undersampled_df.filter(col(target_variable) == class_value)\n",
    "    undersampled_dfs.append(sampled_df)\n",
    "\n",
    "# Combine undersampled dataframes\n",
    "undersampled_df = undersampled_dfs[0]\n",
    "for sampled_df in undersampled_dfs[1:]:\n",
    "    undersampled_df = undersampled_df.union(sampled_df)\n",
    "\n",
    "# Show the result\n",
    "undersampled_df.show()\n",
    "\n",
    "\n"
   ]
  },
  {
   "cell_type": "code",
   "execution_count": null,
   "id": "ddf2f709-d289-42e1-bf29-094510d69830",
   "metadata": {},
   "outputs": [],
   "source": [
    "\n",
    "variable = 'loan_status_indexed'\n",
    "categorical_counts = filtered_df_numerical.groupBy(variable).count()\n",
    "categorical_counts.show()\n",
    "\n",
    "\n",
    "variable = 'loan_status_indexed'\n",
    "categorical_counts = undersampled_df.groupBy(variable).count()\n",
    "categorical_counts.show()\n"
   ]
  },
  {
   "cell_type": "markdown",
   "id": "fd0a48a9-40bd-4cfc-8e48-7b8f902a09e7",
   "metadata": {},
   "source": [
    "# Tree methods"
   ]
  },
  {
   "cell_type": "code",
   "execution_count": null,
   "id": "6da872e5-cb3a-4c2a-b616-81eb1e33109a",
   "metadata": {},
   "outputs": [],
   "source": [
    "# Import VectorAssembler and Vectors\n",
    "from pyspark.ml.linalg import Vectors\n",
    "from pyspark.ml.feature import VectorAssembler"
   ]
  },
  {
   "cell_type": "code",
   "execution_count": null,
   "id": "9e5ae224-81c8-44e6-8ac6-4a5a36d5dc97",
   "metadata": {},
   "outputs": [],
   "source": [
    "# Get the number of rows\n",
    "num_rows = undersampled_df.count()\n",
    "\n",
    "# Get the number of columns\n",
    "num_cols = len(undersampled_df.columns)\n",
    "# Print the shape of the DataFrame\n",
    "print(f\"DataFrame shape: ({num_rows}, {num_cols})\")"
   ]
  },
  {
   "cell_type": "code",
   "execution_count": null,
   "id": "46622e36-58dc-4343-8329-967c99aa6fab",
   "metadata": {},
   "outputs": [],
   "source": [
    "undersampled_df.columns\n",
    "\n"
   ]
  },
  {
   "cell_type": "code",
   "execution_count": null,
   "id": "2a2588f1-449e-4563-af5d-971a34811507",
   "metadata": {},
   "outputs": [],
   "source": [
    "# Check for string columns\n",
    "string_columns = [col for col, dtype in undersampled_df.dtypes if dtype == 'string']\n",
    "\n",
    "if string_columns:\n",
    "    print(f\"The DataFrame has the following string columns: {string_columns}\")\n",
    "else:\n",
    "    print(\"The DataFrame has no string columns.\")"
   ]
  },
  {
   "cell_type": "code",
   "execution_count": null,
   "id": "c969a086-cb1b-42d3-9123-42a833fc4721",
   "metadata": {},
   "outputs": [],
   "source": [
    "# get items that have a low number of unique values \n",
    "from pyspark.sql.functions import countDistinct\n",
    "\n",
    "# # Get distinct counts for each column\n",
    "# for col in undersampled_df.columns:\n",
    "#     distinct_count = undersampled_df.select(countDistinct(col)).collect()[0][0]\n",
    "#     print(f\"Column '{col}' has {distinct_count} distinct values.\")\n",
    "\n",
    "\n",
    "# Function to get attributes with less than a specified number of distinct values\n",
    "def attributes_less_than_distinct(df, threshold):\n",
    "    less_than_threshold = []\n",
    "    for col in df.columns:\n",
    "        distinct_count = df.select(countDistinct(col)).collect()[0][0]\n",
    "        if distinct_count < threshold:\n",
    "            less_than_threshold.append(col)\n",
    "    return less_than_threshold\n",
    "\n",
    "# List of attributes with less than a specified number of distinct values\n",
    "threshold = 32  # Specify the threshold for the number of distinct values\n",
    "attributes = attributes_less_than_distinct(undersampled_df, threshold)\n",
    "print(f\"Attributes with less than {threshold} distinct values:\", attributes)\n"
   ]
  },
  {
   "cell_type": "code",
   "execution_count": null,
   "id": "a1168047-fc55-488f-afd4-c1aecf940466",
   "metadata": {},
   "outputs": [],
   "source": [
    "from pyspark.ml.feature import VectorAssembler, StringIndexer\n",
    "from pyspark.ml.classification import DecisionTreeClassifier, RandomForestClassifier, GBTClassifier\n",
    "from pyspark.ml.evaluation import MulticlassClassificationEvaluator\n",
    "\n",
    "# Combine all features into one vector named features.\n",
    "assembler = VectorAssembler(\n",
    "inputCols=['mort_acc', 'num_actv_bc_tl', 'num_tl_90g_dpd_24m', 'term_indexed', 'grade_indexed', \n",
    "           'home_ownership_indexed',  \n",
    "            'pub_rec_indexed', 'collections_12_mths_ex_med_indexed', \n",
    "           'application_type_indexed', 'pub_rec_bankruptcies_indexed', 'tax_liens_indexed', \n",
    "           'disbursement_method_indexed'],\n",
    "              outputCol=\"features\")\n",
    "\n",
    "#transform the data. \n",
    "output = assembler.transform(undersampled_df)"
   ]
  },
  {
   "cell_type": "code",
   "execution_count": null,
   "id": "2df7d641-baf6-4a5b-baec-7aca65424f4e",
   "metadata": {},
   "outputs": [],
   "source": [
    "# Let's select the two columns we want. Features (which contains vectors), and the predictor.\n",
    "final_data = output.select(\"features\",'loan_status_indexed')"
   ]
  },
  {
   "cell_type": "code",
   "execution_count": null,
   "id": "f9ce7c4d-508c-4d1f-adbc-d91832dc9fdb",
   "metadata": {},
   "outputs": [],
   "source": [
    "# Split the training and testing set.\n",
    "train_data,test_data = final_data.randomSplit([0.7,0.3])"
   ]
  },
  {
   "cell_type": "code",
   "execution_count": null,
   "id": "25c73bef-90c6-4a8a-b88d-4bf52e44e5f0",
   "metadata": {},
   "outputs": [],
   "source": [
    "# Let's import the relevant classifiers. \n",
    "from pyspark.ml.classification import DecisionTreeClassifier,GBTClassifier,RandomForestClassifier\n",
    "from pyspark.ml import Pipeline\n",
    "\n",
    "# Use defaults to make the comparison \"fair\". This simplifies the comparison process.\n",
    "\n",
    "dtc = DecisionTreeClassifier(labelCol='loan_status_indexed',featuresCol='features')\n",
    "rfc = RandomForestClassifier(labelCol='loan_status_indexed',featuresCol='features')\n",
    "gbt = GBTClassifier(labelCol='loan_status_indexed',featuresCol='features')"
   ]
  },
  {
   "cell_type": "code",
   "execution_count": null,
   "id": "f2de3559-ef82-4a85-9c50-92de05e1b238",
   "metadata": {},
   "outputs": [],
   "source": [
    "gbt_model = gbt.fit(train_data)\n",
    "\n"
   ]
  },
  {
   "cell_type": "code",
   "execution_count": null,
   "id": "f2094be7-43a3-4c56-bfda-85a6772bde1b",
   "metadata": {},
   "outputs": [],
   "source": [
    "\n",
    "dtc_model = dtc.fit(train_data)\n",
    "rfc_model = rfc.fit(train_data)\n"
   ]
  },
  {
   "cell_type": "code",
   "execution_count": null,
   "id": "8abf76b4-062c-40bb-a866-073a7b72e86e",
   "metadata": {},
   "outputs": [],
   "source": [
    "dtc_predictions = dtc_model.transform(test_data)\n",
    "rfc_predictions = rfc_model.transform(test_data)\n",
    "gbt_predictions = gbt_model.transform(test_data)"
   ]
  },
  {
   "cell_type": "code",
   "execution_count": null,
   "id": "ad2b4d6c-d1fe-44ea-b708-8ee9844be137",
   "metadata": {},
   "outputs": [],
   "source": [
    "# Let's start off with binary classification.\n",
    "from pyspark.ml.evaluation import BinaryClassificationEvaluator\n",
    "\n",
    "\n",
    "my_binary_eval = BinaryClassificationEvaluator(labelCol = 'loan_status_indexed')"
   ]
  },
  {
   "cell_type": "code",
   "execution_count": null,
   "id": "893532f4-dd35-493a-a119-85ec3c36980e",
   "metadata": {
    "scrolled": true
   },
   "outputs": [],
   "source": [
    "# This is the area under the curve. This indicates that the data is highly seperable.\n",
    "print(\"DTC\")\n",
    "print(my_binary_eval.evaluate(dtc_predictions))\n",
    "\n",
    "# RFC improves accuracy but also model complexity. RFC outperforms DTC in nearly every situation.\n",
    "print(\"RFC\")\n",
    "print(my_binary_eval.evaluate(rfc_predictions))\n",
    "\n",
    "# We can't repeat these exact steps for GBT. If you print the schema of all three, you may be able to notice why.\n",
    "# Instead, let's redefine the object:\n",
    "my_binary_gbt_eval = BinaryClassificationEvaluator(labelCol='loan_status_indexed', rawPredictionCol='prediction')\n",
    "print(\"GBT\")\n",
    "print(my_binary_gbt_eval.evaluate(gbt_predictions))"
   ]
  },
  {
   "cell_type": "code",
   "execution_count": null,
   "id": "70545df6-5871-47ee-9d52-df16706b8863",
   "metadata": {},
   "outputs": [],
   "source": [
    "from pyspark.ml.evaluation import MulticlassClassificationEvaluator\n",
    "\n",
    "# Select (prediction, true label) and compute test error. \n",
    "acc_evaluator = MulticlassClassificationEvaluator(labelCol=\"loan_status_indexed\", predictionCol=\"prediction\", metricName=\"accuracy\")\n",
    "\n",
    "dtc_acc = acc_evaluator.evaluate(dtc_predictions)\n",
    "rfc_acc = acc_evaluator.evaluate(rfc_predictions)\n",
    "gbt_acc = acc_evaluator.evaluate(gbt_predictions)\n",
    "\n",
    "precison_evaluator = MulticlassClassificationEvaluator(labelCol=\"loan_status_indexed\", predictionCol=\"prediction\", metricName=\"weightedPrecision\")\n",
    "dtc_pre = precison_evaluator.evaluate(dtc_predictions)\n",
    "rfc_pre = precison_evaluator.evaluate(rfc_predictions)\n",
    "gbt_pre = precison_evaluator.evaluate(gbt_predictions)\n",
    "\n",
    "recall_evaluator = MulticlassClassificationEvaluator(labelCol=\"loan_status_indexed\", predictionCol=\"prediction\", metricName=\"weightedRecall\")\n",
    "dtc_recall = recall_evaluator.evaluate(dtc_predictions)\n",
    "rfc_recall = recall_evaluator.evaluate(rfc_predictions)\n",
    "gbt_recall = recall_evaluator.evaluate(gbt_predictions)\n",
    "\n",
    "f1_evaluator = MulticlassClassificationEvaluator(labelCol=\"loan_status_indexed\", predictionCol=\"prediction\", metricName=\"f1\")\n",
    "dtc_f1 = f1_evaluator.evaluate(dtc_predictions)\n",
    "rfc_f1 = f1_evaluator.evaluate(rfc_predictions)\n",
    "gbt_f1 = f1_evaluator.evaluate(gbt_predictions)\n",
    "\n",
    "print(\"========================================================================================\")\n",
    "print(\"Results for acc\")\n",
    "print('-'*40)\n",
    "#print('A single decision tree has an accuracy of: {0:2.2f}%'.format(dtc_acc*100))\n",
    "print('-'*40)\n",
    "print('A random forest ensemble has an accuracy of: {0:2.2f}%'.format(rfc_acc*100))\n",
    "# print('-'*40)\n",
    "print('An ensemble using GBT has an accuracy of: {0:2.2f}%'.format(gbt_acc*100))\n",
    "print(\"========================================================================================\")\n",
    "\n",
    "print(\"Results for weightedPrecision\")\n",
    "print('-'*40)\n",
    "#print('A single decision tree has an precision of: {0:2.2f}%'.format(dtc_pre*100))\n",
    "print('-'*40)\n",
    "print('A random forest ensemble has an precision of: {0:2.2f}%'.format(rfc_pre*100))\n",
    "# print('-'*40)\n",
    "print('An ensemble using GBT has an precision of: {0:2.2f}%'.format(gbt_pre*100))\n",
    "print(\"========================================================================================\")\n",
    "\n",
    "print(\"Results for weightedRecall\")\n",
    "print('-'*40)\n",
    "#print('A single decision tree has an recall of: {0:2.2f}%'.format(dtc_recall*100))\n",
    "print('-'*40)\n",
    "print('A random forest ensemble has an recall of: {0:2.2f}%'.format(rfc_recall*100))\n",
    "# print('-'*40)\n",
    "print('An ensemble using GBT has an recall of: {0:2.2f}%'.format(gbt_recall*100))\n",
    "print(\"========================================================================================\")\n",
    "print(\"Results for f1\")\n",
    "print('-'*40)\n",
    "#print('A single decision tree has an f1 score of: {0:2.2f}%'.format(dtc_f1*100))\n",
    "print('-'*40)\n",
    "print('A random forest ensemble has an score of: {0:2.2f}%'.format(rfc_f1*100))\n",
    "# print('-'*40)\n",
    "print('An ensemble using GBT has an score of: {0:2.2f}%'.format(gbt_f1*100))\n",
    "print(\"========================================================================================\")\n"
   ]
  },
  {
   "cell_type": "code",
   "execution_count": null,
   "id": "9993fc07-c40a-4552-bd15-5a0bd0bcbe46",
   "metadata": {},
   "outputs": [],
   "source": [
    "confusion_matrix_df_dtc = dtc_predictions.groupBy('loan_status_indexed').pivot('prediction').count().na.fill(0)\n",
    "confusion_matrix_df_rfc = rfc_predictions.groupBy('loan_status_indexed').pivot('prediction').count().na.fill(0)\n",
    "confusion_matrix_df_gbt = gbt_predictions.groupBy('loan_status_indexed').pivot('prediction').count().na.fill(0)\n",
    "# Show the confusion matrix\n",
    "confusion_matrix_df_dtc.show()\n",
    "confusion_matrix_df_rfc.show()\n",
    "confusion_matrix_df_gbt.show()"
   ]
  },
  {
   "cell_type": "markdown",
   "id": "9c7a1455-c822-425f-bfab-7cbfb1bcfc6e",
   "metadata": {},
   "source": [
    "# getting gbt model importnces"
   ]
  },
  {
   "cell_type": "code",
   "execution_count": null,
   "id": "d656467d-8562-40d0-9657-0367fe0b449d",
   "metadata": {},
   "outputs": [],
   "source": [
    "\n",
    "importances = gbt_model.featureImportances\n",
    "\n",
    "# Get feature names\n",
    "feature_names = ['mort_acc', 'num_actv_bc_tl', 'num_tl_90g_dpd_24m', 'term_indexed', 'grade_indexed', \n",
    "           'home_ownership_indexed',  \n",
    "            'pub_rec_indexed', 'collections_12_mths_ex_med_indexed', \n",
    "           'application_type_indexed', 'pub_rec_bankruptcies_indexed', 'tax_liens_indexed', \n",
    "           'disbursement_method_indexed']\n",
    "\n",
    "# Combine feature names with their importances\n",
    "feature_importances = {feature: importance for feature, importance in zip(feature_names, importances)}\n",
    "\n",
    "# Sort the features by their importances\n",
    "sorted_feature_importances = sorted(feature_importances.items(), key=lambda x: x[1], reverse=True)\n",
    "\n",
    "# Print feature importances\n",
    "for feature, importance in sorted_feature_importances:\n",
    "    print(f\"Feature: {feature}, Importance: {importance}\")\n",
    "    "
   ]
  },
  {
   "cell_type": "markdown",
   "id": "73de736d-7202-4721-875f-82880c9bc879",
   "metadata": {},
   "source": [
    "# getting andom forest importances"
   ]
  },
  {
   "cell_type": "code",
   "execution_count": null,
   "id": "b0bbaf9d-798f-4f48-b2de-e4c95f53d75c",
   "metadata": {},
   "outputs": [],
   "source": [
    "importances = rfc_model.featureImportances\n",
    "\n",
    "# Get feature names\n",
    "feature_names = ['mort_acc', 'num_actv_bc_tl', 'num_tl_90g_dpd_24m', 'term_indexed', 'grade_indexed', \n",
    "           'home_ownership_indexed',  \n",
    "            'pub_rec_indexed', 'collections_12_mths_ex_med_indexed', \n",
    "           'application_type_indexed', 'pub_rec_bankruptcies_indexed', 'tax_liens_indexed', \n",
    "           'disbursement_method_indexed']\n",
    "\n",
    "# Combine feature names with their importances\n",
    "feature_importances = {feature: importance for feature, importance in zip(feature_names, importances)}\n",
    "\n",
    "# Sort the features by their importances\n",
    "sorted_feature_importances = sorted(feature_importances.items(), key=lambda x: x[1], reverse=True)\n",
    "\n",
    "# Print feature importances\n",
    "for feature, importance in sorted_feature_importances:\n",
    "    print(f\"Feature: {feature}, Importance: {importance}\")"
   ]
  },
  {
   "cell_type": "code",
   "execution_count": null,
   "id": "283620b9-1cf5-4482-b74a-9ee5f1b7e1b3",
   "metadata": {},
   "outputs": [],
   "source": []
  }
 ],
 "metadata": {
  "kernelspec": {
   "display_name": "Python 3 (ipykernel)",
   "language": "python",
   "name": "python3"
  },
  "language_info": {
   "codemirror_mode": {
    "name": "ipython",
    "version": 3
   },
   "file_extension": ".py",
   "mimetype": "text/x-python",
   "name": "python",
   "nbconvert_exporter": "python",
   "pygments_lexer": "ipython3",
   "version": "3.10.12"
  }
 },
 "nbformat": 4,
 "nbformat_minor": 5
}
